{
 "cells": [
  {
   "cell_type": "markdown",
   "metadata": {},
   "source": [
    "**You may need to install [OpenCV](https://pypi.python.org/pypi/opencv-python) and [scikit-video](http://www.scikit-video.org/stable/).**"
   ]
  },
  {
   "cell_type": "code",
   "execution_count": 1,
   "metadata": {},
   "outputs": [
    {
     "name": "stderr",
     "output_type": "stream",
     "text": [
      "Using TensorFlow backend.\n"
     ]
    }
   ],
   "source": [
    "import keras\n",
    "import numpy as np\n",
    "import io\n",
    "import base64\n",
    "from IPython.display import HTML\n",
    "import skvideo.io\n",
    "import cv2\n",
    "import json\n",
    "\n",
    "from keras.models import Sequential,model_from_json\n",
    "from keras.layers.core import Dense\n",
    "from keras.optimizers import sgd\n",
    "from keras.optimizers import *\n",
    "from keras import initializers, regularizers, constraints, optimizers, layers\n",
    "from keras.layers import Conv2D, MaxPooling2D, Activation, AveragePooling2D,Reshape,BatchNormalization, Flatten, Dropout"
   ]
  },
  {
   "cell_type": "markdown",
   "metadata": {},
   "source": [
    "# MiniProject on Deep Reinforcement Learning"
   ]
  },
  {
   "cell_type": "markdown",
   "metadata": {},
   "source": [
    "__Notations__: $E_p$ is the expectation under probability $p$. Please justify each of your answer and widely comment your code."
   ]
  },
  {
   "cell_type": "markdown",
   "metadata": {},
   "source": [
    "# Context"
   ]
  },
  {
   "cell_type": "markdown",
   "metadata": {},
   "source": [
    "In a reinforcement learning algorithm, we modelize each step $t$ as an action $a_t$ obtained from a state $s_t$, i.e. $\\{(a_{t},s_{t})_{t\\leq T}\\}$ having the Markov property. We consider a discount factor $\\gamma \\in [0,1]$ that ensures convergence. The goal is to find among all the policies $\\pi$, one that maximizes the expected reward:\n",
    "\n",
    "\\begin{equation*}\n",
    "R(\\pi)=\\sum_{t\\leq T}E_{p^{\\pi}}[\\gamma^t r(s_{t},a_{t})] \\>\n",
    "\\end{equation*}\n",
    "\n",
    "where:\n",
    "\n",
    "\\begin{equation*}\n",
    "p^{\\pi}(a_{0},a_{1},s_{1},...,a_{T},s_{T})=p(a_{0})\\prod_{t=1}^{T}\\pi(a_{t}|s_{t})p(s_{t+1}|s_{t},a_{t}) \\>\n",
    "\\end{equation*}\n",
    "\n",
    "We note the $Q$-function:\n",
    "\n",
    "\\begin{equation*}Q^\\pi(s,a)=E_{p^{\\pi}}[\\sum_{t\\leq T}\\gamma^{t}r(s_{t},a_{t})|s_{0}=s,a_{0}=a] \\>\n",
    "\\end{equation*}\n",
    "\n",
    "Thus, the optimal Q function is:\n",
    "\n",
    "\\begin{equation*}\n",
    "Q^*(s,a)=\\max_{\\pi}Q^\\pi(s,a) \\>\n",
    "\\end{equation*}\n",
    "\n",
    "In this project, we will apply the deep reinforcement learning techniques to a simple game: an agent will have to learn from scratch a policy that will permit it maximizing a reward."
   ]
  },
  {
   "cell_type": "markdown",
   "metadata": {},
   "source": [
    "## The environment, the agent and the game"
   ]
  },
  {
   "cell_type": "markdown",
   "metadata": {},
   "source": [
    "### The environment"
   ]
  },
  {
   "cell_type": "markdown",
   "metadata": {},
   "source": [
    "```Environment``` is an abstract class that represents the states, rewards, and actions to obtain the new state."
   ]
  },
  {
   "cell_type": "code",
   "execution_count": 2,
   "metadata": {},
   "outputs": [],
   "source": [
    "class Environment(object):\n",
    "    def __init__(self):\n",
    "        pass\n",
    "\n",
    "    def act(self, act):\n",
    "        \"\"\"\n",
    "        One can act on the environment and obtain its reaction:\n",
    "        - the new state\n",
    "        - the reward of the new state\n",
    "        - should we continue the game?\n",
    "\n",
    "        :return: state, reward, game_over\n",
    "        \"\"\"\n",
    "        pass\n",
    "\n",
    "\n",
    "    def reset(self):\n",
    "        \"\"\"\n",
    "        Reinitialize the environment to a random state and returns\n",
    "        the original state\n",
    "\n",
    "        :return: state\n",
    "        \"\"\"\n",
    "        pass\n",
    "    \n",
    "    def draw(self):\n",
    "        \"\"\"\n",
    "        Visualize in the console or graphically the current state\n",
    "        \"\"\"\n",
    "        pass"
   ]
  },
  {
   "cell_type": "markdown",
   "metadata": {},
   "source": [
    "The method ```act``` allows to act on the environment at a given state $s_t$ (stored internally), via action $a_t$. The method will return the new state $s_{t+1}$, the reward $r(s_{t},a_{t})$ and determines if $t\\leq T$ (*game_over*).\n",
    "\n",
    "The method ```reset``` simply reinitializes the environment to a random state $s_0$.\n",
    "\n",
    "The method ```draw``` displays the current state $s_t$ (this is useful to check the behavior of the Agent).\n",
    "\n",
    "We modelize $s_t$ as a tensor, while $a_t$ is an integer."
   ]
  },
  {
   "cell_type": "markdown",
   "metadata": {},
   "source": [
    "### The Agent"
   ]
  },
  {
   "cell_type": "markdown",
   "metadata": {},
   "source": [
    "The goal of the ```Agent``` is to interact with the ```Environment``` by proposing actions $a_t$ obtained from a given state $s_t$ to attempt to maximize its __reward__ $r(s_t,a_t)$. We propose the following abstract class:"
   ]
  },
  {
   "cell_type": "code",
   "execution_count": 3,
   "metadata": {},
   "outputs": [],
   "source": [
    "class Agent(object):\n",
    "    def __init__(self, epsilon=0.1, n_action=4):\n",
    "        self.epsilon = epsilon\n",
    "        self.n_action = n_action\n",
    "    \n",
    "    def set_epsilon(self,e):\n",
    "        self.epsilon = e\n",
    "\n",
    "    def act(self,s,train=True):\n",
    "        \"\"\" This function should return the next action to do:\n",
    "        an integer between 0 and 4 (not included) with a random exploration of epsilon\"\"\"\n",
    "        if train:\n",
    "            if np.random.rand() <= self.epsilon:\n",
    "                a = np.random.randint(0, self.n_action, size=1)[0]\n",
    "            else:\n",
    "                a = self.learned_act(s)\n",
    "        else: # in some cases, this can improve the performance.. remove it if poor performances\n",
    "            a = self.learned_act(s)\n",
    "\n",
    "        return a\n",
    "\n",
    "    def learned_act(self,s):\n",
    "        \"\"\" Act via the policy of the agent, from a given state s\n",
    "        it proposes an action a\"\"\"\n",
    "        pass\n",
    "\n",
    "    def reinforce(self, s, n_s, a, r, game_over_):\n",
    "        \"\"\" This function is the core of the learning algorithm. \n",
    "        It takes as an input the current state s_, the next state n_s_\n",
    "        the action a_ used to move from s_ to n_s_ and the reward r_.\n",
    "        \n",
    "        Its goal is to learn a policy.\n",
    "        \"\"\"\n",
    "        pass\n",
    "\n",
    "    def save(self):\n",
    "        \"\"\" This function returns basic stats if applicable: the\n",
    "        loss and/or the model\"\"\"\n",
    "        pass\n",
    "\n",
    "    def load(self):\n",
    "        \"\"\" This function allows to restore a model\"\"\"\n",
    "        pass"
   ]
  },
  {
   "cell_type": "markdown",
   "metadata": {},
   "source": [
    "***\n",
    "__Question 1__:\n",
    "Explain the function act. Why is ```epsilon``` essential?"
   ]
  },
  {
   "cell_type": "markdown",
   "metadata": {},
   "source": [
    "***\n",
    "***\n",
    "# Attention\n",
    "For some unknown reason, the equations are not displayed properly on Github. (For example, the numbers of the equations are not displayed). For a more comfortable reading, I advise to download the file. \n",
    "Thank you for your understanding.\n",
    "***\n",
    "***\n",
    "\n",
    "\n",
    "The function ```act``` should return the next action to do. It takes two parameters :\n",
    "- The state ```s``` of the agent\n",
    "- If we want to train the agent or not\n",
    "\n",
    "#### If the training is already done (```Train = False```)\n",
    "If the agent has already learned the policy, we just want to exploit the policy. By setting, ```Train = False```, the agent selects the best action possible from the state $s$.\n",
    "\n",
    "#### If we want to train the agent (```Train = True```)\n",
    "In this scenario, the agent doesn't know the best policy. He has to find it. To do so, he should explore the environnement, i.e. choose random actions and see what happens. But only exploring is not a good stategy, because we can know for shure that some actions are bad and will not lead to big rewards.\n",
    "\n",
    "A compromise is to choose \"good\" actions most of the time (exploit) and choose random action sometimes (explore). Doing this, we are shure that we explore a region that give big rewards (not just a random region).\n",
    "\n",
    "*Note : By region, I mean a set of actions, not a region of the board.*\n",
    "\n",
    "#### Role of $\\epsilon$\n",
    "$\\epsilon$ is the variable that encode how much the agent is exploring the environnement.\n",
    "It can be a good stategie to decrease its value over time.\n",
    "\n",
    "At the beggining, the agent axplores a lot, i.e. big $\\epsilon$ (because it does not know the environnement at all). Then $\\epsilon$ gradually decrease to promote more explotation."
   ]
  },
  {
   "cell_type": "markdown",
   "metadata": {},
   "source": [
    "***\n",
    "### The Game"
   ]
  },
  {
   "cell_type": "markdown",
   "metadata": {},
   "source": [
    "The ```Agent``` and the ```Environment``` work in an interlaced way as in the following (take some time to understand this code as it is the core of the project)"
   ]
  },
  {
   "cell_type": "markdown",
   "metadata": {},
   "source": [
    "``` python\n",
    "epoch = 300\n",
    "env = Environment()\n",
    "agent = Agent()\n",
    "\n",
    "\n",
    "# Number of won games\n",
    "score = 0\n",
    "loss = 0\n",
    "\n",
    "\n",
    "for e in range(epoch):\n",
    "    # At each epoch, we restart to a fresh game and get the initial state\n",
    "    state = env.reset()\n",
    "    # This assumes that the games will end\n",
    "    game_over = False\n",
    "\n",
    "    win = 0\n",
    "    lose = 0\n",
    "    \n",
    "    while not game_over:\n",
    "        # The agent performs an action\n",
    "        action = agent.act(state)\n",
    "\n",
    "        # Apply an action to the environment, get the next state, the reward\n",
    "        # and if the games end\n",
    "        prev_state = state\n",
    "        state, reward, game_over = env.act(action)\n",
    "\n",
    "        # Update the counters\n",
    "        if reward > 0:\n",
    "            win = win + reward\n",
    "        if reward < 0:\n",
    "            lose = lose -reward\n",
    "\n",
    "        # Apply the reinforcement strategy\n",
    "        loss = agent.reinforce(prev_state, state,  action, reward, game_over)\n",
    "\n",
    "    # Save as a mp4\n",
    "    if e % 10 == 0:\n",
    "        env.draw(e)\n",
    "\n",
    "    # Update stats\n",
    "    score += win-lose\n",
    "\n",
    "    print(\"Epoch {:03d}/{:03d} | Loss {:.4f} | Win/lose count {}/{} ({})\"\n",
    "          .format(e, epoch, loss, win, lose, win-lose))\n",
    "    agent.save()\n",
    "```"
   ]
  },
  {
   "cell_type": "markdown",
   "metadata": {},
   "source": [
    "# The game, *eat cheese*"
   ]
  },
  {
   "cell_type": "markdown",
   "metadata": {},
   "source": [
    "A rat runs on an island and tries to eat as much as possible. The island is subdivided into $N\\times N$ cells, in which there are cheese (+0.5) and poisonous cells (-1). The rat has a visibility of 2 cells (thus it can see $5^2$ cells). The rat is given a time $T$ to accumulate as much food as possible. It can perform 4 actions: going up, down, left, right. \n",
    "\n",
    "The goal is to code an agent to solve this task that will learn by trial and error. We propose the following environment:"
   ]
  },
  {
   "cell_type": "code",
   "execution_count": 4,
   "metadata": {},
   "outputs": [],
   "source": [
    "class Environment(object):\n",
    "    def __init__(self, grid_size=10, max_time=500, temperature=0.1):\n",
    "        grid_size = grid_size+4\n",
    "        self.grid_size = grid_size\n",
    "        self.max_time = max_time\n",
    "        self.temperature = temperature\n",
    "\n",
    "        #board on which one plays\n",
    "        self.board = np.zeros((grid_size,grid_size))\n",
    "        self.position = np.zeros((grid_size,grid_size))\n",
    "\n",
    "        # coordinate of the rat\n",
    "        self.x = 0\n",
    "        self.y = 1\n",
    "\n",
    "        # self time\n",
    "        self.t = 0\n",
    "\n",
    "        self.scale=16\n",
    "\n",
    "        self.to_draw = np.zeros((max_time+2, grid_size*self.scale, grid_size*self.scale, 3))\n",
    "\n",
    "\n",
    "    def draw(self,e):\n",
    "        skvideo.io.vwrite(str(e) + '.mp4', self.to_draw)\n",
    "\n",
    "    def get_frame(self,t):\n",
    "        b = np.zeros((self.grid_size,self.grid_size,3))+128\n",
    "        b[self.board>0,0] = 256\n",
    "        b[self.board < 0, 2] = 256\n",
    "        b[self.x,self.y,:]=256\n",
    "        b[-2:,:,:]=0\n",
    "        b[:,-2:,:]=0\n",
    "        b[:2,:,:]=0\n",
    "        b[:,:2,:]=0\n",
    "        \n",
    "        b =  cv2.resize(b, None, fx=self.scale, fy=self.scale, interpolation=cv2.INTER_NEAREST)\n",
    "\n",
    "        self.to_draw[t,:,:,:]=b\n",
    "\n",
    "\n",
    "    def act(self, action):\n",
    "        \"\"\"This function returns the new state, reward and decides if the\n",
    "        game ends.\"\"\"\n",
    "\n",
    "        self.get_frame(int(self.t))\n",
    "\n",
    "        self.position = np.zeros((self.grid_size, self.grid_size))\n",
    "\n",
    "        self.position[0:2,:]= -1\n",
    "        self.position[:,0:2] = -1\n",
    "        self.position[-2:, :] = -1\n",
    "        self.position[:, -2:] = -1 # Mistake in the original code\n",
    "\n",
    "        self.position[self.x, self.y] = 1\n",
    "        if action == 0:                    # Up\n",
    "            if self.x == self.grid_size-3:\n",
    "            else:\n",
    "                self.x = self.x + 1\n",
    "        elif action == 1:                  # Down\n",
    "            if self.x == 2:\n",
    "                self.x = self.x+1\n",
    "            else:\n",
    "                self.x = self.x-1\n",
    "        elif action == 2:                  # Left\n",
    "            if self.y == self.grid_size - 3:\n",
    "                self.y = self.y - 1\n",
    "            else:\n",
    "                self.y = self.y + 1\n",
    "        elif action == 3:                  # Right\n",
    "            if self.y == 2:\n",
    "                self.y = self.y + 1\n",
    "            else:\n",
    "                self.y = self.y - 1\n",
    "        else:\n",
    "            RuntimeError('Error: action not recognized')\n",
    "\n",
    "        self.t = self.t + 1\n",
    "        reward = self.board[self.x, self.y]\n",
    "        self.board[self.x, self.y] = 0\n",
    "        game_over = self.t > self.max_time\n",
    "        state = np.concatenate((self.board.reshape(self.grid_size, self.grid_size,1),\n",
    "                        self.position.reshape(self.grid_size, self.grid_size,1)),axis=2)\n",
    "        state = state[self.x-2:self.x+3,self.y-2:self.y+3,:]\n",
    "\n",
    "        return state, reward, game_over\n",
    "\n",
    "    def reset(self):\n",
    "        \"\"\"This function resets the game and returns the initial state\"\"\"\n",
    "\n",
    "        self.x = np.random.randint(3, self.grid_size-3, size=1)[0]\n",
    "        self.y = np.random.randint(3, self.grid_size-3, size=1)[0]\n",
    "\n",
    "\n",
    "        bonus = 0.5*np.random.binomial(1,self.temperature,size=self.grid_size**2)\n",
    "        bonus = bonus.reshape(self.grid_size,self.grid_size)\n",
    "\n",
    "        malus = -1.0*np.random.binomial(1,self.temperature,size=self.grid_size**2)\n",
    "        malus = malus.reshape(self.grid_size, self.grid_size)\n",
    "\n",
    "        self.to_draw = np.zeros((self.max_time+2, self.grid_size*self.scale, self.grid_size*self.scale, 3))\n",
    "\n",
    "\n",
    "        malus[bonus>0]=0 # If their is already a bonus on the cell, no malus\n",
    "        self.board = bonus + malus\n",
    "\n",
    "        self.position = np.zeros((self.grid_size, self.grid_size))\n",
    "        self.position[0:2,:]= -1\n",
    "        self.position[:,0:2] = -1\n",
    "        self.position[-2:, :] = -1\n",
    "        self.position[:, -2:] = -1 # Mistake in the original code\n",
    "        self.board[self.x,self.y] = 0 # No reward on the first cell\n",
    "        self.t = 0\n",
    "\n",
    "        state = np.concatenate((\n",
    "                               self.board.reshape(self.grid_size, self.grid_size,1),\n",
    "                        self.position.reshape(self.grid_size, self.grid_size,1)),axis=2)\n",
    "\n",
    "        state = state[self.x - 2:self.x + 3, self.y - 2:self.y + 3, :]\n",
    "        return state"
   ]
  },
  {
   "cell_type": "markdown",
   "metadata": {},
   "source": [
    "The following elements are important because they correspond to the hyper parameters for this project:"
   ]
  },
  {
   "cell_type": "code",
   "execution_count": 5,
   "metadata": {},
   "outputs": [],
   "source": [
    "# parameters\n",
    "size = 13\n",
    "T=200\n",
    "temperature=0.3\n",
    "epochs_train= 15 # set small when debugging (11 is the minimum for the script to work properly)\n",
    "epochs_test= 11 # set small when debugging (> 11)\n",
    "\n",
    "# display videos\n",
    "def display_videos(name):\n",
    "    video = io.open(name, 'r+b').read()\n",
    "    encoded = base64.b64encode(video)\n",
    "    return '''<video alt=\"test\" controls>\n",
    "                <source src=\"data:video/mp4;base64,{0}\" type=\"video/mp4\" />\n",
    "             </video>'''.format(encoded.decode('ascii'))"
   ]
  },
  {
   "cell_type": "markdown",
   "metadata": {},
   "source": [
    "__Question 2__ Explain the use of the arrays ```position``` and ```board```."
   ]
  },
  {
   "cell_type": "markdown",
   "metadata": {},
   "source": [
    "#### Array ```position```\n",
    "```position``` is use to encode the position of the mouse. It's an array of shape : $(N+4)^2$, where $N$ is the size of the board. On the border (2 first and 2 last indexes) the array is filled with ```-1``` value. It idicates that the mouse can't go on their. All the other slots are filled with  ```0``` value.\n",
    "\n",
    "This array is part of the state of the agent. When rashaped to : ```[self.x - 2:self.x + 3, self.y - 2:self.y + 3, :]``` it gives to the agent the possible mooves whith a vision of 2 slots. If the slots has a ```0``` value, he can moove there, if it's a ```-1``` he can not (border of the island).\n",
    "\n",
    "#### Array ```board```\n",
    "This array contains the rewards (bonus and malus). The value ```self.board[i,j]``` indicates the reward obtained by the mouse if it goes to the position ```[i,j]```. When the reward is collected, the reward is set to ```0``` (there is nothing more to collect on a cell which as already been visited).\n",
    "\n",
    "This array is the second part of the state. It is reshaped in the same purpose."
   ]
  },
  {
   "cell_type": "markdown",
   "metadata": {},
   "source": [
    "## Random Agent"
   ]
  },
  {
   "cell_type": "markdown",
   "metadata": {},
   "source": [
    "***\n",
    "__Question 3__ Implement a random Agent (only ```learned_act``` needs to be implemented):"
   ]
  },
  {
   "cell_type": "code",
   "execution_count": 6,
   "metadata": {},
   "outputs": [],
   "source": [
    "class RandomAgent(Agent):\n",
    "    def __init__(self):\n",
    "        super(RandomAgent, self).__init__()\n",
    "        pass\n",
    "\n",
    "    def learned_act(self, s):\n",
    "        return np.random.randint(0,4)"
   ]
  },
  {
   "cell_type": "markdown",
   "metadata": {},
   "source": [
    "***\n",
    "***\n",
    "__Question 4__ Visualize the game moves. You need to fill in the following function for the evaluation:"
   ]
  },
  {
   "cell_type": "code",
   "execution_count": 7,
   "metadata": {},
   "outputs": [],
   "source": [
    "def test(agent,env,epochs,prefix=''):\n",
    "    # Number of won games\n",
    "    score = 0\n",
    "        \n",
    "    for e in range(epochs):\n",
    "        # Reset the env at the beggining of each game\n",
    "        state = env.reset()\n",
    "        game_over = False\n",
    "        \n",
    "        # Positive and negative rewards earned during a game\n",
    "        win = 0\n",
    "        lose = 0\n",
    "\n",
    "        while not game_over:\n",
    "            # The agent performs an action\n",
    "            action = agent.act(state,train=False)\n",
    "\n",
    "            # Apply an action to the environment, get the next state, the reward\n",
    "            # and if the games end\n",
    "            state, reward, game_over = env.act(action)\n",
    "\n",
    "            # Update the counters\n",
    "            if reward > 0:\n",
    "                win = win + reward\n",
    "            if reward < 0:\n",
    "                lose = lose -reward\n",
    "            \n",
    "            env.get_frame(e)\n",
    "        \n",
    "        # Save as a mp4\n",
    "        env.draw(prefix+str(e))\n",
    "\n",
    "        # Update stats\n",
    "        score = score + win - lose\n",
    "\n",
    "        print(\"Win/lose count {}/{}. Average score ({})\"\n",
    "              .format(win, lose, score/(1+e)))\n",
    "    print('Final score: '+str(score/epochs))"
   ]
  },
  {
   "cell_type": "code",
   "execution_count": 8,
   "metadata": {},
   "outputs": [
    {
     "name": "stdout",
     "output_type": "stream",
     "text": [
      "Win/lose count 9.0/17.0. Average score (-8.0)\n",
      "Win/lose count 11.5/13.0. Average score (-4.75)\n",
      "Win/lose count 14.0/12.0. Average score (-2.5)\n",
      "Win/lose count 10.0/13.0. Average score (-2.625)\n",
      "Win/lose count 9.0/9.0. Average score (-2.1)\n",
      "Win/lose count 6.5/10.0. Average score (-2.3333333333333335)\n",
      "Win/lose count 10.5/8.0. Average score (-1.6428571428571428)\n",
      "Win/lose count 8.5/12.0. Average score (-1.875)\n",
      "Win/lose count 13.0/20.0. Average score (-2.4444444444444446)\n",
      "Win/lose count 10.0/15.0. Average score (-2.7)\n",
      "Win/lose count 7.0/14.0. Average score (-3.090909090909091)\n",
      "Final score: -3.090909090909091\n"
     ]
    },
    {
     "data": {
      "text/html": [
       "<video alt=\"test\" controls>\n",
       "                <source src=\"data:video/mp4;base64,AAAAIGZ0eXBpc29tAAACAGlzb21pc28yYXZjMW1wNDEAAAAIZnJlZQAAGeltZGF0AAACnwYF//+b3EXpvebZSLeWLNgg2SPu73gyNjQgLSBjb3JlIDE1MiAtIEguMjY0L01QRUctNCBBVkMgY29kZWMgLSBDb3B5bGVmdCAyMDAzLTIwMTcgLSBodHRwOi8vd3d3LnZpZGVvbGFuLm9yZy94MjY0Lmh0bWwgLSBvcHRpb25zOiBjYWJhYz0xIHJlZj0zIGRlYmxvY2s9MTowOjAgYW5hbHlzZT0weDE6MHgxMTEgbWU9aGV4IHN1Ym1lPTcgcHN5PTEgcHN5X3JkPTEuMDA6MC4wMCBtaXhlZF9yZWY9MSBtZV9yYW5nZT0xNiBjaHJvbWFfbWU9MSB0cmVsbGlzPTEgOHg4ZGN0PTAgY3FtPTAgZGVhZHpvbmU9MjEsMTEgZmFzdF9wc2tpcD0xIGNocm9tYV9xcF9vZmZzZXQ9NCB0aHJlYWRzPTggbG9va2FoZWFkX3RocmVhZHM9MSBzbGljZWRfdGhyZWFkcz0wIG5yPTAgZGVjaW1hdGU9MSBpbnRlcmxhY2VkPTAgYmx1cmF5X2NvbXBhdD0wIGNvbnN0cmFpbmVkX2ludHJhPTAgYmZyYW1lcz0zIGJfcHlyYW1pZD0yIGJfYWRhcHQ9MSBiX2JpYXM9MCBkaXJlY3Q9MSB3ZWlnaHRiPTEgb3Blbl9nb3A9MCB3ZWlnaHRwPTIga2V5aW50PTI1MCBrZXlpbnRfbWluPTI1IHNjZW5lY3V0PTQwIGludHJhX3JlZnJlc2g9MCByY19sb29rYWhlYWQ9NDAgcmM9Y3JmIG1idHJlZT0xIGNyZj0yMy4wIHFjb21wPTAuNjAgcXBtaW49MCBxcG1heD02OSBxcHN0ZXA9NCBpcF9yYXRpbz0xLjQwIGFxPTE6MS4wMACAAAACBmWIhAA3//72h/gU2VgT/lm//Q1/3I/bj6z9cWMhBN9aryHowBkvtR/m/6xRbOmelAf34AiUAHNuGcKR2Sd444DUqyDHB8CmrpOr8CkoTbgLb+E/zU2yR0PPhLUwpBqr9Yo8StGX1B/Pkx3w9wJ29hPX4mOWINtSeUZhXBoO8z+2cWUi6YIE/A6FLgjxxIrgCwJ541nM2HvarF0wwFd4FBGZqeYy/7oOQxTeepU8yXgjnRC9gw7n5ZJZCwYsiS9Fqd4nD7sW2htqnVlyBTvE5HPqImfOH20YXmnTeZMJiN7qqAv4b2lv8B98BCuGkBkx1EAMwRulj/uii8+QX+Xgobe1xWNLOaf6qSGhjTISikRoc7hCioOxDMSSJvPKRCePPygB/CuPnCywf47QzIpAMWLlz0EbI5rbL3SQKmkWpmTEBDyAtTOgxNuCTm7mULBAQBu0j642rNq077KIDE4ABhr5pb8nK+GkL4UfrUU+EUNjV2ic/GkG4w12mMNRW5jEAoMbmTuyEpYZqlyggTel4qC03gpt3RLZThI4uBl7rjH519qseuJd91XC/vIV9dMAIdEHxVTa440pfI7KYqjkXpnrktHrqUyUKRYD+KVDiVtMTplC1pVgkg+szDTpgjRzMYBFDKmRX01VodBazuGSTyKh8a0pyzg0kI+yQ5ksJdKHuRQMAMWBAAACD0GaIWxDf/6nhAE8dazZ8vq+BTX1CvwKVLZ+BTOwMhLeJFiOdY53A4E3goLDMlOuvnVGMKmcXmv/4SLVSr0TDIHfDLe8eThXXGUZsI1IOf4/Qlw9BCXduE6mXHSD/8JS+iVfPHmRD/Zsdqlwdjj7bojR3iajAKTXueVinBqryA1r8UO1U8f/hBcKtu8ZV5DFXN13ycp3GWn9bfRblojaFu1eNDU9o2ITMmDhhmma+/cgvc/BdDhmj97LixxAYL7csLl196Psm+ZCyS3GdGTEcu9rgymX782k9n879VdU9c7ZpDsJmI1Hn89I/qpyNgGeIysW/mnNg4fllhs1UphuA7myEC0HD0YMAJvlD/9bT4H9o0Nuh09Stw2EwqC+et51bGcC4U32Lbnx2KSWW5+NcGCLuxXJTZzrYJz7qT5hpSm4Xq5wEsepNHdhlRcC0ayL5HztHKepUytQ7O63ltMLHEirmt/0SrneCYdnv7HcnOJFk8s2rDoED3gEJSUPMIzOjg+7gER8uf6v2GjWy4B3tCWMUW8qz5ksITzXmmkHVpxQJpS+PXwNmDB0ZL6K2iNTvr+NQlmHJKsFlwEa0cNK8QnvTeOqqhx/PNQ2Qpd8BP9s8ZVQamxRAeyfBwXpIzfSS88VHoeukdeU+GBDlkwBTv7Oz6nV60LGOKlrb1ycx5cwM8X1EZhcHn4CubNS1BSYAAAAGkGaRDwhkymEN//+p4QBPfjp74Z59OKEfgu5AAAAEEGeYmpTwr8A/s0bzTe9QbcAAAAOAZ6DakK/AP6UY9EVtQUAAAAcQZqISahBaJlMCG///qeEAMj7B/nkFapkJFvKaQAAABBBnqZFESwv/wB2v4q8ig7hAAAAEAGexXRCvwCjp1J5X5KbNBEAAAAQAZ7HakK/AGwStiyOdaCtmAAAABpBmslJqEFsmUwIb//+p4QAgqALMGOzJq27MAAAAB5Bmu1J4QpSZTAhv/6nhAB/fYP58HzsXFVsxQkSPD0AAAARQZ8LRTRML/8ATXPOxfOE75gAAAAPAZ8qdEK/AGmSanqzvszAAAAAEAGfLGpCvwBpiO3OtDC8dMEAAAAZQZsuSahBaJlMCG///qeEAFPxWkEIn+W3KwAAABlBm1JJ4QpSZTAhn/6eEAHlTaOf0jr7+l9NAAAAEEGfcEU0TC//AEtz9zhZRTgAAAAOAZ+PdEK/AEV3HeecWx8AAAAQAZ+RakK/AGcduE3GfXpvzQAAABpBm5NJqEFomUwIb//+p4QAfL32fUcaEhw1IAAAABlBm7RJ4QpSZTAhv/6nhABSPdT9RxoSHFJAAAAAIEGb1knhDomUwU0TDf/+p4QAT4Aasyd+ysGP+3H9YGvBAAAAEAGf9WpCvwA/jPmN0OSDj6QAAAArQZv4SeEPJlMFPDf//qeEAHc9l9XwKa+oV+BSpbPwKZ2Bjbu3FC+4f+sClQAAABABnhdqQr8AYh24TcZ9enA5AAAAGUGaHEnhDyZTAhv//qeEAHn99n97Vtxb13AAAAAQQZ46RRE8L/8ASXQR1n0T4QAAABABnll0Qr8AYhQgc5RS/6xMAAAAEAGeW2pCvwBkgWNfVB08ukkAAAAcQZpeSahBaJlMFPDf/qeEAHc99n3Wlmam3Ra4mQAAABABnn1qQr8AZJm5rjxVtJfgAAAAGEGaf0nhClJlMCG//qeEAFGxWkEIn+W3MwAAAB9BmoNJ4Q6JlMCG//6nhABWvbp5lliZHfdrzAhPzx2zAAAAEEGeoUURPC//ADOK0yCelOAAAAAPAZ7AdEK/AEFtGLgPy3jBAAAADwGewmpCvwBFdiPJcz5KAwAAABlBmsRJqEFomUwIb//+p4QAVr3U4/w+rbcjAAAAGkGa6EnhClJlMCGf/p4QAUj3TfaVdRR9NvUhAAAAEEGfBkU0TC//ADJCN3uAhUEAAAAQAZ8ldEK/AENdWjJLf64XgQAAAA8BnydqQr8AQW1ru+73s0AAAAAZQZspSahBaJlMCG///qeEAFG9E/1Kn5Ki4AAAABlBm0pJ4QpSZTAhv/6nhAB8DjP9VvmPxDUhAAAAGkGbbUnhDomUwIb//qeEAMP7B/lrpbpDZuOAAAAAEkGfi0URPCv/AJ9g67vApqCFgAAAAA4Bn6xqQr8AnzbrwG10fwAAABlBm7BJqEFomUwIb//+p4QAUj3U4/w+rbczAAAAEkGfzkURLCv/AEFlAEApgHJHwQAAAA4Bn+9qQr8AQYNKup036QAAABtBm/RJqEFsmUwIZ//+nhAB5Voo5/Nr6++24uAAAAAQQZ4SRRUsL/8AS2gM11hhwQAAABABnjF0Qr8AZyRZV4EV28qAAAAADwGeM2pCvwBnLEDyYIuggAAAABlBmjVJqEFsmUwIZ//+nhAB5/X38iRH1hG9AAAAGUGaVknhClJlMCG//qeEAFI91P1HGhIcUkAAAAAZQZp3SeEOiZTAhv/+p4QANP7B/hOC3QlswQAAAB9BmptJ4Q8mUwIb//6nhAAh3x093m6xwbSKrZihIkj/AAAAEUGeuUURPC//ABR2PIH95YrAAAAAEAGe2HRCvwAboBC4D7OZNWEAAAAPAZ7aakK/ABsErYwrNvHAAAAAGkGa3EmoQWiZTAhv//6nhAAgqALNts+z5tbBAAAAGEGa/knhClJlMFESw3/+p4QAH7R5nwHXmQAAAA8Bnx1qQr8AGwsQPJgjV4AAAAAXQZsBSeEOiZTAhv/+p4QAIN8dPqYBGZUAAAASQZ8/RRU8K/8AG6Zua4971PyBAAAADgGfQGpCvwAbokM9EV3uAAAAHkGbREmoQWiZTAhv//6nhAAVr3U4/w+rB82sE1MNgQAAABNBn2JFESwr/wARWUAQCl/ySuuAAAAAEAGfg2pCvwAQ3aITcZ9epgkAAAAaQZuFSahBbJlMCHf//qmWABAEWG6MQjn2HeEAAAAdQZupSeEKUmUwId/+qZYAGW9pf1WndPw1CRQTtwMAAAARQZ/HRTRML/8AHa/aLR8p+78AAAAPAZ/mdEK/ACj9AOhOS/LAAAAAEAGf6GpCvwAaYjtzrQwvXMAAAAASQZvtSahBaJlMCG///qeEAAEnAAAAE0GeC0URLC//AAxES2amZZchpJoAAAAQAZ4qdEK/ABBXVoyS3+v7gAAAAA8BnixqQr8AEF2I8mB69/cAAAAaQZowSahBbJlMCG///qeEAB8DjP9VvmPxNSEAAAASQZ5ORRUsK/8AGcduF2G+l6HNAAAADwGeb2pCvwAZx24Tggc24AAAABpBmnFJqEFsmUwIb//+p4QAHy99mP8Pq25GgAAAABlBmpRJ4QpSZTAhv/6nhAAef32Y/w+rbkuBAAAAD0GeskU0TCv/ABkiNA2yQAAAABABntNqQr8AGD1E8iOv4J/AAAAAGkGa1UmoQWiZTAhv//6nhAAdz32Y/w+rblCBAAAAHEGa+UnhClJlMCG//qeEAB0fYP5tLvIy9bpiQ6wAAAARQZ8XRTRML/8AEVzxm7OuqZUAAAAPAZ82dEK/ABfklEKYI22BAAAAEAGfOGpCvwAYhK2LDWGSXuAAAAAZQZs8SahBaJlMCGf//p4QAE1EOP54L+SK7QAAAA9Bn1pFESwr/wAP4CuG7mAAAAAPAZ97akK/AA/lgS5X+E1BAAAAGUGbfUmoQWyZTAhn//6eEAB2inHP4c5vrckAAAAaQZueSeEKUmUwIb/+p4QAHn+AwHN17M+CLJcAAAAZQZu/SeEOiZTAhv/+p4QALn6J/qt8x+JHwAAAABlBm8BJ4Q8mUwId//6plgAYCCyuM0v7YEjBAAAAFkGb5EnhDyZTAhv//qeEADE++z7Xi4AAAAAOQZ4CRRE8L/8AHP/cB6EAAAAQAZ4hdEK/ACfWjvMEsbRlcAAAABABniNqQr8AJ8o0TLoOnmT5AAAAHEGaJkmoQWiZTBTw3/6nhAAv/vs+60szU26LYvkAAAAQAZ5FakK/ACayyGH0BIOU+QAAABFBmkpJ4QpSZTAhn/6eEAAEfQAAABNBnmhFNEwv/wAS30EUpHTOWLYOAAAAEAGeh3RCvwAaZ5N5Wyh6msAAAAAQAZ6JakK/ABnHbhNxn16hzQAAABpBmotJqEFomUwIb//+p4QAHy9g/wnBboTbQAAAABlBmqxJ4QpSZTAhv/6nhAAUj3U/UcaEh1JAAAAAGUGazUnhDomUwId//qmWAAar2l/O6QphKxEAAAAaQZrxSeEPJlMCG//+p4QACHfHT7gp2E0TT9EAAAAQQZ8PRRE8L/8ABR6A06dWKQAAAA8Bny50Qr8ABukmp6s8MMAAAAAQAZ8wakK/AAboltOvAFCDgAAAAB1BmzNJqEFomUwU8N/+p4QABa7Y+am58K5b6J+lfQAAABABn1JqQr8ABJdnjlfrFPhAAAAAG0GbV0nhClJlMCG//qeEAAi3x0+1Xm5o61LngAAAABFBn3VFNEwv/wAFQZS54tXIeQAAAA8Bn5R0Qr8ABxbFYwhV+0AAAAAPAZ+WakK/AASWVulGkPM3AAAAHEGbmUmoQWiZTBTwz/6eEAAU+vdcRz+kdff0+GEAAAAQAZ+4akK/AARXaITcZ9eyOAAAABhBm7pJ4QpSZTAhn/6eEAAfspxz+HOb7FEAAAAYQZvbSeEOiZTAhn/+nhAAH99fd2nN3F6mAAAAGEGb/EnhDyZTAhv//qeEAAf32D17M+CL5wAAABhBmh5J4Q8mUwURPDf//qeEAAUbFaQZJmEAAAAQAZ49akK/AAZfUTyI6/h2wAAAABtBmj9J4Q8mUwIb//6nhAAHy+AwNz+E4LdC9YAAAAAaQZpDSeEPJlMCG//+p4QABUfdT9zIwtH/dYEAAAAQQZ5hRRE8L/8AAyQjd/85sAAAAA8BnoB0Qr8ABDdx3R23w/sAAAAQAZ6CakK/AAQJUjvZ4+7BgAAAABxBmoVJqEFomUwU8M/+nhAAHZ9cutjhs/EP8cHhAAAAEAGepGpCvwAGSduE3GfXrnkAAAAZQZqmSeEKUmUwIb/+p4QAC+0if6rfMfjFwQAAAB9BmshJ4Q6JlMFNEw3//qeEAAyLrYvR9xsiBP/51V7BAAAAEAGe52pCvwAKPYR5LmfKAIAAAAAcQZrqSeEPJlMFPDf//qeEABPcVqmP9W7fYP13eAAAABABnwlqQr8AD+M8IeNDWVmBAAAAGUGbC0nhDyZTAhv//qeEAB5TjP9VvmPxNmAAAAAXQZsuSeEPJlMCG//+p4QAHn9g/wrHM2YAAAASQZ9MRRE8K/8AJr067vApqImBAAAADgGfbWpCvwAmsrrwG1/XAAAAGUGbb0moQWiZTAhv//6nhAAT/3U4/w+rbrsAAAAWQZuTSeEKUmUwIb/+p4QAEu+On2w2gAAAABNBn7FFNEwv/wALpkhmgaP1yJFOAAAAEAGf0HRCvwAPhwwGSW/2AkEAAAAQAZ/SakK/AA+LMHkwPXwEgAAAABpBm9RJqEFomUwIb//+p4QAHaOM/1W+Y/E3oAAAABFBm/hJ4QpSZTAhv/6nhAABJwAAAAxBnhZFNEwv/wAAsoAAAAAQAZ41dEK/ACXCAOf1oHJ4wQAAABABnjdqQr8AJba13WQw5PGBAAAAGkGaOUmoQWiZTAhv//6nhAAdz2D/CcFuhOBAAAAAEUGaXUnhClJlMCG//qeEAAEnAAAAE0Gee0U0TC//AAumS2amZZchpMwAAAAQAZ6adEK/AA+HE8Um2StUgQAAABABnpxqQr8AD4s8IeNDWV2BAAAAGUGankmoQWiZTAhv//6nhAAT3FaQQif5brsAAAAdQZqgSeEKUmUwURLDv/6plgAKF76vvjCoFopiHLYAAAAQAZ7fakK/ABBc0bzTFW1tQQAAABtBmsRJ4Q6JlMCG//6nhAANP7B/nKdeFGtzJbgAAAAQQZ7iRRU8L/8AB8U6d/nI+QAAAA8BnwF0Qr8ACxWjvPOMI4AAAAAQAZ8DakK/AArLXznWhhfrwQAAABxBmwZJqEFomUwU8N/+p4QADIurZif6u3up+2BpAAAAEAGfJWpCvwAKPZEJuM+vVwkAAAAcQZsoSeEKUmUwUsN//qeEAAyfsH+cp14Ua3MmOQAAABABn0dqQr8ACjtfOdaGF/DAAAAAGEGbS0nhDomUwIZ//p4QAB5/X38iRH1ivQAAABJBn2lFFTwr/wAGcI7c6yfKUIEAAAAOAZ+KakK/AAZyxC73qv4AAAAaQZuMSahBaJlMCG///qeEAAUj3U/UcaEiEkAAAAAZQZutSeEKUmUwIb/+p4QAA17q0ghE/y6VgQAAABFBm9FJ4Q6JlMCG//6nhAABJwAAABRBn+9FETwv/wADN+uPb24aetdjeQAAABABng50Qr8ABFfNUDp2opyAAAAADwGeEGpCvwAEVlbpRpDzVgAAABpBmhJJqEFomUwIb//+p4QABT/RP9VvmPyPwQAAABFBmjZJ4QpSZTAhv/6nhAABJwAAAAxBnlRFNEwv/wAAsoAAAAAQAZ5zdEK/AAaayrur8d424QAAABABnnVqQr8ABpkrYvV2HPRAAAAAGkGad0moQWiZTAhv//6nhAAH7OM/1W+Y/HPhAAAAHUGamUnhClJlMFESw3/+p4QADNurVMf6t2+wfr4dAAAAEAGeuGpCvwAKhYR5MD18VIAAAAAZQZq8SeEOiZTAhv/+p4QAE99E/1W+Y/FUwQAAAA9BntpFFTwr/wAP4D/mxqAAAAAPAZ77akK/ABBXmiakp7SBAAAAHEGa/kmoQWiZTBTwz/6eEAB5PXI3Y4aW+vvt0uEAAAAQAZ8dakK/ABnHVPJgeveKgAAAABlBmx9J4QpSZTAhv/6nhAAfsHhTrOn3XB6AAAAAHUGbIUnhDomUwU0TDf/+p4QAH99g/zyCtUyEi3/dAAAAEAGfQGpCvwAbBm5rjxVtTCAAAAAZQZtCSeEPJlMCG//+p4QAFa91P1HGhIdNwQAAABFBm2ZJ4Q8mUwIZ//6eEAAEfAAAAAxBn4RFETwv/wAAsoEAAAAQAZ+jdEK/AAs9lHfgA+4qQQAAAA8Bn6VqQr8ACz2UbrPVoD0AAAAaQZupS6hCEFokRggoB/IB/YeAIV/+OEAAEXEAAAAoQZ/HRREsK/8Cr2PtQcTdqsNJJuWqhgcstbvNKiQQAHeWZL+RB/ghgAAAACMBn+hqQr8Cr2PtQcTdqsNJJuWqhgcstbvNKiQSYaZafISJwAAAC8Btb292AAAAbG12aGQAAAAAAAAAAAAAAAAAAAPoAAAfkAABAAABAAAAAAAAAAAAAAAAAQAAAAAAAAAAAAAAAAAAAAEAAAAAAAAAAAAAAAAAAEAAAAAAAAAAAAAAAAAAAAAAAAAAAAAAAAAAAAAAAAACAAAK6nRyYWsAAABcdGtoZAAAAAMAAAAAAAAAAAAAAAEAAAAAAAAfkAAAAAAAAAAAAAAAAAAAAAAAAQAAAAAAAAAAAAAAAAAAAAEAAAAAAAAAAAAAAAAAAEAAAAABEAAAARAAAAAAACRlZHRzAAAAHGVsc3QAAAAAAAAAAQAAH5AAAAQAAAEAAAAACmJtZGlhAAAAIG1kaGQAAAAAAAAAAAAAAAAAADIAAAGUAFXEAAAAAAAtaGRscgAAAAAAAAAAdmlkZQAAAAAAAAAAAAAAAFZpZGVvSGFuZGxlcgAAAAoNbWluZgAAABR2bWhkAAAAAQAAAAAAAAAAAAAAJGRpbmYAAAAcZHJlZgAAAAAAAAABAAAADHVybCAAAAABAAAJzXN0YmwAAACVc3RzZAAAAAAAAAABAAAAhWF2YzEAAAAAAAAAAQAAAAAAAAAAAAAAAAAAAAABEAEQAEgAAABIAAAAAAAAAAEAAAAAAAAAAAAAAAAAAAAAAAAAAAAAAAAAAAAAAAAAAAAY//8AAAAvYXZjQwH0AA3/4QAXZ/QADZGbKCIR0IAAAAMAgAAAGQeKFMsBAAVo6+PESAAAABhzdHRzAAAAAAAAAAEAAADKAAACAAAAABRzdHNzAAAAAAAAAAEAAAABAAAFmGN0dHMAAAAAAAAAsQAAAAIAAAQAAAAAAQAACAAAAAACAAACAAAAAAEAAAoAAAAAAQAABAAAAAABAAAAAAAAAAEAAAIAAAAAAQAABAAAAAABAAAKAAAAAAEAAAQAAAAAAQAAAAAAAAABAAACAAAAAAEAAAQAAAAAAQAACgAAAAABAAAEAAAAAAEAAAAAAAAAAQAAAgAAAAACAAAEAAAAAAEAAAYAAAAAAQAAAgAAAAABAAAGAAAAAAEAAAIAAAAAAQAACgAAAAABAAAEAAAAAAEAAAAAAAAAAQAAAgAAAAABAAAGAAAAAAEAAAIAAAAAAQAABAAAAAABAAAKAAAAAAEAAAQAAAAAAQAAAAAAAAABAAACAAAAAAEAAAQAAAAAAQAACgAAAAABAAAEAAAAAAEAAAAAAAAAAQAAAgAAAAACAAAEAAAAAAEAAAgAAAAAAgAAAgAAAAABAAAIAAAAAAIAAAIAAAAAAQAACgAAAAABAAAEAAAAAAEAAAAAAAAAAQAAAgAAAAADAAAEAAAAAAEAAAoAAAAAAQAABAAAAAABAAAAAAAAAAEAAAIAAAAAAQAABAAAAAABAAAGAAAAAAEAAAIAAAAAAQAACAAAAAACAAACAAAAAAEAAAgAAAAAAgAAAgAAAAABAAAEAAAAAAEAAAoAAAAAAQAABAAAAAABAAAAAAAAAAEAAAIAAAAAAQAACgAAAAABAAAEAAAAAAEAAAAAAAAAAQAAAgAAAAABAAAIAAAAAAIAAAIAAAAAAQAABAAAAAABAAAIAAAAAAIAAAIAAAAAAQAABAAAAAABAAAKAAAAAAEAAAQAAAAAAQAAAAAAAAABAAACAAAAAAEAAAgAAAAAAgAAAgAAAAAEAAAEAAAAAAEAAAoAAAAAAQAABAAAAAABAAAAAAAAAAEAAAIAAAAAAQAABgAAAAABAAACAAAAAAEAAAoAAAAAAQAABAAAAAABAAAAAAAAAAEAAAIAAAAAAwAABAAAAAABAAAKAAAAAAEAAAQAAAAAAQAAAAAAAAABAAACAAAAAAEAAAYAAAAAAQAAAgAAAAABAAAKAAAAAAEAAAQAAAAAAQAAAAAAAAABAAACAAAAAAEAAAYAAAAAAQAAAgAAAAADAAAEAAAAAAEAAAYAAAAAAQAAAgAAAAABAAAEAAAAAAEAAAoAAAAAAQAABAAAAAABAAAAAAAAAAEAAAIAAAAAAQAABgAAAAABAAACAAAAAAEAAAQAAAAAAQAABgAAAAABAAACAAAAAAEAAAYAAAAAAQAAAgAAAAABAAAEAAAAAAEAAAgAAAAAAgAAAgAAAAABAAAEAAAAAAEAAAoAAAAAAQAABAAAAAABAAAAAAAAAAEAAAIAAAAAAQAABAAAAAABAAAKAAAAAAEAAAQAAAAAAQAAAAAAAAABAAACAAAAAAEAAAQAAAAAAQAACgAAAAABAAAEAAAAAAEAAAAAAAAAAQAAAgAAAAABAAAEAAAAAAEAAAYAAAAAAQAAAgAAAAABAAAKAAAAAAEAAAQAAAAAAQAAAAAAAAABAAACAAAAAAEAAAYAAAAAAQAAAgAAAAABAAAGAAAAAAEAAAIAAAAAAQAACAAAAAACAAACAAAAAAIAAAQAAAAAAQAACgAAAAABAAAEAAAAAAEAAAAAAAAAAQAAAgAAAAABAAAEAAAAAAEAAAoAAAAAAQAABAAAAAABAAAAAAAAAAEAAAIAAAAAAQAABAAAAAABAAAGAAAAAAEAAAIAAAAAAQAACAAAAAACAAACAAAAAAEAAAYAAAAAAQAAAgAAAAABAAAEAAAAAAEAAAYAAAAAAQAAAgAAAAABAAAEAAAAAAEAAAoAAAAAAQAABAAAAAABAAAAAAAAAAEAAAIAAAAAAQAACAAAAAACAAACAAAAABxzdHNjAAAAAAAAAAEAAAABAAAAygAAAAEAAAM8c3RzegAAAAAAAAAAAAAAygAABK0AAAITAAAAHgAAABQAAAASAAAAIAAAABQAAAAUAAAAFAAAAB4AAAAiAAAAFQAAABMAAAAUAAAAHQAAAB0AAAAUAAAAEgAAABQAAAAeAAAAHQAAACQAAAAUAAAALwAAABQAAAAdAAAAFAAAABQAAAAUAAAAIAAAABQAAAAcAAAAIwAAABQAAAATAAAAEwAAAB0AAAAeAAAAFAAAABQAAAATAAAAHQAAAB0AAAAeAAAAFgAAABIAAAAdAAAAFgAAABIAAAAfAAAAFAAAABQAAAATAAAAHQAAAB0AAAAdAAAAIwAAABUAAAAUAAAAEwAAAB4AAAAcAAAAEwAAABsAAAAWAAAAEgAAACIAAAAXAAAAFAAAAB4AAAAhAAAAFQAAABMAAAAUAAAAFgAAABcAAAAUAAAAEwAAAB4AAAAWAAAAEwAAAB4AAAAdAAAAEwAAABQAAAAeAAAAIAAAABUAAAATAAAAFAAAAB0AAAATAAAAEwAAAB0AAAAeAAAAHQAAAB0AAAAaAAAAEgAAABQAAAAUAAAAIAAAABQAAAAVAAAAFwAAABQAAAAUAAAAHgAAAB0AAAAdAAAAHgAAABQAAAATAAAAFAAAACEAAAAUAAAAHwAAABUAAAATAAAAEwAAACAAAAAUAAAAHAAAABwAAAAcAAAAHAAAABQAAAAfAAAAHgAAABQAAAATAAAAFAAAACAAAAAUAAAAHQAAACMAAAAUAAAAIAAAABQAAAAdAAAAGwAAABYAAAASAAAAHQAAABoAAAAXAAAAFAAAABQAAAAeAAAAFQAAABAAAAAUAAAAFAAAAB4AAAAVAAAAFwAAABQAAAAUAAAAHQAAACEAAAAUAAAAHwAAABQAAAATAAAAFAAAACAAAAAUAAAAIAAAABQAAAAcAAAAFgAAABIAAAAeAAAAHQAAABUAAAAYAAAAFAAAABMAAAAeAAAAFQAAABAAAAAUAAAAFAAAAB4AAAAhAAAAFAAAAB0AAAATAAAAEwAAACAAAAAUAAAAHQAAACEAAAAUAAAAHQAAABUAAAAQAAAAFAAAABMAAAAeAAAALAAAACcAAAAUc3RjbwAAAAAAAAABAAAAMAAAAGJ1ZHRhAAAAWm1ldGEAAAAAAAAAIWhkbHIAAAAAAAAAAG1kaXJhcHBsAAAAAAAAAAAAAAAALWlsc3QAAAAlqXRvbwAAAB1kYXRhAAAAAQAAAABMYXZmNTguMjAuMTAw\" type=\"video/mp4\" />\n",
       "             </video>"
      ],
      "text/plain": [
       "<IPython.core.display.HTML object>"
      ]
     },
     "execution_count": 8,
     "metadata": {},
     "output_type": "execute_result"
    }
   ],
   "source": [
    "# Initialize the game\n",
    "env = Environment(grid_size=size, max_time=T,temperature=temperature)\n",
    "\n",
    "# Initialize the agent!\n",
    "agent = RandomAgent()\n",
    "\n",
    "test(agent,env,epochs_test,prefix='random')\n",
    "HTML(display_videos('random0.mp4'))"
   ]
  },
  {
   "cell_type": "markdown",
   "metadata": {},
   "source": [
    "***\n",
    "## DQN"
   ]
  },
  {
   "cell_type": "markdown",
   "metadata": {},
   "source": [
    "Let us assume here that $T=\\infty$.\n",
    "\n",
    "***\n",
    "__Question 5__ Let $\\pi$ be a policy, show that:\n",
    "\n",
    "\\begin{equation*}\n",
    "Q^{\\pi}(s,a)=E_{(s',a')\\sim p(.|s,a)}[r(s,a)+\\gamma Q^{\\pi}(s',a')]\n",
    "\\end{equation*}\n",
    "\n",
    "Then, show that for the optimal policy $\\pi^*$ (we assume its existence), the following holds: \n",
    "\n",
    "\\begin{equation*}\n",
    "Q^{*}(s,a)=E_{s'\\sim \\pi^*(.|s,a)}[r(s,a)+\\gamma\\max_{a'}Q^{*}(s',a')].\n",
    "\\end{equation*}\n",
    "Finally, deduce that a plausible objective is:\n",
    "\n",
    "\\begin{equation*}\n",
    "\\mathcal{L}(\\theta)=E_{s' \\sim \\pi^*(.|s,a)}\\Vert r+\\gamma\\max_{s'}\\max_{a'}Q(s',a',\\theta)-Q(s,a,\\theta)\\Vert^{2}.\n",
    "\\label{eq:loss} \\tag{1}\n",
    "\\end{equation*}"
   ]
  },
  {
   "cell_type": "markdown",
   "metadata": {},
   "source": [
    "#### (a)\n",
    "To proove the first expression, we need to use the Law of total expectation :\n",
    "\n",
    "\\begin{equation*}\\begin{array}{ r l}\n",
    "Q^\\pi(s,a)\n",
    "& =E_{p^{\\pi}}[\\sum_{t=0}^{\\infty}\\gamma^{t}r(s_{t},a_{t})|s_{0}=s,a_{0}=a] \\\\\n",
    "& = r(s,a) +  E_{p^{\\pi}}[\\sum_{t=1}^{\\infty}\\gamma^{t}r(s_{t},a_{t})|s_{0}=s,a_{0}=a] \\\\\n",
    "& = r(s,a) +  \\gamma \\sum_{s'}\\sum_{a'} p(s'|s,a') E_{p^{\\pi}}[\\sum_{t=1}^{\\infty}\\gamma^{t-1}r(s_{t},a_{t})|s_{1}=s',a_{1}=a'] \\\\\n",
    "& = r(s,a) +  \\gamma \\sum_{s'}\\sum_{a'} p(s'|s,a') E_{p^{\\pi}}[\\sum_{t=0}^{\\infty}\\gamma^{t}r(s_{t},a_{t})|s_{0}=s',a_{0}=a'] \\\\\n",
    "& = r(s,a) +  \\gamma \\sum_{s'}\\sum_{a'} p(s'|s,a') Q^\\pi(s',a') \\\\\n",
    "& = r(s,a) +  \\gamma E_{(s',a')\\sim p(.|s,a)}[Q^\\pi(s',a')] \\\\\n",
    "& = E_{(s',a')\\sim p(.|s,a)}[r(s,a) +\\gamma Q^\\pi(s',a')]\n",
    "\\end{array}\\end{equation*}\n",
    "\n",
    "#### (b)\n",
    "The proof of the second expression is pretty simple. We just have to realize that the maxium over $\\pi$ taken on $Q^\\pi(s,a)$ also implies to take the maximum over $a'$ when $Q^\\pi(s,a)$ is define by induction (because the best policy choose to take the best action).\n",
    "\n",
    "For more clarity, I chose to express $Q^*(s,a)$ as in the formula below. I changed $a_t$ to $\\pi(s_{t})$. It makes the dependence to the policy more obvious.\n",
    "\n",
    "\\begin{equation*}\n",
    "Q^*(s,a)=\\max_{\\pi}E_{p^{\\pi}}[\\sum_{t=0}^{\\infty}\\gamma^{t}r(s_{t},\\pi(s_{t}))|s_{0}=s,a_{0}=a]\n",
    "\\end{equation*}\n",
    "\n",
    "\n",
    "Now the demontration :\n",
    "\n",
    "\\begin{equation*}\\begin{array}{ r l}\n",
    "Q^*(s,a)\n",
    "&=\\max_{\\pi}Q^\\pi(s,a) \\\\\n",
    "&=\\max_{\\pi}E_{p^{\\pi}}[\\sum_{t=0}^{\\infty}\\gamma^{t}r(s_{t},\\pi(s_{t}))|s_{0}=s,a_{0}=a] \\\\\n",
    "&=\\max_{a',\\pi}E_{(s',a')\\sim p(.|s,a)}[r(s,a) +\\gamma Q^\\pi(s',a')] \\\\\n",
    "&=E_{s'\\sim \\pi^*(.|s,a)}[r(s,a)+\\gamma\\max_{a'}Q^{*}(s',a')]\n",
    "\\end{array}\\end{equation*}\n",
    "\n",
    "#### (c)\n",
    "The objective is to find the best policy. A good way to find it is to take at each state $s$ the action $a$ define as follow :\n",
    "$$ a = \\underset{a'}{\\text{argmax}}Q^{*}(s,a')$$\n",
    "In other word, if the agent knows $Q^{*}(s,a)$ (or an approximation of it), he knows the best policy. The problem becomes : How to find $Q^{*}(s,a)$ ? In the next questions, we will try to approximate $Q^{*}(s,a)$ thanks to neural network. In that case, minimizing the loss $\\mathcal{L}(\\theta)$ make $Q(s,a,\\theta)$ converge to $Q^{*}(s,a,\\theta)$."
   ]
  },
  {
   "cell_type": "markdown",
   "metadata": {},
   "source": [
    "***\n",
    "The DQN-learning algorithm relies on these derivations to train the parameters $\\theta$ of a Deep Neural Network:\n",
    "\n",
    "1. At the state $s_t$, select the action $a_t$ with best reward using $Q_t$ and store the results;\n",
    "\n",
    "2. Obtain the new state $s_{t+1}$ from the environment $p$;\n",
    "\n",
    "3. Store $(s_t,a_t,s_{t+1})$;\n",
    "\n",
    "4. Obtain $Q_{t+1}$ by minimizing  $\\mathcal{L}$ from a recovered batch from the previously stored results.\n",
    "\n",
    "***\n",
    "__Question 6__ Implement the class ```Memory``` that stores moves (in a replay buffer) via ```remember``` and provides a ```random_access``` to these. Specify a maximum memory size to avoid side effects. You can for example use a ```list()``` and set by default ```max_memory=100```."
   ]
  },
  {
   "cell_type": "code",
   "execution_count": 9,
   "metadata": {},
   "outputs": [],
   "source": [
    "class Memory(object):\n",
    "    def __init__(self, max_memory=100):\n",
    "        self.position = 0 # Index of the last element added in Memory\n",
    "        self.max_memory = max_memory # Maximum size of Memory\n",
    "        self.memory = list()\n",
    "\n",
    "    def remember(self, m):\n",
    "        if len(self.memory) < self.max_memory : # If the size of the list is smaller than the maximum size : add one element\n",
    "            self.memory.append(None)\n",
    "        self.memory[self.position] = m\n",
    "        self.position = (self.position + 1) % self.max_memory # Index incrementation\n",
    "\n",
    "    def random_access(self):\n",
    "        return self.memory[np.random.randint(len(self.memory))] # Pick an element at random in the list"
   ]
  },
  {
   "cell_type": "markdown",
   "metadata": {},
   "source": [
    "***\n",
    "The pipeline we will use for training is given below:"
   ]
  },
  {
   "cell_type": "code",
   "execution_count": 10,
   "metadata": {},
   "outputs": [],
   "source": [
    "def train(agent,env,epoch,prefix=''):\n",
    "    # Number of won games\n",
    "    score = 0\n",
    "    loss = 0\n",
    "\n",
    "    for e in range(epoch):\n",
    "        # At each epoch, we restart to a fresh game and get the initial state\n",
    "        state = env.reset()\n",
    "        # This assumes that the games will terminate\n",
    "        game_over = False\n",
    "\n",
    "        win = 0\n",
    "        lose = 0\n",
    "\n",
    "        while not game_over:\n",
    "            # The agent performs an action\n",
    "            action = agent.act(state, train = True)\n",
    "\n",
    "            # Apply an action to the environment, get the next state, the reward\n",
    "            # and if the games end\n",
    "            prev_state = state\n",
    "            state, reward, game_over = env.act(action)\n",
    "\n",
    "            # Update the counters\n",
    "            if reward > 0:\n",
    "                win = win + reward\n",
    "            if reward < 0:\n",
    "                lose = lose -reward\n",
    "\n",
    "            # Apply the reinforcement strategy\n",
    "            loss = agent.reinforce(prev_state, state,  action, reward, game_over)\n",
    "\n",
    "        # Save as a mp4\n",
    "        if e % 10 == 0:\n",
    "            env.draw(prefix+str(e))\n",
    "\n",
    "        # Update stats\n",
    "        score += win-lose\n",
    "\n",
    "        print(\"Epoch {:03d}/{:03d} | Loss {:.4f} | Win/lose count {}/{} ({})\"\n",
    "              .format(e, epoch, loss, win, lose, win-lose))\n",
    "        agent.save(name_weights=prefix+'model.h5',name_model=prefix+'model.json')"
   ]
  },
  {
   "cell_type": "markdown",
   "metadata": {},
   "source": [
    "***\n",
    "__Question 7__ Implement the DQN training algorithm using a cascade of fully connected layers. You can use different learning rate, batch size or memory size parameters. In particular, the loss might oscillate while the player will start to win the games. You have to find a good criterium."
   ]
  },
  {
   "cell_type": "code",
   "execution_count": 11,
   "metadata": {},
   "outputs": [],
   "source": [
    "class DQN(Agent):\n",
    "    def __init__(self, grid_size,  epsilon = 0.1, memory_size=100, batch_size = 16,n_state=2):\n",
    "        super(DQN, self).__init__(epsilon = epsilon)\n",
    "\n",
    "        # Discount for Q learning\n",
    "        self.discount = 0.99\n",
    "        \n",
    "        self.grid_size = grid_size\n",
    "        \n",
    "        # number of state\n",
    "        self.n_state = n_state\n",
    "\n",
    "        # Memory\n",
    "        self.memory = Memory(memory_size)\n",
    "        \n",
    "        # Batch size when learning\n",
    "        self.batch_size = batch_size\n",
    "\n",
    "    def learned_act(self, s):\n",
    "        # Select the best action predicted by the neural network\n",
    "        # i.e. the action that gives the higther value function (proportionnal to the reward)\n",
    "        return np.argmax(self.model.predict(s.reshape((1,5,5,self.n_state))))\n",
    "\n",
    "    def reinforce(self, s_, n_s_, a_, r_, game_over_):\n",
    "        # Two steps: first memorize the states, second learn from the pool\n",
    "        self.memory.remember([s_, n_s_, a_, r_, game_over_])\n",
    "        \n",
    "        # Input_states is the concatenation of all states that accured during the batch\n",
    "        input_states = np.zeros((self.batch_size, 5,5,self.n_state))\n",
    "        \n",
    "        # target_q will be used to train the neural network\n",
    "        target_q = np.zeros((self.batch_size, 4))\n",
    "        \n",
    "        for i in range(self.batch_size):\n",
    "            # load a move (state, next state, action, reward and game_over) from the memory\n",
    "            s_, n_s_, a_, r_, game_over_ = self.memory.random_access()\n",
    "            # Save it in input state\n",
    "            input_states[i] = s_\n",
    "            \n",
    "            # target_q is initialised with the curent output of the neural network\n",
    "            target_q[i] = self.model.predict(s_.reshape((1,5,5,self.n_state)))[0]\n",
    "            \n",
    "            # We try to approximate Q*(s,a) thanks to formula (1)\n",
    "            # To do so, we need information on the state n_s (wich result of a)\n",
    "            # As a result, only one \"arm\" of Q[i,:] will be explore\n",
    "            # The learning is only done on Q[i, a_]\n",
    "            \n",
    "            if game_over_:\n",
    "                # If the game as ended, the value function (which is the cumulative reward to the end of the game)\n",
    "                # takes the value of the last reward\n",
    "                target_q[i, a_] = r_\n",
    "            else:\n",
    "                # If the game as not ended, we use the formula (1)\n",
    "                target_q[i,a_] = r_ + self.discount*np.max(self.model.predict(n_s_.reshape((1,5,5,self.n_state))))\n",
    "\n",
    "        # HINT: Clip the target to avoid exploiding gradients.. -- clipping is a bit tighter\n",
    "        target_q = np.clip(target_q, -3, 3)\n",
    "\n",
    "        l = self.model.train_on_batch(input_states, target_q)\n",
    "        return l\n",
    "\n",
    "    def save(self,name_weights='model.h5',name_model='model.json'):\n",
    "        self.model.save_weights(name_weights, overwrite=True)\n",
    "        with open(name_model, \"w\") as outfile:\n",
    "            json.dump(self.model.to_json(), outfile)\n",
    "            \n",
    "    def load(self,name_weights='model.h5',name_model='model.json'):\n",
    "        with open(name_model, \"r\") as jfile:\n",
    "            model = model_from_json(json.load(jfile))\n",
    "        model.load_weights(name_weights)\n",
    "        model.compile(\"adam\", \"mse\")\n",
    "        self.model = model\n",
    "\n",
    "            \n",
    "class DQN_FC(DQN):\n",
    "    def __init__(self, *args, lr=0.1,**kwargs):\n",
    "        super(DQN_FC, self).__init__( *args,**kwargs)\n",
    "        \n",
    "        # NN Model\n",
    "        model = Sequential()\n",
    "        model.add(Reshape((5*5*self.n_state,), input_shape=(5,5,self.n_state)))\n",
    "        model.add(Dense(16))\n",
    "        model.add(Activation('relu'))\n",
    "        model.add(Dense(4)) # The output is size 4, because their is 4 actions possible\n",
    "        \n",
    "        model.compile(sgd(lr=lr, decay=1e-4, momentum=0.0), \"mse\")\n",
    "        self.model = model\n",
    "        "
   ]
  },
  {
   "cell_type": "code",
   "execution_count": 12,
   "metadata": {},
   "outputs": [
    {
     "name": "stdout",
     "output_type": "stream",
     "text": [
      "Epoch 000/015 | Loss 0.0377 | Win/lose count 2.0/3.0 (-1.0)\n",
      "Epoch 001/015 | Loss 0.0197 | Win/lose count 5.0/1.0 (4.0)\n",
      "Epoch 002/015 | Loss 0.0702 | Win/lose count 3.5/6.0 (-2.5)\n",
      "Epoch 003/015 | Loss 0.0666 | Win/lose count 6.0/7.0 (-1.0)\n",
      "Epoch 004/015 | Loss 0.0522 | Win/lose count 3.5/5.0 (-1.5)\n",
      "Epoch 005/015 | Loss 0.0420 | Win/lose count 3.0/4.0 (-1.0)\n",
      "Epoch 006/015 | Loss 0.0448 | Win/lose count 4.0/5.0 (-1.0)\n",
      "Epoch 007/015 | Loss 0.0403 | Win/lose count 3.0/2.0 (1.0)\n",
      "Epoch 008/015 | Loss 0.0463 | Win/lose count 2.0/2.0 (0.0)\n",
      "Epoch 009/015 | Loss 0.0381 | Win/lose count 1.5/1.0 (0.5)\n",
      "Epoch 010/015 | Loss 0.0375 | Win/lose count 0.5/4.0 (-3.5)\n",
      "Epoch 011/015 | Loss 0.0387 | Win/lose count 3.0/3.0 (0.0)\n",
      "Epoch 012/015 | Loss 0.0404 | Win/lose count 2.0/8.0 (-6.0)\n",
      "Epoch 013/015 | Loss 0.0462 | Win/lose count 4.0/8.0 (-4.0)\n",
      "Epoch 014/015 | Loss 0.0342 | Win/lose count 2.5/2.0 (0.5)\n"
     ]
    },
    {
     "data": {
      "text/html": [
       "<video alt=\"test\" controls>\n",
       "                <source src=\"data:video/mp4;base64,AAAAIGZ0eXBpc29tAAACAGlzb21pc28yYXZjMW1wNDEAAAAIZnJlZQAAFZhtZGF0AAACnwYF//+b3EXpvebZSLeWLNgg2SPu73gyNjQgLSBjb3JlIDE1MiAtIEguMjY0L01QRUctNCBBVkMgY29kZWMgLSBDb3B5bGVmdCAyMDAzLTIwMTcgLSBodHRwOi8vd3d3LnZpZGVvbGFuLm9yZy94MjY0Lmh0bWwgLSBvcHRpb25zOiBjYWJhYz0xIHJlZj0zIGRlYmxvY2s9MTowOjAgYW5hbHlzZT0weDE6MHgxMTEgbWU9aGV4IHN1Ym1lPTcgcHN5PTEgcHN5X3JkPTEuMDA6MC4wMCBtaXhlZF9yZWY9MSBtZV9yYW5nZT0xNiBjaHJvbWFfbWU9MSB0cmVsbGlzPTEgOHg4ZGN0PTAgY3FtPTAgZGVhZHpvbmU9MjEsMTEgZmFzdF9wc2tpcD0xIGNocm9tYV9xcF9vZmZzZXQ9NCB0aHJlYWRzPTggbG9va2FoZWFkX3RocmVhZHM9MSBzbGljZWRfdGhyZWFkcz0wIG5yPTAgZGVjaW1hdGU9MSBpbnRlcmxhY2VkPTAgYmx1cmF5X2NvbXBhdD0wIGNvbnN0cmFpbmVkX2ludHJhPTAgYmZyYW1lcz0zIGJfcHlyYW1pZD0yIGJfYWRhcHQ9MSBiX2JpYXM9MCBkaXJlY3Q9MSB3ZWlnaHRiPTEgb3Blbl9nb3A9MCB3ZWlnaHRwPTIga2V5aW50PTI1MCBrZXlpbnRfbWluPTI1IHNjZW5lY3V0PTQwIGludHJhX3JlZnJlc2g9MCByY19sb29rYWhlYWQ9NDAgcmM9Y3JmIG1idHJlZT0xIGNyZj0yMy4wIHFjb21wPTAuNjAgcXBtaW49MCBxcG1heD02OSBxcHN0ZXA9NCBpcF9yYXRpbz0xLjQwIGFxPTE6MS4wMACAAAAC6mWIhAA3//72h/gU2VgT/lm//Q1/3I/bj6z9cWMhBN9aryHowBkvtR/m/6xRbOmelAf34AiUAHNuGcKR2SeOsOTCL1R8ClwE++BTSZFH9pM/JGe/YiSUm2NHJBqH1YpP+tGVdRHp0bk7h3P7b2txVO/WuuyDbkZOGu1bLY8WUUC0TxG+Thr8NeFOiF48N/PwIlmDkcFrnSE7CO07MoNwHgLnKisnZ4lb5XUxnYzwJ7NehwHlp75tCychjkeZs/kS7dfBA9qd1hs8t/NeWi6SUx+9xm4NOBydgPsRAUe1On9Yex7IqmUAMMMQlVErDSXS7tLvp6TN+YE4iVhHAARYfNkmLXMEX6XeVkdDZZKX2P/r1+LyDywC2sKjYAK3NJsOmOaW0M9XaQIvBkfZc5+FaP8mxojlAjvIXyb7UCeyyEuvv5zDiAb3IRzlNrBgDBqhCvkyynH8fteYGQOTqJj1u2C6beny04DJvPuerlvSYR4F/FPQN1HeC+z+AHC1FEHgcQRtmPX+gIFRphuE2W90uD/4rhDqCpOvoggCfNExFBjkm5i2va986FwTMsoLLfZdRipz3rQMHKEm7F51whjXblYMvVgjKeIHZIUZBfbvo/CvyOd3l6rP16FNi2w0zIkg6e77zwJL+CnPYl1XI+jy9rapRdF4L7ebAX28g+qLlCXNE48MC/OgIa39VGwk5gSo1Gu+AzftZGOA/9MzHxkj9MTSKmu2hdaJe5UEQDV789ZARDdQnreqbdg7EE71JoQQLJ7AFwLLiA9WuKskCUDDuEKheylwUYKD5r6iWEWbgHmAIAYKe26nVSGRHJzdC46ADgAvN/sY4T4D19Yck1MfnpqXEwOIwMxVoVMfIjo8HSrsE13PuModvjxW+cmbi0nLO7vkvIgpyR2zcYx37zaIJ4vyR2NY+oGnQ642HTspMPAFeMCnonVSkh8mbKEpXQKA5JfFM6BxUbX/fT2Q/MXJ2gBeuLH3g/XoABjxAAAAOUGaImxDf/6nhAD4E+qbIC3nXj8Qu6T/+QwJcRKxiJbf/hEQoFIvyXBWsS2/CnCZxNN4a8f0Uw+dSAAAABABnkF5Cv8AzZLjgPyf/ovBAAAAGEGaQzwhkymEO//+qZYANV7S8LUE/sBAwAAAABxBmmdJ4Q8mUwId//6plgA0Hwo++OYgpgdlzhklAAAAEUGehUURPC//ADzJ1G85MHAhAAAADwGepHRCvwBUIxi4D8tpYQAAABABnqZqQr8AVBuQw+gJBxwJAAAAEkGaq0moQWiZTAhv//6nhAABJwAAABNBnslFESwv/wAo+S2amZZchoesAAAAEAGe6HRCvwA3QCFwH2cyRWEAAAAQAZ7qakK/ADdOqeTA9e47gAAAABpBmu1JqEFsmUwUTDf//qeEAEO+On3MlB3f/AAAABABnwxqQr8AN0S38B9fwHZxAAAAGUGbDknhClJlMCHf/qmWABXffVlVmbZgUUEAAAASQZsySeEOiZTAh3/+qZYAAJWBAAAADEGfUEURPC//AACygAAAABABn290Qr8AIUqR34APt7XAAAAAEAGfcWpCvwAhSpHezx9va4EAAAATQZt2SahBaJlMCHf//qmWAACVgAAAAAxBn5RFESwv/wAAsoAAAAAQAZ+zdEK/ACFKkd+AD7e1wQAAABABn7VqQr8AIUqR3s8fb2uAAAAAE0GbukmoQWyZTAh3//6plgAAlYEAAAAMQZ/YRRUsL/8AALKBAAAAEAGf93RCvwAhSpHfgA+3tcAAAAAQAZ/5akK/ACFKkd7PH29rgQAAABNBm/5JqEFsmUwId//+qZYAAJWAAAAADEGeHEUVLC//AACygQAAABABnjt0Qr8AIUqR34APt7XBAAAAEAGePWpCvwAhSpHezx9va4AAAAATQZoiSahBbJlMCHf//qmWAACVgAAAAAxBnkBFFSwv/wAAsoEAAAAQAZ5/dEK/ACFKkd+AD7e1wAAAABABnmFqQr8ANMlbF6uw5MhBAAAAE0GaZkmoQWyZTAh3//6plgAAlYAAAAAMQZ6ERRUsL/8AALKBAAAADwGeo3RCvwAiu47o7b4WUwAAAA8BnqVqQr8AIq80QWo8vD8AAAATQZqqSahBbJlMCHf//qmWAACVgQAAAAxBnshFFSwv/wAAsoAAAAAQAZ7ndEK/ACFKkd+AD7e1wAAAABABnulqQr8AIUqR3s8fb2uBAAAAE0Ga7kmoQWyZTAh3//6plgAAlYAAAAAMQZ8MRRUsL/8AALKAAAAAEAGfK3RCvwAhSpHfgA+3tcEAAAAQAZ8takK/ACFKkd7PH29rgQAAABNBmzJJqEFsmUwId//+qZYAAJWBAAAADEGfUEUVLC//AACygAAAABABn290Qr8AIUqR34APt7XAAAAAEAGfcWpCvwAhSpHezx9va4EAAAATQZt2SahBbJlMCHf//qmWAACVgAAAAAxBn5RFFSwv/wAAsoAAAAAQAZ+zdEK/ACFKkd+AD7e1wQAAABABn7VqQr8AIUqR3s8fb2uAAAAAE0GbukmoQWyZTAh3//6plgAAlYEAAAAMQZ/YRRUsL/8AALKBAAAAEAGf93RCvwAhSpHfgA+3tcAAAAAQAZ/5akK/ACFKkd7PH29rgQAAABNBm/5JqEFsmUwId//+qZYAAJWAAAAADEGeHEUVLC//AACygQAAABABnjt0Qr8AIUqR34APt7XBAAAAEAGePWpCvwAhSpHezx9va4AAAAASQZoiSahBbJlMCG///qeEAAEnAAAADEGeQEUVLC//AACygQAAABABnn90Qr8ANNZV3V+O8A0gAAAAEAGeYWpCvwAhSpHezx9va4EAAAAaQZpjSahBbJlMCHf//qmWABVPfV9diDcVFTAAAAAeQZqHSeEKUmUwId/+qZYADae0v6rXwYmfVCyFMNbPAAAAEEGepUU0TC//AA/f7KorxeEAAAAPAZ7EdEK/ABYk5QpNslYvAAAADwGexmpCvwAOJzhsDlPvgQAAABNBmstJqEFomUwId//+qZYAAJWAAAAADEGe6UURLC//AACygAAAABABnwh0Qr8ADitga30sbSK5AAAAEAGfCmpCvwAOJzhr6oOnnvgAAAATQZsPSahBbJlMCHf//qmWAACVgAAAAAxBny1FFSwv/wAAsoEAAAAQAZ9MdEK/AA4rYGt9LG0iuQAAABABn05qQr8ADic4a+qDp575AAAAE0GbU0moQWyZTAh3//6plgAAlYAAAAAMQZ9xRRUsL/8AALKAAAAAEAGfkHRCvwAOK2BrfSxtIrkAAAAQAZ+SakK/AA4nOGvqg6ee+AAAABNBm5dJqEFsmUwId//+qZYAAJWAAAAADEGftUUVLC//AACygQAAABABn9R0Qr8ADitga30sbSK4AAAAEAGf1mpCvwAOJzhr6oOnnvkAAAATQZvbSahBbJlMCHf//qmWAACVgQAAAAxBn/lFFSwv/wAAsoAAAAAQAZ4YdEK/AA4rYGt9LG0iuQAAABABnhpqQr8ADic4a+qDp574AAAAHUGaHUmoQWyZTBRMO//+qZYADZQWYtM0B3fZj3TJAAAAEAGePGpCvwAWKx5bhs2qX4EAAAAWQZohSeEKUmUwId/+qZYADVe0v6utwAAAAA5Bnl9FNEwv/wAPinPFMAAAABABnn50Qr8AIcIA5/WgcoDBAAAADwGeYGpCvwAV6yjdZ6s+xwAAABNBmmVJqEFomUwId//+qZYAAJWBAAAADEGeg0URLC//AACygAAAAA8BnqJ0Qr8AFeso4jsuy4cAAAAPAZ6kakK/ABXrKN1nqz7HAAAAE0GaqUmoQWyZTAh3//6plgAAlYEAAAAMQZ7HRRUsL/8AALKBAAAADwGe5nRCvwAV6yjiOy7LhwAAAA8BnuhqQr8AFeso3WerPscAAAATQZrtSahBbJlMCHf//qmWAACVgQAAAAxBnwtFFSwv/wAAsoAAAAAPAZ8qdEK/ABXrKOI7LsuHAAAADwGfLGpCvwAV6yjdZ6s+xwAAABNBmzFJqEFsmUwId//+qZYAAJWBAAAADEGfT0UVLC//AACygQAAAA8Bn250Qr8AFeso4jsuy4cAAAAPAZ9wakK/ABXrKN1nqz7HAAAAE0GbdUmoQWyZTAh3//6plgAAlYEAAAAMQZ+TRRUsL/8AALKAAAAADwGfsnRCvwAV6yjiOy7LhwAAAA8Bn7RqQr8AFeso3WerPscAAAATQZu5SahBbJlMCHf//qmWAACVgAAAAAxBn9dFFSwv/wAAsoEAAAAPAZ/2dEK/ABXrKOI7LsuHAAAADwGf+GpCvwAV6yjdZ6s+xwAAABNBm/1JqEFsmUwId//+qZYAAJWBAAAADEGeG0UVLC//AACygAAAAA8Bnjp0Qr8AFeso4jsuy4cAAAAPAZ48akK/ABXrKN1nqz7HAAAAE0GaIUmoQWyZTAh3//6plgAAlYAAAAAMQZ5fRRUsL/8AALKAAAAADwGefnRCvwAV6yjiOy7LhwAAAA8BnmBqQr8AFeso3WerPscAAAATQZplSahBbJlMCHf//qmWAACVgQAAAAxBnoNFFSwv/wAAsoAAAAAPAZ6idEK/ABXrKOI7LsuHAAAADwGepGpCvwAV6yjdZ6s+xwAAABNBmqlJqEFsmUwId//+qZYAAJWBAAAADEGex0UVLC//AACygQAAAA8BnuZ0Qr8AFeso4jsuy4cAAAAPAZ7oakK/ABXrKN1nqz7HAAAAE0Ga7UmoQWyZTAh3//6plgAAlYEAAAAMQZ8LRRUsL/8AALKAAAAADwGfKnRCvwAV6yjiOy7LhwAAAA8BnyxqQr8AFeso3WerPscAAAATQZsxSahBbJlMCHf//qmWAACVgQAAAAxBn09FFSwv/wAAsoEAAAAQAZ9udEK/ACHCAOf1oHKAwAAAAA8Bn3BqQr8AFeso3WerPscAAAATQZt1SahBbJlMCHf//qmWAACVgQAAAAxBn5NFFSwv/wAAsoAAAAAPAZ+ydEK/ABXrKOI7LsuHAAAADwGftGpCvwAV6yjdZ6s+xwAAABNBm7lJqEFsmUwId//+qZYAAJWAAAAADEGf10UVLC//AACygQAAAA8Bn/Z0Qr8AFeso4jsuy4cAAAAPAZ/4akK/ABXrKN1nqz7HAAAAE0Gb/UmoQWyZTAh3//6plgAAlYEAAAAMQZ4bRRUsL/8AALKAAAAADwGeOnRCvwAV6yjiOy7LhwAAAA8BnjxqQr8AFeso3WerPscAAAATQZohSahBbJlMCHf//qmWAACVgAAAAAxBnl9FFSwv/wAAsoAAAAAPAZ5+dEK/ABXrKOI7LsuHAAAADwGeYGpCvwAV6yjdZ6s+xwAAABNBmmVJqEFsmUwId//+qZYAAJWBAAAADEGeg0UVLC//AACygAAAAA8BnqJ0Qr8AFeso4jsuy4cAAAAPAZ6kakK/ABXrKN1nqz7HAAAAE0GaqUmoQWyZTAh3//6plgAAlYEAAAAMQZ7HRRUsL/8AALKBAAAADwGe5nRCvwAV6yjiOy7LhwAAABABnuhqQr8AIba13WQw5QGAAAAAE0Ga7UmoQWyZTAh3//6plgAAlYEAAAAMQZ8LRRUsL/8AALKAAAAADwGfKnRCvwAV6yjiOy7LhwAAAA8BnyxqQr8AFeso3WerPscAAAATQZsxSahBbJlMCHf//qmWAACVgQAAAAxBn09FFSwv/wAAsoEAAAAPAZ9udEK/ABXrKOI7LsuHAAAADwGfcGpCvwAV6yjdZ6s+xwAAABNBm3VJqEFsmUwId//+qZYAAJWBAAAADEGfk0UVLC//AACygAAAAA8Bn7J0Qr8AFeso4jsuy4cAAAAPAZ+0akK/ABXrKN1nqz7HAAAAE0GbuUmoQWyZTAh3//6plgAAlYAAAAAMQZ/XRRUsL/8AALKBAAAADwGf9nRCvwAV6yjiOy7LhwAAAA8Bn/hqQr8AFeso3WerPscAAAATQZv9SahBbJlMCHf//qmWAACVgQAAAAxBnhtFFSwv/wAAsoAAAAAPAZ46dEK/ABXrKOI7LsuHAAAADwGePGpCvwAV6yjdZ6s+xwAAABJBmiFJqEFsmUwIb//+p4QAAScAAAAMQZ5fRRUsL/8AALKAAAAADwGefnRCvwAV6yjiOy7LhwAAAA8BnmBqQr8AFeso3WerPscAAAASQZplSahBbJlMCGf//p4QAAR9AAAADEGeg0UVLC//AACygAAAAA8BnqJ0Qr8AFeso4jsuy4cAAAAPAZ6kakK/ABXrKN1nqz7HAAAAGkGaqUuoQhBbJEYIKAfyAf2HgCFf/jhAABFxAAAAI0Gex0UVLC//AgHc6kvbMwq5gOgatahcCUAZaJPC3zKTNJwxAAAADwGe5nRCvwAV6yjiOy7LhwAAACUBnuhqQr8Cr2PtQcTdqsNJJuWqhgcstbvNK+nkkJwUaFI10k/cAAAMiG1vb3YAAABsbXZoZAAAAAAAAAAAAAAAAAAAA+gAAB+QAAEAAAEAAAAAAAAAAAAAAAABAAAAAAAAAAAAAAAAAAAAAQAAAAAAAAAAAAAAAAAAQAAAAAAAAAAAAAAAAAAAAAAAAAAAAAAAAAAAAAAAAAIAAAuydHJhawAAAFx0a2hkAAAAAwAAAAAAAAAAAAAAAQAAAAAAAB+QAAAAAAAAAAAAAAAAAAAAAAABAAAAAAAAAAAAAAAAAAAAAQAAAAAAAAAAAAAAAAAAQAAAAAEQAAABEAAAAAAAJGVkdHMAAAAcZWxzdAAAAAAAAAABAAAfkAAABAAAAQAAAAALKm1kaWEAAAAgbWRoZAAAAAAAAAAAAAAAAAAAMgAAAZQAVcQAAAAAAC1oZGxyAAAAAAAAAAB2aWRlAAAAAAAAAAAAAAAAVmlkZW9IYW5kbGVyAAAACtVtaW5mAAAAFHZtaGQAAAABAAAAAAAAAAAAAAAkZGluZgAAABxkcmVmAAAAAAAAAAEAAAAMdXJsIAAAAAEAAAqVc3RibAAAAJVzdHNkAAAAAAAAAAEAAACFYXZjMQAAAAAAAAABAAAAAAAAAAAAAAAAAAAAAAEQARAASAAAAEgAAAAAAAAAAQAAAAAAAAAAAAAAAAAAAAAAAAAAAAAAAAAAAAAAAAAAABj//wAAAC9hdmNDAfQADf/hABdn9AANkZsoIhHQgAAAAwCAAAAZB4oUywEABWjr48RIAAAAGHN0dHMAAAAAAAAAAQAAAMoAAAIAAAAAFHN0c3MAAAAAAAAAAQAAAAEAAAZgY3R0cwAAAAAAAADKAAAAAQAABAAAAAABAAAGAAAAAAEAAAIAAAAAAQAABAAAAAABAAAKAAAAAAEAAAQAAAAAAQAAAAAAAAABAAACAAAAAAEAAAoAAAAAAQAABAAAAAABAAAAAAAAAAEAAAIAAAAAAQAABgAAAAABAAACAAAAAAEAAAQAAAAAAQAACgAAAAABAAAEAAAAAAEAAAAAAAAAAQAAAgAAAAABAAAKAAAAAAEAAAQAAAAAAQAAAAAAAAABAAACAAAAAAEAAAoAAAAAAQAABAAAAAABAAAAAAAAAAEAAAIAAAAAAQAACgAAAAABAAAEAAAAAAEAAAAAAAAAAQAAAgAAAAABAAAKAAAAAAEAAAQAAAAAAQAAAAAAAAABAAACAAAAAAEAAAoAAAAAAQAABAAAAAABAAAAAAAAAAEAAAIAAAAAAQAACgAAAAABAAAEAAAAAAEAAAAAAAAAAQAAAgAAAAABAAAKAAAAAAEAAAQAAAAAAQAAAAAAAAABAAACAAAAAAEAAAoAAAAAAQAABAAAAAABAAAAAAAAAAEAAAIAAAAAAQAACgAAAAABAAAEAAAAAAEAAAAAAAAAAQAAAgAAAAABAAAKAAAAAAEAAAQAAAAAAQAAAAAAAAABAAACAAAAAAEAAAoAAAAAAQAABAAAAAABAAAAAAAAAAEAAAIAAAAAAQAACgAAAAABAAAEAAAAAAEAAAAAAAAAAQAAAgAAAAABAAAEAAAAAAEAAAoAAAAAAQAABAAAAAABAAAAAAAAAAEAAAIAAAAAAQAACgAAAAABAAAEAAAAAAEAAAAAAAAAAQAAAgAAAAABAAAKAAAAAAEAAAQAAAAAAQAAAAAAAAABAAACAAAAAAEAAAoAAAAAAQAABAAAAAABAAAAAAAAAAEAAAIAAAAAAQAACgAAAAABAAAEAAAAAAEAAAAAAAAAAQAAAgAAAAABAAAKAAAAAAEAAAQAAAAAAQAAAAAAAAABAAACAAAAAAEAAAYAAAAAAQAAAgAAAAABAAAKAAAAAAEAAAQAAAAAAQAAAAAAAAABAAACAAAAAAEAAAoAAAAAAQAABAAAAAABAAAAAAAAAAEAAAIAAAAAAQAACgAAAAABAAAEAAAAAAEAAAAAAAAAAQAAAgAAAAABAAAKAAAAAAEAAAQAAAAAAQAAAAAAAAABAAACAAAAAAEAAAoAAAAAAQAABAAAAAABAAAAAAAAAAEAAAIAAAAAAQAACgAAAAABAAAEAAAAAAEAAAAAAAAAAQAAAgAAAAABAAAKAAAAAAEAAAQAAAAAAQAAAAAAAAABAAACAAAAAAEAAAoAAAAAAQAABAAAAAABAAAAAAAAAAEAAAIAAAAAAQAACgAAAAABAAAEAAAAAAEAAAAAAAAAAQAAAgAAAAABAAAKAAAAAAEAAAQAAAAAAQAAAAAAAAABAAACAAAAAAEAAAoAAAAAAQAABAAAAAABAAAAAAAAAAEAAAIAAAAAAQAACgAAAAABAAAEAAAAAAEAAAAAAAAAAQAAAgAAAAABAAAKAAAAAAEAAAQAAAAAAQAAAAAAAAABAAACAAAAAAEAAAoAAAAAAQAABAAAAAABAAAAAAAAAAEAAAIAAAAAAQAACgAAAAABAAAEAAAAAAEAAAAAAAAAAQAAAgAAAAABAAAKAAAAAAEAAAQAAAAAAQAAAAAAAAABAAACAAAAAAEAAAoAAAAAAQAABAAAAAABAAAAAAAAAAEAAAIAAAAAAQAACgAAAAABAAAEAAAAAAEAAAAAAAAAAQAAAgAAAAABAAAKAAAAAAEAAAQAAAAAAQAAAAAAAAABAAACAAAAAAEAAAoAAAAAAQAABAAAAAABAAAAAAAAAAEAAAIAAAAAAQAACgAAAAABAAAEAAAAAAEAAAAAAAAAAQAAAgAAAAABAAAKAAAAAAEAAAQAAAAAAQAAAAAAAAABAAACAAAAAAEAAAoAAAAAAQAABAAAAAABAAAAAAAAAAEAAAIAAAAAAQAACgAAAAABAAAEAAAAAAEAAAAAAAAAAQAAAgAAAAABAAAKAAAAAAEAAAQAAAAAAQAAAAAAAAABAAACAAAAAAEAAAoAAAAAAQAABAAAAAABAAAAAAAAAAEAAAIAAAAAAQAACgAAAAABAAAEAAAAAAEAAAAAAAAAAQAAAgAAAAAcc3RzYwAAAAAAAAABAAAAAQAAAMoAAAABAAADPHN0c3oAAAAAAAAAAAAAAMoAAAWRAAAAPQAAABQAAAAcAAAAIAAAABUAAAATAAAAFAAAABYAAAAXAAAAFAAAABQAAAAeAAAAFAAAAB0AAAAWAAAAEAAAABQAAAAUAAAAFwAAABAAAAAUAAAAFAAAABcAAAAQAAAAFAAAABQAAAAXAAAAEAAAABQAAAAUAAAAFwAAABAAAAAUAAAAFAAAABcAAAAQAAAAEwAAABMAAAAXAAAAEAAAABQAAAAUAAAAFwAAABAAAAAUAAAAFAAAABcAAAAQAAAAFAAAABQAAAAXAAAAEAAAABQAAAAUAAAAFwAAABAAAAAUAAAAFAAAABcAAAAQAAAAFAAAABQAAAAWAAAAEAAAABQAAAAUAAAAHgAAACIAAAAUAAAAEwAAABMAAAAXAAAAEAAAABQAAAAUAAAAFwAAABAAAAAUAAAAFAAAABcAAAAQAAAAFAAAABQAAAAXAAAAEAAAABQAAAAUAAAAFwAAABAAAAAUAAAAFAAAACEAAAAUAAAAGgAAABIAAAAUAAAAEwAAABcAAAAQAAAAEwAAABMAAAAXAAAAEAAAABMAAAATAAAAFwAAABAAAAATAAAAEwAAABcAAAAQAAAAEwAAABMAAAAXAAAAEAAAABMAAAATAAAAFwAAABAAAAATAAAAEwAAABcAAAAQAAAAEwAAABMAAAAXAAAAEAAAABMAAAATAAAAFwAAABAAAAATAAAAEwAAABcAAAAQAAAAEwAAABMAAAAXAAAAEAAAABMAAAATAAAAFwAAABAAAAAUAAAAEwAAABcAAAAQAAAAEwAAABMAAAAXAAAAEAAAABMAAAATAAAAFwAAABAAAAATAAAAEwAAABcAAAAQAAAAEwAAABMAAAAXAAAAEAAAABMAAAATAAAAFwAAABAAAAATAAAAFAAAABcAAAAQAAAAEwAAABMAAAAXAAAAEAAAABMAAAATAAAAFwAAABAAAAATAAAAEwAAABcAAAAQAAAAEwAAABMAAAAXAAAAEAAAABMAAAATAAAAFgAAABAAAAATAAAAEwAAABYAAAAQAAAAEwAAABMAAAAeAAAAJwAAABMAAAApAAAAFHN0Y28AAAAAAAAAAQAAADAAAABidWR0YQAAAFptZXRhAAAAAAAAACFoZGxyAAAAAAAAAABtZGlyYXBwbAAAAAAAAAAAAAAAAC1pbHN0AAAAJal0b28AAAAdZGF0YQAAAAEAAAAATGF2ZjU4LjIwLjEwMA==\" type=\"video/mp4\" />\n",
       "             </video>"
      ],
      "text/plain": [
       "<IPython.core.display.HTML object>"
      ]
     },
     "execution_count": 12,
     "metadata": {},
     "output_type": "execute_result"
    }
   ],
   "source": [
    "env = Environment(grid_size=size, max_time=T, temperature=0.3)\n",
    "agent = DQN_FC(size, lr=1e-3, epsilon = 0.1, memory_size=2000, batch_size = 128)\n",
    "train(agent, env, epochs_train, prefix='fc_train')\n",
    "HTML(display_videos('fc_train10.mp4'))"
   ]
  },
  {
   "cell_type": "markdown",
   "metadata": {},
   "source": [
    "***\n",
    "***\n",
    "__Question 8__ Implement the DQN training algorithm using a CNN (for example, 2 convolutional layers and one final fully connected layer)."
   ]
  },
  {
   "cell_type": "code",
   "execution_count": 13,
   "metadata": {},
   "outputs": [],
   "source": [
    "class DQN_CNN(DQN):\n",
    "    def __init__(self, *args,lr=0.1,**kwargs):\n",
    "        super(DQN_CNN, self).__init__(*args,**kwargs)\n",
    "        \n",
    "        model = Sequential()\n",
    "        model.add(Conv2D(16, (3, 3), activation='relu', input_shape=(5,5, self.n_state)))\n",
    "        model.add(Conv2D(16, (3, 3), activation='relu'))\n",
    "        model.add(Flatten())\n",
    "        model.add(Dense(4, activation = \"linear\"))\n",
    "        \n",
    "        model.compile(adam(lr=lr, decay=1e-4), \"mse\") # Adam optimiser worked best\n",
    "        self.model = model"
   ]
  },
  {
   "cell_type": "code",
   "execution_count": 14,
   "metadata": {},
   "outputs": [
    {
     "name": "stdout",
     "output_type": "stream",
     "text": [
      "Epoch 000/015 | Loss 0.0119 | Win/lose count 5.5/4.0 (1.5)\n",
      "Epoch 001/015 | Loss 0.0014 | Win/lose count 6.5/1.0 (5.5)\n",
      "Epoch 002/015 | Loss 0.0035 | Win/lose count 4.0/5.0 (-1.0)\n",
      "Epoch 003/015 | Loss 0.0023 | Win/lose count 11.0/6.0 (5.0)\n",
      "Epoch 004/015 | Loss 0.0021 | Win/lose count 8.0/3.0 (5.0)\n",
      "Epoch 005/015 | Loss 0.0392 | Win/lose count 9.5/2.0 (7.5)\n",
      "Epoch 006/015 | Loss 0.0042 | Win/lose count 4.0/5.0 (-1.0)\n",
      "Epoch 007/015 | Loss 0.0479 | Win/lose count 6.0/5.0 (1.0)\n",
      "Epoch 008/015 | Loss 0.0014 | Win/lose count 5.5/3.0 (2.5)\n",
      "Epoch 009/015 | Loss 0.0021 | Win/lose count 5.5/3.0 (2.5)\n",
      "Epoch 010/015 | Loss 0.0017 | Win/lose count 5.5/1.0 (4.5)\n",
      "Epoch 011/015 | Loss 0.0037 | Win/lose count 5.0/2.0 (3.0)\n",
      "Epoch 012/015 | Loss 0.0042 | Win/lose count 9.0/2.0 (7.0)\n",
      "Epoch 013/015 | Loss 0.0030 | Win/lose count 7.5/4.0 (3.5)\n",
      "Epoch 014/015 | Loss 0.0020 | Win/lose count 7.5/6.0 (1.5)\n"
     ]
    },
    {
     "data": {
      "text/html": [
       "<video alt=\"test\" controls>\n",
       "                <source src=\"data:video/mp4;base64,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\" type=\"video/mp4\" />\n",
       "             </video>"
      ],
      "text/plain": [
       "<IPython.core.display.HTML object>"
      ]
     },
     "execution_count": 14,
     "metadata": {},
     "output_type": "execute_result"
    }
   ],
   "source": [
    "env = Environment(grid_size=size, max_time=T, temperature=0.3)\n",
    "agent = DQN_CNN(size, lr=1e-3, epsilon = 0.1, memory_size=2000, batch_size = 32)\n",
    "train(agent,env,epochs_train,prefix='cnn_train')\n",
    "HTML(display_videos('cnn_train10.mp4'))"
   ]
  },
  {
   "cell_type": "markdown",
   "metadata": {},
   "source": [
    "***\n",
    "***\n",
    "__Question 9__ Test both algorithms and compare their performances. Which issue(s) do you observe? Observe also different behaviors by changing the temperature."
   ]
  },
  {
   "cell_type": "code",
   "execution_count": 15,
   "metadata": {},
   "outputs": [
    {
     "name": "stdout",
     "output_type": "stream",
     "text": [
      "Test of the CNN\n",
      "Win/lose count 0/1.0. Average score (-1.0)\n",
      "Win/lose count 0/1.0. Average score (-1.0)\n",
      "Win/lose count 0.5/1.0. Average score (-0.8333333333333334)\n",
      "Win/lose count 4.0/1.0. Average score (0.125)\n",
      "Win/lose count 0.5/0. Average score (0.2)\n",
      "Win/lose count 1.0/6.0. Average score (-0.6666666666666666)\n",
      "Win/lose count 2.5/1.0. Average score (-0.35714285714285715)\n",
      "Win/lose count 1.5/0. Average score (-0.125)\n",
      "Win/lose count 1.0/3.0. Average score (-0.3333333333333333)\n",
      "Win/lose count 0/2.0. Average score (-0.5)\n",
      "Win/lose count 0.5/0. Average score (-0.4090909090909091)\n",
      "Final score: -0.4090909090909091\n",
      "Test of the FC\n",
      "Win/lose count 1.0/2.0. Average score (-1.0)\n",
      "Win/lose count 0/1.0. Average score (-1.0)\n",
      "Win/lose count 2.0/0. Average score (0.0)\n",
      "Win/lose count 3.0/0. Average score (0.75)\n",
      "Win/lose count 0/1.0. Average score (0.4)\n",
      "Win/lose count 1.0/0. Average score (0.5)\n",
      "Win/lose count 0.5/2.0. Average score (0.21428571428571427)\n",
      "Win/lose count 3.5/0. Average score (0.625)\n",
      "Win/lose count 1.0/2.0. Average score (0.4444444444444444)\n",
      "Win/lose count 2.0/0. Average score (0.6)\n",
      "Win/lose count 1.0/2.0. Average score (0.45454545454545453)\n",
      "Final score: 0.45454545454545453\n"
     ]
    }
   ],
   "source": [
    "env = Environment(grid_size=size, max_time=T,temperature=0.3)\n",
    "agent_cnn = DQN_CNN(size, lr=.1, epsilon = 0.1, memory_size=2000, batch_size = 32)\n",
    "agent_cnn.load(name_weights='cnn_trainmodel.h5',name_model='cnn_trainmodel.json')\n",
    "\n",
    "agent_fc = DQN_FC(size, lr=.1, epsilon = 0.1, memory_size=2000, batch_size = 32)\n",
    "agent_cnn.load(name_weights='fc_trainmodel.h5',name_model='fc_trainmodel.json')\n",
    "print('Test of the CNN')\n",
    "test(agent_cnn,env,epochs_test,prefix='cnn_test')\n",
    "print('Test of the FC')\n",
    "test(agent_fc,env,epochs_test,prefix='fc_test')"
   ]
  },
  {
   "cell_type": "code",
   "execution_count": 16,
   "metadata": {},
   "outputs": [
    {
     "data": {
      "text/html": [
       "<video alt=\"test\" controls>\n",
       "                <source src=\"data:video/mp4;base64,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\" type=\"video/mp4\" />\n",
       "             </video>"
      ],
      "text/plain": [
       "<IPython.core.display.HTML object>"
      ]
     },
     "execution_count": 16,
     "metadata": {},
     "output_type": "execute_result"
    }
   ],
   "source": [
    "HTML(display_videos('cnn_test10.mp4'))"
   ]
  },
  {
   "cell_type": "code",
   "execution_count": 17,
   "metadata": {},
   "outputs": [
    {
     "data": {
      "text/html": [
       "<video alt=\"test\" controls>\n",
       "                <source src=\"data:video/mp4;base64,AAAAIGZ0eXBpc29tAAACAGlzb21pc28yYXZjMW1wNDEAAAAIZnJlZQAAFlRtZGF0AAACnwYF//+b3EXpvebZSLeWLNgg2SPu73gyNjQgLSBjb3JlIDE1MiAtIEguMjY0L01QRUctNCBBVkMgY29kZWMgLSBDb3B5bGVmdCAyMDAzLTIwMTcgLSBodHRwOi8vd3d3LnZpZGVvbGFuLm9yZy94MjY0Lmh0bWwgLSBvcHRpb25zOiBjYWJhYz0xIHJlZj0zIGRlYmxvY2s9MTowOjAgYW5hbHlzZT0weDE6MHgxMTEgbWU9aGV4IHN1Ym1lPTcgcHN5PTEgcHN5X3JkPTEuMDA6MC4wMCBtaXhlZF9yZWY9MSBtZV9yYW5nZT0xNiBjaHJvbWFfbWU9MSB0cmVsbGlzPTEgOHg4ZGN0PTAgY3FtPTAgZGVhZHpvbmU9MjEsMTEgZmFzdF9wc2tpcD0xIGNocm9tYV9xcF9vZmZzZXQ9NCB0aHJlYWRzPTggbG9va2FoZWFkX3RocmVhZHM9MSBzbGljZWRfdGhyZWFkcz0wIG5yPTAgZGVjaW1hdGU9MSBpbnRlcmxhY2VkPTAgYmx1cmF5X2NvbXBhdD0wIGNvbnN0cmFpbmVkX2ludHJhPTAgYmZyYW1lcz0zIGJfcHlyYW1pZD0yIGJfYWRhcHQ9MSBiX2JpYXM9MCBkaXJlY3Q9MSB3ZWlnaHRiPTEgb3Blbl9nb3A9MCB3ZWlnaHRwPTIga2V5aW50PTI1MCBrZXlpbnRfbWluPTI1IHNjZW5lY3V0PTQwIGludHJhX3JlZnJlc2g9MCByY19sb29rYWhlYWQ9NDAgcmM9Y3JmIG1idHJlZT0xIGNyZj0yMy4wIHFjb21wPTAuNjAgcXBtaW49MCBxcG1heD02OSBxcHN0ZXA9NCBpcF9yYXRpbz0xLjQwIGFxPTE6MS4wMACAAAAC9WWIhAA3//72h/gU2VgT/lm//Q1/3I/bj6z9cWMhBN9aryHowBkvtR/m/6xRbOmelAf34AiUAHNuGcKSKGf/AplscL4FCvxxGnF9eFp/gztkiyMz9+G0vP1aZmq6tD6C5hm9wKPfCXOIGhRFDYDa2GQhzbDC7F6jTMTGurui8YwDc4n1FE8A7wwsUDM+c0MS1PinwKV5Sa4CFSnvCLJE0G3JJ/PqDC8j2DDufjYGcX+ISen53M6iI1m/5Tjnvy2vMZ0YCIRim5R3yIuEMZ0DyQsK2WIOpSwDDt7gj37ErBPzm5sGQl6vD6BiasU8PRIJFFjhOiBtZYqQ2vlE4Gew0Ju4CRSAjBs9jGSX4F9IXgbpowve6kjKvwUw2KAH9IWoWl8ILGfT/sxG8rGgpWRGyZdoIEICXSuQAQykX0nWA7hw0Ahp2vk+ePt1wiHsFOXBYQX5U7a6CniSJjbjMHlMUgwvAQFMgybWcMKrTdkkvT5gU6Kd5mP09zHBPiJRnIA1tKrIvf9sFKWa78rIvxyLvlAT+Qh9SlMLesMa7eGzpkITeO760rLYx/PPoz05giE43AN2WvYYqkpB/e3DxdOGsPDr929SUW6Xf+IOgKRPB/k4YLAm7NPTgscshHBhKiEHaFogvY7hSs2AAAClXh1zgeQyOuIN0dmt0ZVYva6muDg/IsOnu4DacwqzniJhq+KWPLfHrkUUlIdcUqucTBpFSVg0yE93r4BGupHLFgMQ+D/0IKmgwApzNKfpbR+LofeYSRO5PE6qFzQwl2g4kX7fFzQwmG48xQDdFAACtd3+qUncRYkJQHVMDZioO+qRmMxbfF24Ka+sVJEWeQZyJ6dZEAGWfVMwkSiAXmOryfZ9pXoHFLN0cSCByx/06fueUrqE2JhwSwCkoRmZIClk/5/P0YY3VYn8r31lfZDOcvFlNpK8AOY0QiqB7gnC7nJVrWS9GP4W1/BWLPAYMRRQ2gtFNG+KKF/imD52+5gTM9Xhvt59+QAAcEEAAAAlQZokbEN//qeEAKz7xlzmWVz3j8ClS2fgUzsDFAusXuGtRVEmQAAAABJBnkJ4hf8AZxwac23S08j3BcEAAAAQAZ5hdEK/ADoRhPy/tNfo4AAAABABnmNqQr8Aiuzxyv7cPq9BAAAAGkGaZUmoQWiZTAhv//6nhAEEQBZtiANIaXdBAAAAGEGah0nhClJlMFESw3/+p4QBxu+z68DUgQAAABABnqZqQr8BUY2u6yGHI4GBAAAAEUGaq0nhDomUwIb//qeEAAEnAAAADEGeyUUVPC//AACygAAAABABnuh0Qr8BUegHP60DkcDBAAAACgGe6mpCvwAA7oAAAAASQZrtSahBaJlMFPDf/qeEAAEnAAAAEAGfDGpCvwFRja7rIYcjgYEAAAASQZsPSeEKUmUwUsN//qeEAAEnAAAAEAGfLmpCvwFRja7rIYcjgYEAAAASQZsxSeEOiZTBRMN//qeEAAEnAAAAEAGfUGpCvwFRja7rIYcjgYAAAAASQZtTSeEPJlMFPDf//qeEAAEnAAAAEAGfcmpCvwFRja7rIYcjgYAAAAASQZt1SeEPJlMFPDf//qeEAAEnAAAAEAGflGpCvwFRja7rIYcjgYEAAAASQZuXSeEPJlMFPDf//qeEAAEnAAAAEAGftmpCvwFRja7rIYcjgYEAAAASQZu5SeEPJlMFPDf//qeEAAEnAAAAEAGf2GpCvwFRja7rIYcjgYAAAAASQZvbSeEPJlMFPDf//qeEAAEnAAAAEAGf+mpCvwFRja7rIYcjgYAAAAASQZv9SeEPJlMFPDf//qeEAAEnAAAAEAGeHGpCvwFRja7rIYcjgYEAAAASQZofSeEPJlMFPDf//qeEAAEnAAAAEAGePmpCvwFRja7rIYcjgYAAAAASQZohSeEPJlMFPDf//qeEAAEnAAAAEAGeQGpCvwFRja7rIYcjgYAAAAASQZpDSeEPJlMFPDf//qeEAAEnAAAAEAGeYmpCvwFRja7rIYcjgYAAAAASQZplSeEPJlMFPDf//qeEAAEnAAAAEAGehGpCvwFRja7rIYcjgYEAAAASQZqHSeEPJlMFPDf//qeEAAEnAAAAEAGepmpCvwFRja7rIYcjgYEAAAASQZqpSeEPJlMFPDf//qeEAAEnAAAAEAGeyGpCvwFRja7rIYcjgYAAAAASQZrLSeEPJlMFPDf//qeEAAEnAAAAEAGe6mpCvwFRja7rIYcjgYAAAAASQZrtSeEPJlMFPDf//qeEAAEnAAAAEAGfDGpCvwFRja7rIYcjgYEAAAASQZsPSeEPJlMFPDf//qeEAAEnAAAAEAGfLmpCvwFRja7rIYcjgYEAAAASQZsxSeEPJlMFPDf//qeEAAEnAAAAEAGfUGpCvwFRja7rIYcjgYAAAAASQZtTSeEPJlMFPDf//qeEAAEnAAAAEAGfcmpCvwFRja7rIYcjgYAAAAASQZt1SeEPJlMFPDf//qeEAAEnAAAAEAGflGpCvwFRja7rIYcjgYEAAAASQZuXSeEPJlMFPDf//qeEAAEnAAAAEAGftmpCvwFRja7rIYcjgYEAAAASQZu5SeEPJlMFPDf//qeEAAEnAAAAEAGf2GpCvwFRja7rIYcjgYAAAAASQZvbSeEPJlMFPDf//qeEAAEnAAAAEAGf+mpCvwFRja7rIYcjgYAAAAASQZv9SeEPJlMFPDf//qeEAAEnAAAAEAGeHGpCvwFRja7rIYcjgYEAAAASQZofSeEPJlMFPDf//qeEAAEnAAAAEAGePmpCvwFRja7rIYcjgYAAAAASQZohSeEPJlMFPDf//qeEAAEnAAAAEAGeQGpCvwFRja7rIYcjgYAAAAASQZpDSeEPJlMFPDf//qeEAAEnAAAAEAGeYmpCvwFRja7rIYcjgYAAAAASQZplSeEPJlMFPDf//qeEAAEnAAAAEAGehGpCvwFRja7rIYcjgYEAAAASQZqHSeEPJlMFPDf//qeEAAEnAAAAEAGepmpCvwFRja7rIYcjgYEAAAASQZqpSeEPJlMFPDf//qeEAAEnAAAAEAGeyGpCvwFRja7rIYcjgYAAAAASQZrLSeEPJlMFPDf//qeEAAEnAAAAEAGe6mpCvwFRja7rIYcjgYAAAAASQZrtSeEPJlMFPDf//qeEAAEnAAAAEAGfDGpCvwFRja7rIYcjgYEAAAASQZsPSeEPJlMFPDf//qeEAAEnAAAAEAGfLmpCvwFRja7rIYcjgYEAAAASQZsxSeEPJlMFPDf//qeEAAEnAAAAEAGfUGpCvwFRja7rIYcjgYAAAAASQZtTSeEPJlMFPDf//qeEAAEnAAAAEAGfcmpCvwFRja7rIYcjgYAAAAASQZt1SeEPJlMFPDf//qeEAAEnAAAAEAGflGpCvwFRja7rIYcjgYEAAAASQZuXSeEPJlMFPDf//qeEAAEnAAAAEAGftmpCvwFRja7rIYcjgYEAAAASQZu5SeEPJlMFPDf//qeEAAEnAAAAEAGf2GpCvwFRja7rIYcjgYAAAAASQZvbSeEPJlMFPDf//qeEAAEnAAAAEAGf+mpCvwFRja7rIYcjgYAAAAASQZv9SeEPJlMFPDf//qeEAAEnAAAAEAGeHGpCvwFRja7rIYcjgYEAAAASQZofSeEPJlMFPDf//qeEAAEnAAAAEAGePmpCvwFRja7rIYcjgYAAAAASQZohSeEPJlMFPDf//qeEAAEnAAAAEAGeQGpCvwFRja7rIYcjgYAAAAASQZpDSeEPJlMFPDf//qeEAAEnAAAAEAGeYmpCvwFRja7rIYcjgYAAAAASQZplSeEPJlMFPDf//qeEAAEnAAAAEAGehGpCvwFRja7rIYcjgYEAAAASQZqHSeEPJlMFPDf//qeEAAEnAAAAEAGepmpCvwFRja7rIYcjgYEAAAASQZqpSeEPJlMFPDf//qeEAAEnAAAAEAGeyGpCvwFRja7rIYcjgYAAAAASQZrLSeEPJlMFPDf//qeEAAEnAAAAEAGe6mpCvwFRja7rIYcjgYAAAAASQZrtSeEPJlMFPDf//qeEAAEnAAAAEAGfDGpCvwFRja7rIYcjgYEAAAASQZsPSeEPJlMFPDf//qeEAAEnAAAAEAGfLmpCvwFRja7rIYcjgYEAAAASQZsxSeEPJlMFPDf//qeEAAEnAAAAEAGfUGpCvwFRja7rIYcjgYAAAAASQZtTSeEPJlMFPDf//qeEAAEnAAAAEAGfcmpCvwFRja7rIYcjgYAAAAASQZt1SeEPJlMFPDf//qeEAAEnAAAAEAGflGpCvwFRja7rIYcjgYEAAAASQZuXSeEPJlMFPDf//qeEAAEnAAAAEAGftmpCvwFRja7rIYcjgYEAAAASQZu5SeEPJlMFPDf//qeEAAEnAAAAEAGf2GpCvwFRja7rIYcjgYAAAAASQZvbSeEPJlMFPDf//qeEAAEnAAAAEAGf+mpCvwFRja7rIYcjgYAAAAASQZv9SeEPJlMFPDf//qeEAAEnAAAAEAGeHGpCvwFRja7rIYcjgYEAAAASQZofSeEPJlMFPDf//qeEAAEnAAAAEAGePmpCvwFRja7rIYcjgYAAAAASQZohSeEPJlMFPDf//qeEAAEnAAAAEAGeQGpCvwFRja7rIYcjgYAAAAASQZpDSeEPJlMFPDf//qeEAAEnAAAAEAGeYmpCvwFRja7rIYcjgYAAAAASQZplSeEPJlMFPDf//qeEAAEnAAAAEAGehGpCvwFRja7rIYcjgYEAAAASQZqHSeEPJlMFPDf//qeEAAEnAAAAEAGepmpCvwFRja7rIYcjgYEAAAASQZqpSeEPJlMFPDf//qeEAAEnAAAAEAGeyGpCvwFRja7rIYcjgYAAAAASQZrLSeEPJlMFPDf//qeEAAEnAAAAEAGe6mpCvwFRja7rIYcjgYAAAAASQZrtSeEPJlMFPDf//qeEAAEnAAAAEAGfDGpCvwFRja7rIYcjgYEAAAASQZsPSeEPJlMFPDf//qeEAAEnAAAAEAGfLmpCvwFRja7rIYcjgYEAAAASQZsxSeEPJlMFPDf//qeEAAEnAAAAEAGfUGpCvwFRja7rIYcjgYAAAAASQZtTSeEPJlMFPDf//qeEAAEnAAAAEAGfcmpCvwFRja7rIYcjgYAAAAASQZt1SeEPJlMFPDf//qeEAAEnAAAAEAGflGpCvwFRja7rIYcjgYEAAAASQZuXSeEPJlMFPDf//qeEAAEnAAAAEAGftmpCvwFRja7rIYcjgYEAAAASQZu5SeEPJlMFPDf//qeEAAEnAAAAEAGf2GpCvwFRja7rIYcjgYAAAAASQZvbSeEPJlMFPDf//qeEAAEnAAAAEAGf+mpCvwFRja7rIYcjgYAAAAASQZv9SeEPJlMFPDf//qeEAAEnAAAAEAGeHGpCvwFRja7rIYcjgYEAAAASQZofSeEPJlMFPDf//qeEAAEnAAAAEAGePmpCvwFRja7rIYcjgYAAAAASQZohSeEPJlMFPDf//qeEAAEnAAAAEAGeQGpCvwFRja7rIYcjgYAAAAASQZpDSeEPJlMFPDf//qeEAAEnAAAAEAGeYmpCvwFRja7rIYcjgYAAAAASQZplSeEPJlMFPDf//qeEAAEnAAAAEAGehGpCvwFRja7rIYcjgYEAAAASQZqHSeEPJlMFPDf//qeEAAEnAAAAEAGepmpCvwFRja7rIYcjgYEAAAASQZqpSeEPJlMFPDf//qeEAAEnAAAAEAGeyGpCvwFRja7rIYcjgYAAAAASQZrLSeEPJlMFPDf//qeEAAEnAAAAEAGe6mpCvwFRja7rIYcjgYAAAAASQZrtSeEPJlMFPDf//qeEAAEnAAAAEAGfDGpCvwFRja7rIYcjgYEAAAASQZsPSeEPJlMFPDf//qeEAAEnAAAAEAGfLmpCvwFRja7rIYcjgYEAAAASQZsxSeEPJlMFPDf//qeEAAEnAAAAEAGfUGpCvwFRja7rIYcjgYAAAAASQZtTSeEPJlMFPDf//qeEAAEnAAAAEAGfcmpCvwFRja7rIYcjgYAAAAASQZt1SeEPJlMFPDf//qeEAAEnAAAAEAGflGpCvwFRja7rIYcjgYEAAAASQZuXSeEPJlMFPDf//qeEAAEnAAAAEAGftmpCvwFRja7rIYcjgYEAAAASQZu5SeEPJlMFPDf//qeEAAEnAAAAEAGf2GpCvwFRja7rIYcjgYAAAAASQZvbSeEPJlMFPDf//qeEAAEnAAAAEAGf+mpCvwFRja7rIYcjgYAAAAASQZv9SeEPJlMFPDf//qeEAAEnAAAAEAGeHGpCvwFRja7rIYcjgYEAAAASQZofSeEPJlMFPDf//qeEAAEnAAAAEAGePmpCvwFRja7rIYcjgYAAAAASQZohSeEPJlMFPDf//qeEAAEnAAAAEAGeQGpCvwFRja7rIYcjgYAAAAASQZpDSeEPJlMFPDf//qeEAAEnAAAAEAGeYmpCvwFRja7rIYcjgYAAAAASQZplSeEPJlMFPDP//p4QAAR9AAAAEAGehGpCvwFRja7rIYcjgYEAAAASQZqHSeEPJlMFPDP//p4QAAR9AAAAEAGepmpCvwFRja7rIYcjgYEAAAAaQZqpS+EIQ8kRggoB/IB/YeAU8K/+OEAAEXAAAAAmAZ7IakK/Aq9j7UHE3arDSSblntNliivuvr2EveZw6gmyMGyZ+mAAAAyIbW9vdgAAAGxtdmhkAAAAAAAAAAAAAAAAAAAD6AAAH5AAAQAAAQAAAAAAAAAAAAAAAAEAAAAAAAAAAAAAAAAAAAABAAAAAAAAAAAAAAAAAABAAAAAAAAAAAAAAAAAAAAAAAAAAAAAAAAAAAAAAAAAAgAAC7J0cmFrAAAAXHRraGQAAAADAAAAAAAAAAAAAAABAAAAAAAAH5AAAAAAAAAAAAAAAAAAAAAAAAEAAAAAAAAAAAAAAAAAAAABAAAAAAAAAAAAAAAAAABAAAAAARAAAAEQAAAAAAAkZWR0cwAAABxlbHN0AAAAAAAAAAEAAB+QAAAEAAABAAAAAAsqbWRpYQAAACBtZGhkAAAAAAAAAAAAAAAAAAAyAAABlABVxAAAAAAALWhkbHIAAAAAAAAAAHZpZGUAAAAAAAAAAAAAAABWaWRlb0hhbmRsZXIAAAAK1W1pbmYAAAAUdm1oZAAAAAEAAAAAAAAAAAAAACRkaW5mAAAAHGRyZWYAAAAAAAAAAQAAAAx1cmwgAAAAAQAACpVzdGJsAAAAlXN0c2QAAAAAAAAAAQAAAIVhdmMxAAAAAAAAAAEAAAAAAAAAAAAAAAAAAAAAARABEABIAAAASAAAAAAAAAABAAAAAAAAAAAAAAAAAAAAAAAAAAAAAAAAAAAAAAAAAAAAGP//AAAAL2F2Y0MB9AAN/+EAF2f0AA2RmygiEdCAAAADAIAAABkHihTLAQAFaOvjxEgAAAAYc3R0cwAAAAAAAAABAAAAygAAAgAAAAAUc3RzcwAAAAAAAAABAAAAAQAABmBjdHRzAAAAAAAAAMoAAAABAAAEAAAAAAEAAAoAAAAAAQAABAAAAAABAAAAAAAAAAEAAAIAAAAAAQAABAAAAAABAAAGAAAAAAEAAAIAAAAAAQAACgAAAAABAAAEAAAAAAEAAAAAAAAAAQAAAgAAAAABAAAGAAAAAAEAAAIAAAAAAQAABgAAAAABAAACAAAAAAEAAAYAAAAAAQAAAgAAAAABAAAGAAAAAAEAAAIAAAAAAQAABgAAAAABAAACAAAAAAEAAAYAAAAAAQAAAgAAAAABAAAGAAAAAAEAAAIAAAAAAQAABgAAAAABAAACAAAAAAEAAAYAAAAAAQAAAgAAAAABAAAGAAAAAAEAAAIAAAAAAQAABgAAAAABAAACAAAAAAEAAAYAAAAAAQAAAgAAAAABAAAGAAAAAAEAAAIAAAAAAQAABgAAAAABAAACAAAAAAEAAAYAAAAAAQAAAgAAAAABAAAGAAAAAAEAAAIAAAAAAQAABgAAAAABAAACAAAAAAEAAAYAAAAAAQAAAgAAAAABAAAGAAAAAAEAAAIAAAAAAQAABgAAAAABAAACAAAAAAEAAAYAAAAAAQAAAgAAAAABAAAGAAAAAAEAAAIAAAAAAQAABgAAAAABAAACAAAAAAEAAAYAAAAAAQAAAgAAAAABAAAGAAAAAAEAAAIAAAAAAQAABgAAAAABAAACAAAAAAEAAAYAAAAAAQAAAgAAAAABAAAGAAAAAAEAAAIAAAAAAQAABgAAAAABAAACAAAAAAEAAAYAAAAAAQAAAgAAAAABAAAGAAAAAAEAAAIAAAAAAQAABgAAAAABAAACAAAAAAEAAAYAAAAAAQAAAgAAAAABAAAGAAAAAAEAAAIAAAAAAQAABgAAAAABAAACAAAAAAEAAAYAAAAAAQAAAgAAAAABAAAGAAAAAAEAAAIAAAAAAQAABgAAAAABAAACAAAAAAEAAAYAAAAAAQAAAgAAAAABAAAGAAAAAAEAAAIAAAAAAQAABgAAAAABAAACAAAAAAEAAAYAAAAAAQAAAgAAAAABAAAGAAAAAAEAAAIAAAAAAQAABgAAAAABAAACAAAAAAEAAAYAAAAAAQAAAgAAAAABAAAGAAAAAAEAAAIAAAAAAQAABgAAAAABAAACAAAAAAEAAAYAAAAAAQAAAgAAAAABAAAGAAAAAAEAAAIAAAAAAQAABgAAAAABAAACAAAAAAEAAAYAAAAAAQAAAgAAAAABAAAGAAAAAAEAAAIAAAAAAQAABgAAAAABAAACAAAAAAEAAAYAAAAAAQAAAgAAAAABAAAGAAAAAAEAAAIAAAAAAQAABgAAAAABAAACAAAAAAEAAAYAAAAAAQAAAgAAAAABAAAGAAAAAAEAAAIAAAAAAQAABgAAAAABAAACAAAAAAEAAAYAAAAAAQAAAgAAAAABAAAGAAAAAAEAAAIAAAAAAQAABgAAAAABAAACAAAAAAEAAAYAAAAAAQAAAgAAAAABAAAGAAAAAAEAAAIAAAAAAQAABgAAAAABAAACAAAAAAEAAAYAAAAAAQAAAgAAAAABAAAGAAAAAAEAAAIAAAAAAQAABgAAAAABAAACAAAAAAEAAAYAAAAAAQAAAgAAAAABAAAGAAAAAAEAAAIAAAAAAQAABgAAAAABAAACAAAAAAEAAAYAAAAAAQAAAgAAAAABAAAGAAAAAAEAAAIAAAAAAQAABgAAAAABAAACAAAAAAEAAAYAAAAAAQAAAgAAAAABAAAGAAAAAAEAAAIAAAAAAQAABgAAAAABAAACAAAAAAEAAAYAAAAAAQAAAgAAAAABAAAGAAAAAAEAAAIAAAAAAQAABgAAAAABAAACAAAAAAEAAAYAAAAAAQAAAgAAAAABAAAGAAAAAAEAAAIAAAAAAQAABgAAAAABAAACAAAAAAEAAAYAAAAAAQAAAgAAAAABAAAGAAAAAAEAAAIAAAAAAQAABgAAAAABAAACAAAAAAEAAAYAAAAAAQAAAgAAAAABAAAGAAAAAAEAAAIAAAAAAQAABgAAAAABAAACAAAAAAEAAAYAAAAAAQAAAgAAAAABAAAGAAAAAAEAAAIAAAAAAQAABgAAAAABAAACAAAAAAEAAAYAAAAAAQAAAgAAAAABAAAGAAAAAAEAAAIAAAAAAQAABgAAAAABAAACAAAAABxzdHNjAAAAAAAAAAEAAAABAAAAygAAAAEAAAM8c3RzegAAAAAAAAAAAAAAygAABZwAAAApAAAAFgAAABQAAAAUAAAAHgAAABwAAAAUAAAAFQAAABAAAAAUAAAADgAAABYAAAAUAAAAFgAAABQAAAAWAAAAFAAAABYAAAAUAAAAFgAAABQAAAAWAAAAFAAAABYAAAAUAAAAFgAAABQAAAAWAAAAFAAAABYAAAAUAAAAFgAAABQAAAAWAAAAFAAAABYAAAAUAAAAFgAAABQAAAAWAAAAFAAAABYAAAAUAAAAFgAAABQAAAAWAAAAFAAAABYAAAAUAAAAFgAAABQAAAAWAAAAFAAAABYAAAAUAAAAFgAAABQAAAAWAAAAFAAAABYAAAAUAAAAFgAAABQAAAAWAAAAFAAAABYAAAAUAAAAFgAAABQAAAAWAAAAFAAAABYAAAAUAAAAFgAAABQAAAAWAAAAFAAAABYAAAAUAAAAFgAAABQAAAAWAAAAFAAAABYAAAAUAAAAFgAAABQAAAAWAAAAFAAAABYAAAAUAAAAFgAAABQAAAAWAAAAFAAAABYAAAAUAAAAFgAAABQAAAAWAAAAFAAAABYAAAAUAAAAFgAAABQAAAAWAAAAFAAAABYAAAAUAAAAFgAAABQAAAAWAAAAFAAAABYAAAAUAAAAFgAAABQAAAAWAAAAFAAAABYAAAAUAAAAFgAAABQAAAAWAAAAFAAAABYAAAAUAAAAFgAAABQAAAAWAAAAFAAAABYAAAAUAAAAFgAAABQAAAAWAAAAFAAAABYAAAAUAAAAFgAAABQAAAAWAAAAFAAAABYAAAAUAAAAFgAAABQAAAAWAAAAFAAAABYAAAAUAAAAFgAAABQAAAAWAAAAFAAAABYAAAAUAAAAFgAAABQAAAAWAAAAFAAAABYAAAAUAAAAFgAAABQAAAAWAAAAFAAAABYAAAAUAAAAFgAAABQAAAAWAAAAFAAAABYAAAAUAAAAFgAAABQAAAAWAAAAFAAAABYAAAAUAAAAFgAAABQAAAAWAAAAFAAAABYAAAAUAAAAFgAAABQAAAAWAAAAFAAAABYAAAAUAAAAFgAAABQAAAAWAAAAFAAAABYAAAAUAAAAHgAAACoAAAAUc3RjbwAAAAAAAAABAAAAMAAAAGJ1ZHRhAAAAWm1ldGEAAAAAAAAAIWhkbHIAAAAAAAAAAG1kaXJhcHBsAAAAAAAAAAAAAAAALWlsc3QAAAAlqXRvbwAAAB1kYXRhAAAAAQAAAABMYXZmNTguMjAuMTAw\" type=\"video/mp4\" />\n",
       "             </video>"
      ],
      "text/plain": [
       "<IPython.core.display.HTML object>"
      ]
     },
     "execution_count": 17,
     "metadata": {},
     "output_type": "execute_result"
    }
   ],
   "source": [
    "HTML(display_videos('fc_test10.mp4'))"
   ]
  },
  {
   "cell_type": "markdown",
   "metadata": {},
   "source": [
    "#### Issue with these algorithm\n",
    "It seems that the agent is not exploring the environnnement at all. A good stategy is to go back and forth. It prenvents the agent from collecting negative rewards.\n",
    "\n",
    "#### Influence of the temperature\n",
    "When the agent has collected all the rewards in a area, he only sees negative rewards and no rewards. He does not know where to go and he can get stuck in a \"minimum of potential\" (it goes back and forth).\n",
    "\n",
    "This issue is more likely the happen when the temperature is low because there is fewer positive rewards.\n",
    "\n",
    "#### How to fix the problem ?\n",
    "A solution is to have an $\\epsilon$-greedy policy. At the begenning of the learning, the agent explores a lot (random mooves). It helps to have an accurate évaluation of $Q^*$ for a lot of different situations. Then, as $\\epsilon$ decrease, it exploit more.\n",
    "\n",
    "To avoid being stuck, we can penelise cells already visited. But the penalisation should stay smaller than the rewards of the poisonous cells, otherwise the agent will prefer to go on a posoinous cell than on a already visited cell."
   ]
  },
  {
   "cell_type": "markdown",
   "metadata": {},
   "source": [
    "***\n",
    "\n",
    "The algorithm tends to not explore the map which can be an issue. We propose two ideas in order to encourage exploration:\n",
    "1. Incorporating a decreasing $\\epsilon$-greedy exploration. You can use the method ```set_epsilon```\n",
    "2. Append via the environment a new state that describes if a cell has been visited or not\n",
    "\n",
    "***\n",
    "__Question 10__ Design a new ```train_explore``` function and environment class ```EnvironmentExploring``` to tackle the issue of exploration.\n",
    "\n"
   ]
  },
  {
   "cell_type": "code",
   "execution_count": 18,
   "metadata": {},
   "outputs": [],
   "source": [
    "def train_explore(agent,env,epoch,prefix=''):\n",
    "    # Number of won games\n",
    "    score = 0\n",
    "    loss = 0\n",
    "    \n",
    "    # We decrease epsilon linearly and at each moove of each game\n",
    "    epsilon_decrease = (1-agent.epsilon)/(env.max_time*epoch)\n",
    "    agent.set_epsilon(1)\n",
    "    \n",
    "    for e in range(epoch):\n",
    "        # At each epoch, we restart to a fresh game and get the initial state\n",
    "        state = env.reset()\n",
    "        # This assumes that the games will terminate\n",
    "        game_over = False\n",
    "\n",
    "        win = 0\n",
    "        lose = 0\n",
    "\n",
    "        while not game_over:\n",
    "            # New epsilon is set\n",
    "            agent.set_epsilon(agent.epsilon - epsilon_decrease)\n",
    "            \n",
    "            # The agent performs an action\n",
    "            action = agent.act(state, train=True)\n",
    "\n",
    "            # Apply an action to the environment, get the next state, the reward\n",
    "            # and if the games end\n",
    "            prev_state = state\n",
    "            state, reward, game_over = env.act(action, train=True)\n",
    "\n",
    "            # Update the counters\n",
    "            if reward > 0:\n",
    "                win = win + reward\n",
    "            if reward < 0:\n",
    "                lose = lose -reward\n",
    "\n",
    "            # Apply the reinforcement strategy\n",
    "            loss = agent.reinforce(prev_state, state,  action, reward, game_over)\n",
    "\n",
    "        # Save as a mp4\n",
    "        if e % 10 == 0:\n",
    "            env.draw(prefix+str(e))\n",
    "\n",
    "        # Update stats\n",
    "        score += win-lose\n",
    "\n",
    "        print(\"Epoch {:03d}/{:03d} | Loss {:.4f} | Win/lose count {}/{} ({})\"\n",
    "              .format(e, epoch, loss, win, lose, win-lose))\n",
    "        agent.save(name_weights=prefix+'model.h5',name_model=prefix+'model.json')\n",
    "\n",
    "\n",
    "class EnvironmentExploring(Environment):   \n",
    "    def __init__(self, grid_size=10, max_time=500, temperature=0.1):\n",
    "        Environment.__init__(self, grid_size=grid_size, max_time=max_time, temperature=temperature)\n",
    "        \n",
    "        # We add a new component to the state : malus_position\n",
    "        # At the beggining of a new game, the agent has not moove. There is no penalty on any cell\n",
    "        self.malus_position = np.zeros((self.grid_size, self.grid_size))\n",
    "        # Exept the cell on wich the agent begins\n",
    "        self.malus_position[self.x, self.y] = 0.1\n",
    "\n",
    "    def act(self, action, train=False):\n",
    "        \"\"\"This function returns the new state, reward and decides if the\n",
    "        game ends.\"\"\"\n",
    "        state, reward, game_over = Environment.act(self, action)\n",
    "        \n",
    "        if train:\n",
    "            # Add the malus if the cell has been visited\n",
    "            reward -= self.malus_position[self.x, self.y]\n",
    "        \n",
    "        # The malus on a cell raises each time the agent go on it. The malus should not greater the the malus of a posoinous cell\n",
    "        if self.malus_position[self.x, self.y] < 0.9 :\n",
    "            self.malus_position[self.x, self.y] += 0.1\n",
    "\n",
    "        # 3 \"features\" states instead of 2\n",
    "        malus_position =  self.malus_position[self.x-2:self.x+3, self.y-2:self.y+3, np.newaxis]\n",
    "        state = np.concatenate((malus_position, state), axis=2)\n",
    "\n",
    "        return state, reward, game_over\n",
    "\n",
    "    def reset(self):\n",
    "        \"\"\"This function resets the game and returns the initial state\"\"\"\n",
    "        # reset environement\n",
    "        state = Environment.reset(self)\n",
    "\n",
    "        # reset malus\n",
    "        self.malus_position = np.zeros((self.grid_size, self.grid_size))\n",
    "        self.malus_position[self.x, self.y] = 0.1\n",
    "\n",
    "        malus_pos =  self.malus_position[self.x-2:self.x+3, self.y-2:self.y+3, np.newaxis]\n",
    "        state = np.concatenate((malus_pos, state), axis=2)\n",
    "        \n",
    "        return state"
   ]
  },
  {
   "cell_type": "code",
   "execution_count": 19,
   "metadata": {},
   "outputs": [
    {
     "name": "stdout",
     "output_type": "stream",
     "text": [
      "Epoch 000/010 | Loss 0.0142 | Win/lose count 13.0/43.10000000000001 (-30.10000000000001)\n",
      "Epoch 001/010 | Loss 0.0062 | Win/lose count 7.5/47.000000000000014 (-39.500000000000014)\n",
      "Epoch 002/010 | Loss 0.0099 | Win/lose count 10.0/48.40000000000002 (-38.40000000000002)\n",
      "Epoch 003/010 | Loss 0.0118 | Win/lose count 9.0/43.30000000000006 (-34.30000000000006)\n",
      "Epoch 004/010 | Loss 0.0106 | Win/lose count 16.5/30.90000000000003 (-14.40000000000003)\n",
      "Epoch 005/010 | Loss 0.0073 | Win/lose count 17.0/35.60000000000003 (-18.60000000000003)\n",
      "Epoch 006/010 | Loss 0.0067 | Win/lose count 19.5/34.700000000000024 (-15.200000000000024)\n",
      "Epoch 007/010 | Loss 0.0069 | Win/lose count 16.5/26.200000000000017 (-9.700000000000017)\n",
      "Epoch 008/010 | Loss 0.0112 | Win/lose count 28.0/14.199999999999985 (13.800000000000015)\n",
      "Epoch 009/010 | Loss 0.0077 | Win/lose count 22.5/21.900000000000006 (0.5999999999999943)\n"
     ]
    },
    {
     "data": {
      "text/html": [
       "<video alt=\"test\" controls>\n",
       "                <source src=\"data:video/mp4;base64,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\" type=\"video/mp4\" />\n",
       "             </video>"
      ],
      "text/plain": [
       "<IPython.core.display.HTML object>"
      ]
     },
     "execution_count": 19,
     "metadata": {},
     "output_type": "execute_result"
    }
   ],
   "source": [
    "# Training\n",
    "epochs_train = 10\n",
    "env = EnvironmentExploring(grid_size=size, max_time=T, temperature=0.3)\n",
    "agent = DQN_CNN(size, lr=1e-3, epsilon = 0.1, memory_size=2000, batch_size = 32,n_state=3)\n",
    "train_explore(agent, env,epochs_train , prefix='cnn_train_explore')\n",
    "HTML(display_videos('cnn_train_explore10.mp4'))"
   ]
  },
  {
   "cell_type": "code",
   "execution_count": 20,
   "metadata": {},
   "outputs": [
    {
     "name": "stdout",
     "output_type": "stream",
     "text": [
      "Win/lose count 25.5/0. Average score (25.5)\n",
      "Win/lose count 26.0/1.0. Average score (25.25)\n",
      "Win/lose count 21.0/0. Average score (23.833333333333332)\n",
      "Win/lose count 23.5/4.0. Average score (22.75)\n",
      "Win/lose count 24.0/2.0. Average score (22.6)\n",
      "Win/lose count 21.0/1.0. Average score (22.166666666666668)\n",
      "Win/lose count 16.5/3.0. Average score (20.928571428571427)\n",
      "Win/lose count 19.5/1.0. Average score (20.625)\n",
      "Win/lose count 25.5/4.0. Average score (20.72222222222222)\n",
      "Win/lose count 21.0/0. Average score (20.75)\n",
      "Win/lose count 21.5/1.0. Average score (20.727272727272727)\n",
      "Final score: 20.727272727272727\n"
     ]
    },
    {
     "data": {
      "text/html": [
       "<video alt=\"test\" controls>\n",
       "                <source src=\"data:video/mp4;base64,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\" type=\"video/mp4\" />\n",
       "             </video>"
      ],
      "text/plain": [
       "<IPython.core.display.HTML object>"
      ]
     },
     "execution_count": 20,
     "metadata": {},
     "output_type": "execute_result"
    }
   ],
   "source": [
    "# Evaluation\n",
    "test(agent,env,epochs_test,prefix='cnn_test_explore')\n",
    "HTML(display_videos('cnn_test_explore10.mp4'))"
   ]
  },
  {
   "cell_type": "markdown",
   "metadata": {},
   "source": [
    "***\n",
    "***\n",
    "__BONUS question__ Use the expert DQN from the previous question to generate some winning games. Train a model that mimicks its behavior. Compare the performances."
   ]
  },
  {
   "cell_type": "markdown",
   "metadata": {},
   "source": []
  }
 ],
 "metadata": {
  "kernelspec": {
   "display_name": "Python 3",
   "language": "python",
   "name": "python3"
  },
  "language_info": {
   "codemirror_mode": {
    "name": "ipython",
    "version": 3
   },
   "file_extension": ".py",
   "mimetype": "text/x-python",
   "name": "python",
   "nbconvert_exporter": "python",
   "pygments_lexer": "ipython3",
   "version": "3.7.6"
  }
 },
 "nbformat": 4,
 "nbformat_minor": 2
}
