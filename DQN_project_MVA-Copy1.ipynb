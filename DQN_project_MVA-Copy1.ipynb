{
 "cells": [
  {
   "cell_type": "markdown",
   "metadata": {},
   "source": [
    "**You may need to install [OpenCV](https://pypi.python.org/pypi/opencv-python) and [scikit-video](http://www.scikit-video.org/stable/).**"
   ]
  },
  {
   "cell_type": "code",
   "execution_count": 1,
   "metadata": {},
   "outputs": [
    {
     "name": "stderr",
     "output_type": "stream",
     "text": [
      "Using TensorFlow backend.\n"
     ]
    }
   ],
   "source": [
    "import keras\n",
    "import numpy as np\n",
    "import io\n",
    "import base64\n",
    "from IPython.display import HTML\n",
    "import skvideo.io\n",
    "import cv2\n",
    "import json\n",
    "\n",
    "from keras.models import Sequential,model_from_json\n",
    "from keras.layers.core import Dense\n",
    "from keras.optimizers import sgd\n",
    "from keras.optimizers import *\n",
    "from keras import initializers, regularizers, constraints, optimizers, layers\n",
    "from keras.layers import Conv2D, MaxPooling2D, Activation, AveragePooling2D,Reshape,BatchNormalization, Flatten, Dropout"
   ]
  },
  {
   "cell_type": "markdown",
   "metadata": {},
   "source": [
    "# MiniProject on Deep Reinforcement Learning"
   ]
  },
  {
   "cell_type": "markdown",
   "metadata": {},
   "source": [
    "__Notations__: $E_p$ is the expectation under probability $p$. Please justify each of your answer and widely comment your code."
   ]
  },
  {
   "cell_type": "markdown",
   "metadata": {},
   "source": [
    "# Context"
   ]
  },
  {
   "cell_type": "markdown",
   "metadata": {},
   "source": [
    "In a reinforcement learning algorithm, we modelize each step $t$ as an action $a_t$ obtained from a state $s_t$, i.e. $\\{(a_{t},s_{t})_{t\\leq T}\\}$ having the Markov property. We consider a discount factor $\\gamma \\in [0,1]$ that ensures convergence. The goal is to find among all the policies $\\pi$, one that maximizes the expected reward:\n",
    "\n",
    "\\begin{equation*}\n",
    "R(\\pi)=\\sum_{t\\leq T}E_{p^{\\pi}}[\\gamma^t r(s_{t},a_{t})] \\> ,\n",
    "\\end{equation*}\n",
    "\n",
    "where: \n",
    "\\begin{equation*}p^{\\pi}(a_{0},a_{1},s_{1},...,a_{T},s_{T})=p(a_{0})\\prod_{t=1}^{T}\\pi(a_{t}|s_{t})p(s_{t+1}|s_{t},a_{t}) \\> .\n",
    "\\end{equation*}\n",
    "\n",
    "We note the $Q$-function:\n",
    "\n",
    "\\begin{equation*}Q^\\pi(s,a)=E_{p^{\\pi}}[\\sum_{t\\leq T}\\gamma^{t}r(s_{t},a_{t})|s_{0}=s,a_{0}=a] \\> .\n",
    "\\end{equation*}\n",
    "\n",
    "Thus, the optimal Q function is:\n",
    "\\begin{equation*}\n",
    "Q^*(s,a)=\\max_{\\pi}Q^\\pi(s,a) \\> .\n",
    "\\end{equation*}\n",
    "\n",
    "In this project, we will apply the deep reinforcement learning techniques to a simple game: an agent will have to learn from scratch a policy that will permit it maximizing a reward."
   ]
  },
  {
   "cell_type": "markdown",
   "metadata": {},
   "source": [
    "## The environment, the agent and the game"
   ]
  },
  {
   "cell_type": "markdown",
   "metadata": {},
   "source": [
    "### The environment"
   ]
  },
  {
   "cell_type": "markdown",
   "metadata": {},
   "source": [
    "```Environment``` is an abstract class that represents the states, rewards, and actions to obtain the new state."
   ]
  },
  {
   "cell_type": "code",
   "execution_count": 2,
   "metadata": {},
   "outputs": [],
   "source": [
    "class Environment(object):\n",
    "    def __init__(self):\n",
    "        pass\n",
    "\n",
    "    def act(self, act):\n",
    "        \"\"\"\n",
    "        One can act on the environment and obtain its reaction:\n",
    "        - the new state\n",
    "        - the reward of the new state\n",
    "        - should we continue the game?\n",
    "\n",
    "        :return: state, reward, game_over\n",
    "        \"\"\"\n",
    "        pass\n",
    "\n",
    "\n",
    "    def reset(self):\n",
    "        \"\"\"\n",
    "        Reinitialize the environment to a random state and returns\n",
    "        the original state\n",
    "\n",
    "        :return: state\n",
    "        \"\"\"\n",
    "        pass\n",
    "    \n",
    "    def draw(self):\n",
    "        \"\"\"\n",
    "        Visualize in the console or graphically the current state\n",
    "        \"\"\"\n",
    "        pass"
   ]
  },
  {
   "cell_type": "markdown",
   "metadata": {},
   "source": [
    "The method ```act``` allows to act on the environment at a given state $s_t$ (stored internally), via action $a_t$. The method will return the new state $s_{t+1}$, the reward $r(s_{t},a_{t})$ and determines if $t\\leq T$ (*game_over*).\n",
    "\n",
    "The method ```reset``` simply reinitializes the environment to a random state $s_0$.\n",
    "\n",
    "The method ```draw``` displays the current state $s_t$ (this is useful to check the behavior of the Agent).\n",
    "\n",
    "We modelize $s_t$ as a tensor, while $a_t$ is an integer."
   ]
  },
  {
   "cell_type": "markdown",
   "metadata": {},
   "source": [
    "### The Agent"
   ]
  },
  {
   "cell_type": "markdown",
   "metadata": {},
   "source": [
    "The goal of the ```Agent``` is to interact with the ```Environment``` by proposing actions $a_t$ obtained from a given state $s_t$ to attempt to maximize its __reward__ $r(s_t,a_t)$. We propose the following abstract class:"
   ]
  },
  {
   "cell_type": "code",
   "execution_count": 3,
   "metadata": {},
   "outputs": [],
   "source": [
    "class Agent(object):\n",
    "    def __init__(self, epsilon=0.1, n_action=4):\n",
    "        self.epsilon = epsilon\n",
    "        self.n_action = n_action\n",
    "    \n",
    "    def set_epsilon(self,e):\n",
    "        self.epsilon = e\n",
    "\n",
    "    def act(self,s,train=True):\n",
    "        \"\"\" This function should return the next action to do:\n",
    "        an integer between 0 and 4 (not included) with a random exploration of epsilon\"\"\"\n",
    "        if train:\n",
    "            if np.random.rand() <= self.epsilon:\n",
    "                a = np.random.randint(0, self.n_action, size=1)[0]\n",
    "            else:\n",
    "                a = self.learned_act(s)\n",
    "        else: # in some cases, this can improve the performance.. remove it if poor performances\n",
    "            a = self.learned_act(s)\n",
    "\n",
    "        return a\n",
    "\n",
    "    def learned_act(self,s):\n",
    "        \"\"\" Act via the policy of the agent, from a given state s\n",
    "        it proposes an action a\"\"\"\n",
    "        pass\n",
    "\n",
    "    def reinforce(self, s, n_s, a, r, game_over_):\n",
    "        \"\"\" This function is the core of the learning algorithm. \n",
    "        It takes as an input the current state s_, the next state n_s_\n",
    "        the action a_ used to move from s_ to n_s_ and the reward r_.\n",
    "        \n",
    "        Its goal is to learn a policy.\n",
    "        \"\"\"\n",
    "        pass\n",
    "\n",
    "    def save(self):\n",
    "        \"\"\" This function returns basic stats if applicable: the\n",
    "        loss and/or the model\"\"\"\n",
    "        pass\n",
    "\n",
    "    def load(self):\n",
    "        \"\"\" This function allows to restore a model\"\"\"\n",
    "        pass"
   ]
  },
  {
   "cell_type": "markdown",
   "metadata": {},
   "source": [
    "***\n",
    "__Question 1__:\n",
    "Explain the function act. Why is ```epsilon``` essential?"
   ]
  },
  {
   "cell_type": "markdown",
   "metadata": {},
   "source": [
    "The function ```act``` should return the next action to do. It takes two parameters :\n",
    "- The state $a$ the agent\n",
    "- If we want to train the agent or not\n",
    "\n",
    "#### If the training is already done\n",
    "If the agent has already learned the policy, we just want to exploit the policy. By setting, ```Train = False```, the agent selects the best action possible from the state $s$.\n",
    "\n",
    "#### If we want to train the agent\n",
    "In this scenario, the agent doesn't know the best policy. To find the best policy, it can not try every set of action because they are usualy to many possiblities.\n",
    "The only thing it can do to explore the environnement is to choose actions randomly. But doing only random actions is not the best choice to explore efficiently.\n",
    "\n",
    "A compromise is to choose \"good\" actions most of the time (exploit) and choose random action sometimes (explore). Doing this, we are shure that we explore a region that give big rewards (not just a random region).\n",
    "\n",
    "#### Role of $\\epsilon$\n",
    "$\\epsilon$ is the variable that encode how much the agent is exploring the environnement.\n",
    "It can be a good stategie to decrease its value over time.\n",
    "\n",
    "At the beggining, the agent axplores a lot, i.e. big $\\epsilon$ (because it does not know the environnement at all). Then $\\epsilon$ gradually decrease to promote more explotation."
   ]
  },
  {
   "cell_type": "markdown",
   "metadata": {},
   "source": [
    "***\n",
    "### The Game"
   ]
  },
  {
   "cell_type": "markdown",
   "metadata": {},
   "source": [
    "The ```Agent``` and the ```Environment``` work in an interlaced way as in the following (take some time to understand this code as it is the core of the project)"
   ]
  },
  {
   "cell_type": "markdown",
   "metadata": {},
   "source": [
    "``` python\n",
    "epoch = 300\n",
    "env = Environment()\n",
    "agent = Agent()\n",
    "\n",
    "\n",
    "# Number of won games\n",
    "score = 0\n",
    "loss = 0\n",
    "\n",
    "\n",
    "for e in range(epoch):\n",
    "    # At each epoch, we restart to a fresh game and get the initial state\n",
    "    state = env.reset()\n",
    "    # This assumes that the games will end\n",
    "    game_over = False\n",
    "\n",
    "    win = 0\n",
    "    lose = 0\n",
    "    \n",
    "    while not game_over:\n",
    "        # The agent performs an action\n",
    "        action = agent.act(state)\n",
    "\n",
    "        # Apply an action to the environment, get the next state, the reward\n",
    "        # and if the games end\n",
    "        prev_state = state\n",
    "        state, reward, game_over = env.act(action)\n",
    "\n",
    "        # Update the counters\n",
    "        if reward > 0:\n",
    "            win = win + reward\n",
    "        if reward < 0:\n",
    "            lose = lose -reward\n",
    "\n",
    "        # Apply the reinforcement strategy\n",
    "        loss = agent.reinforce(prev_state, state,  action, reward, game_over)\n",
    "\n",
    "    # Save as a mp4\n",
    "    if e % 10 == 0:\n",
    "        env.draw(e)\n",
    "\n",
    "    # Update stats\n",
    "    score += win-lose\n",
    "\n",
    "    print(\"Epoch {:03d}/{:03d} | Loss {:.4f} | Win/lose count {}/{} ({})\"\n",
    "          .format(e, epoch, loss, win, lose, win-lose))\n",
    "    agent.save()\n",
    "```"
   ]
  },
  {
   "cell_type": "markdown",
   "metadata": {},
   "source": [
    "# The game, *eat cheese*"
   ]
  },
  {
   "cell_type": "markdown",
   "metadata": {},
   "source": [
    "A rat runs on an island and tries to eat as much as possible. The island is subdivided into $N\\times N$ cells, in which there are cheese (+0.5) and poisonous cells (-1). The rat has a visibility of 2 cells (thus it can see $5^2$ cells). The rat is given a time $T$ to accumulate as much food as possible. It can perform 4 actions: going up, down, left, right. \n",
    "\n",
    "The goal is to code an agent to solve this task that will learn by trial and error. We propose the following environment:"
   ]
  },
  {
   "cell_type": "code",
   "execution_count": 4,
   "metadata": {},
   "outputs": [],
   "source": [
    "class Environment(object):\n",
    "    def __init__(self, grid_size=10, max_time=500, temperature=0.1):\n",
    "        grid_size = grid_size+4\n",
    "        self.grid_size = grid_size\n",
    "        self.max_time = max_time\n",
    "        self.temperature = temperature\n",
    "\n",
    "        #board on which one plays\n",
    "        self.board = np.zeros((grid_size,grid_size))\n",
    "        self.position = np.zeros((grid_size,grid_size))\n",
    "\n",
    "        # coordinate of the rat\n",
    "        self.x = 0\n",
    "        self.y = 1\n",
    "\n",
    "        # self time\n",
    "        self.t = 0\n",
    "\n",
    "        self.scale=16\n",
    "\n",
    "        self.to_draw = np.zeros((max_time+2, grid_size*self.scale, grid_size*self.scale, 3))\n",
    "\n",
    "\n",
    "    def draw(self,e):\n",
    "        skvideo.io.vwrite(str(e) + '.mp4', self.to_draw)\n",
    "\n",
    "    def get_frame(self,t):\n",
    "        b = np.zeros((self.grid_size,self.grid_size,3))+128\n",
    "        b[self.board>0,0] = 256\n",
    "        b[self.board < 0, 2] = 256\n",
    "        b[self.x,self.y,:]=256\n",
    "        b[-2:,:,:]=0\n",
    "        b[:,-2:,:]=0\n",
    "        b[:2,:,:]=0\n",
    "        b[:,:2,:]=0\n",
    "        \n",
    "        b =  cv2.resize(b, None, fx=self.scale, fy=self.scale, interpolation=cv2.INTER_NEAREST)\n",
    "\n",
    "        self.to_draw[t,:,:,:]=b\n",
    "\n",
    "\n",
    "    def act(self, action):\n",
    "        \"\"\"This function returns the new state, reward and decides if the\n",
    "        game ends.\"\"\"\n",
    "\n",
    "        self.get_frame(int(self.t))\n",
    "\n",
    "        self.position = np.zeros((self.grid_size, self.grid_size))\n",
    "\n",
    "        self.position[0:2,:]= -1\n",
    "        self.position[:,0:2] = -1\n",
    "        self.position[-2:, :] = -1\n",
    "        self.position[:, -2:] = -1\n",
    "\n",
    "        self.position[self.x, self.y] = 1\n",
    "        if action == 0:                    # Up\n",
    "            if self.x == self.grid_size-3: # Signifie que l'on est sur le bord de la grille, on ne peut pas aller plus haut\n",
    "                self.x = self.x-1          # Donc on descent\n",
    "            else:\n",
    "                self.x = self.x + 1\n",
    "        elif action == 1:                  # Down\n",
    "            if self.x == 2:\n",
    "                self.x = self.x+1\n",
    "            else:\n",
    "                self.x = self.x-1\n",
    "        elif action == 2:                  # Left\n",
    "            if self.y == self.grid_size - 3:\n",
    "                self.y = self.y - 1\n",
    "            else:\n",
    "                self.y = self.y + 1\n",
    "        elif action == 3:                  # Right\n",
    "            if self.y == 2:\n",
    "                self.y = self.y + 1\n",
    "            else:\n",
    "                self.y = self.y - 1\n",
    "        else:\n",
    "            RuntimeError('Error: action not recognized')\n",
    "\n",
    "        self.t = self.t + 1\n",
    "        reward = self.board[self.x, self.y]\n",
    "        self.board[self.x, self.y] = 0\n",
    "        game_over = self.t > self.max_time\n",
    "        state = np.concatenate((self.board.reshape(self.grid_size, self.grid_size,1),\n",
    "                        self.position.reshape(self.grid_size, self.grid_size,1)),axis=2)\n",
    "        state = state[self.x-2:self.x+3,self.y-2:self.y+3,:]\n",
    "\n",
    "        return state, reward, game_over\n",
    "\n",
    "    def reset(self):\n",
    "        \"\"\"This function resets the game and returns the initial state\"\"\"\n",
    "\n",
    "        self.x = np.random.randint(3, self.grid_size-3, size=1)[0]\n",
    "        self.y = np.random.randint(3, self.grid_size-3, size=1)[0]\n",
    "\n",
    "\n",
    "        bonus = 0.5*np.random.binomial(1,self.temperature,size=self.grid_size**2)\n",
    "        bonus = bonus.reshape(self.grid_size,self.grid_size)\n",
    "\n",
    "        malus = -1.0*np.random.binomial(1,self.temperature,size=self.grid_size**2)\n",
    "        malus = malus.reshape(self.grid_size, self.grid_size)\n",
    "\n",
    "        self.to_draw = np.zeros((self.max_time+2, self.grid_size*self.scale, self.grid_size*self.scale, 3))\n",
    "\n",
    "\n",
    "        malus[bonus>0]=0 # S'il y a déjà un bonus sur la case, pas de malus (donc moins de malus que de bonus)\n",
    "\n",
    "        self.board = bonus + malus\n",
    "\n",
    "        self.position = np.zeros((self.grid_size, self.grid_size))\n",
    "        self.position[0:2,:]= -1\n",
    "        self.position[:,0:2] = -1\n",
    "        self.position[-2:, :] = -1\n",
    "        self.position[:, -2:] = -1\n",
    "        self.board[self.x,self.y] = 0 # On enlève la récompense pour la position initiale\n",
    "        self.t = 0\n",
    "\n",
    "        state = np.concatenate((\n",
    "                               self.board.reshape(self.grid_size, self.grid_size,1),\n",
    "                        self.position.reshape(self.grid_size, self.grid_size,1)),axis=2)\n",
    "\n",
    "        state = state[self.x - 2:self.x + 3, self.y - 2:self.y + 3, :]\n",
    "        return state"
   ]
  },
  {
   "cell_type": "markdown",
   "metadata": {},
   "source": [
    "The following elements are important because they correspond to the hyper parameters for this project:"
   ]
  },
  {
   "cell_type": "code",
   "execution_count": 5,
   "metadata": {},
   "outputs": [],
   "source": [
    "# parameters\n",
    "size = 13\n",
    "T=200\n",
    "temperature=0.3\n",
    "epochs_train= 30 # set small when debugging (11 is the minimum for the script to work properly)\n",
    "epochs_test= 11 # set small when debugging (> 11)\n",
    "\n",
    "# display videos\n",
    "def display_videos(name):\n",
    "    video = io.open(name, 'r+b').read()\n",
    "    encoded = base64.b64encode(video)\n",
    "    return '''<video alt=\"test\" controls>\n",
    "                <source src=\"data:video/mp4;base64,{0}\" type=\"video/mp4\" />\n",
    "             </video>'''.format(encoded.decode('ascii'))"
   ]
  },
  {
   "cell_type": "markdown",
   "metadata": {},
   "source": [
    "__Question 2__ Explain the use of the arrays ```position``` and ```board```."
   ]
  },
  {
   "cell_type": "markdown",
   "metadata": {},
   "source": [
    "#### Array ```position```\n",
    "This array is use to encode the position of the mouse. It's an array of shape : $N+4 \\times N+4$, where $N$ is the size of the board. On the border (2 first and 2 last indexes) the array is filled with ```-1``` value. It idicates that the mouse can't go there. all the other slots are filled with  ```0``` value.\n",
    "\n",
    "The array is part of the state. When rashaped to : ```[self.x - 2:self.x + 3, self.y - 2:self.y + 3, :]``` it gives to the agent the possible mooves whith a vision of 2 slots. If the slots has a ```0``` value, he can moove there, if it's a ```-1``` he can not (border of the map).\n",
    "\n",
    "#### Array ```board```\n",
    "Thus array contain the rewards (bonus and malus). The value ```self.board[i,j]``` indicates the reward obtained by the mouse if it goes to this position. When the reward is collected, it is set to ```0``` (there is nothing more to collect on a cell which as already been visited).\n",
    "\n",
    "This array is the second part of the state. It is reshaped in the same purpose."
   ]
  },
  {
   "cell_type": "markdown",
   "metadata": {},
   "source": [
    "## Random Agent"
   ]
  },
  {
   "cell_type": "markdown",
   "metadata": {},
   "source": [
    "***\n",
    "__Question 3__ Implement a random Agent (only ```learned_act``` needs to be implemented):"
   ]
  },
  {
   "cell_type": "code",
   "execution_count": 6,
   "metadata": {},
   "outputs": [],
   "source": [
    "class RandomAgent(Agent):\n",
    "    def __init__(self):\n",
    "        super(RandomAgent, self).__init__()\n",
    "        pass\n",
    "\n",
    "    def learned_act(self, s):\n",
    "        return np.random.randint(0,4)"
   ]
  },
  {
   "cell_type": "markdown",
   "metadata": {},
   "source": [
    "***\n",
    "***\n",
    "__Question 4__ Visualize the game moves. You need to fill in the following function for the evaluation:"
   ]
  },
  {
   "cell_type": "code",
   "execution_count": 7,
   "metadata": {},
   "outputs": [],
   "source": [
    "def test(agent,env,epochs,prefix=''):\n",
    "    # Number of won games\n",
    "    score = 0\n",
    "        \n",
    "    for e in range(epochs):\n",
    "        # A chaque début de partie, l'environnement est réinitialisé\n",
    "        state = env.reset()\n",
    "        game_over = False\n",
    "        \n",
    "        # win et loose réprésentent les gains (ou perte) de l'agent au cours de la partie\n",
    "        win = 0\n",
    "        lose = 0\n",
    "\n",
    "        while not game_over:\n",
    "            # The agent performs an action\n",
    "            action = agent.act(state,train=False)\n",
    "\n",
    "            # Apply an action to the environment, get the next state, the reward\n",
    "            # and if the games end\n",
    "            state, reward, game_over = env.act(action)\n",
    "\n",
    "            # Update the counters\n",
    "            if reward > 0:\n",
    "                win = win + reward\n",
    "            if reward < 0:\n",
    "                lose = lose -reward\n",
    "            \n",
    "            env.get_frame(e)\n",
    "        \n",
    "        # Save as a mp4\n",
    "        env.draw(prefix+str(e))\n",
    "\n",
    "        # Update stats\n",
    "        score = score + win - lose\n",
    "\n",
    "        print(\"Win/lose count {}/{}. Average score ({})\"\n",
    "              .format(win, lose, score/(1+e)))\n",
    "    print('Final score: '+str(score/epochs))"
   ]
  },
  {
   "cell_type": "code",
   "execution_count": 8,
   "metadata": {},
   "outputs": [
    {
     "name": "stdout",
     "output_type": "stream",
     "text": [
      "Win/lose count 7.0/17.0. Average score (-10.0)\n",
      "Win/lose count 6.5/13.0. Average score (-8.25)\n",
      "Win/lose count 13.0/12.0. Average score (-5.166666666666667)\n",
      "Win/lose count 11.0/15.0. Average score (-4.875)\n",
      "Win/lose count 10.0/10.0. Average score (-3.9)\n",
      "Win/lose count 10.5/20.0. Average score (-4.833333333333333)\n",
      "Win/lose count 4.0/8.0. Average score (-4.714285714285714)\n",
      "Win/lose count 7.0/7.0. Average score (-4.125)\n",
      "Win/lose count 12.5/16.0. Average score (-4.055555555555555)\n",
      "Win/lose count 13.5/11.0. Average score (-3.4)\n",
      "Win/lose count 6.0/7.0. Average score (-3.1818181818181817)\n",
      "Final score: -3.1818181818181817\n"
     ]
    },
    {
     "data": {
      "text/html": [
       "<video alt=\"test\" controls>\n",
       "                <source src=\"data:video/mp4;base64,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\" type=\"video/mp4\" />\n",
       "             </video>"
      ],
      "text/plain": [
       "<IPython.core.display.HTML object>"
      ]
     },
     "execution_count": 8,
     "metadata": {},
     "output_type": "execute_result"
    }
   ],
   "source": [
    "# Initialize the game\n",
    "env = Environment(grid_size=size, max_time=T,temperature=temperature)\n",
    "\n",
    "# Initialize the agent!\n",
    "agent = RandomAgent()\n",
    "\n",
    "test(agent,env,epochs_test,prefix='random')\n",
    "HTML(display_videos('random0.mp4'))"
   ]
  },
  {
   "cell_type": "markdown",
   "metadata": {},
   "source": [
    "***\n",
    "## DQN"
   ]
  },
  {
   "cell_type": "markdown",
   "metadata": {},
   "source": [
    "Let us assume here that $T=\\infty$.\n",
    "\n",
    "***\n",
    "__Question 5__ Let $\\pi$ be a policy, show that:\n",
    "\n",
    "\\begin{equation*}\n",
    "Q^{\\pi}(s,a)=E_{(s',a')\\sim p(.|s,a)}[r(s,a)+\\gamma Q^{\\pi}(s',a')]\n",
    "\\end{equation*}\n",
    "\n",
    "Then, show that for the optimal policy $\\pi^*$ (we assume its existence), the following holds: \n",
    "\n",
    "\\begin{equation*}\n",
    "Q^{*}(s,a)=E_{s'\\sim \\pi^*(.|s,a)}[r(s,a)+\\gamma\\max_{a'}Q^{*}(s',a')].\n",
    "\\end{equation*}\n",
    "Finally, deduce that a plausible objective is:\n",
    "\n",
    "\\begin{equation*}\n",
    "\\mathcal{L}(\\theta)=E_{s' \\sim \\pi^*(.|s,a)}\\Vert r+\\gamma\\max_{s'}\\max_{a'}Q(s',a',\\theta)-Q(s,a,\\theta)\\Vert^{2}.\n",
    "\\label{eq:loss} \\tag{1}\n",
    "\\end{equation*}\n",
    "\n",
    "\n"
   ]
  },
  {
   "cell_type": "markdown",
   "metadata": {},
   "source": [
    "#### (a)\n",
    "To proove the first expression, we need to use the Law of total expectation :\n",
    "\n",
    "$$ Q^\\pi(s,a)=E_{p^{\\pi}}[\\sum_{t=0}^{\\infty}\\gamma^{t}r(s_{t},a_{t})|s_{0}=s,a_{0}=a] $$\n",
    "$$\n",
    "Q^\\pi(s,a)= r(s,a) +  E_{p^{\\pi}}[\\sum_{t=1}^{\\infty}\\gamma^{t}r(s_{t},a_{t})|s_{0}=s,a_{0}=a] $$\n",
    "$$\n",
    "Q^\\pi(s,a)= r(s,a) +  \\gamma \\sum_{s'}\\sum_{a'} p(s'|s,a') E_{p^{\\pi}}[\\sum_{t=1}^{\\infty}\\gamma^{t-1}r(s_{t},a_{t})|s_{1}=s',a_{1}=a'] $$\n",
    "$$\n",
    "Q^\\pi(s,a)= r(s,a) +  \\gamma \\sum_{s'}\\sum_{a'} p(s'|s,a') E_{p^{\\pi}}[\\sum_{t=0}^{\\infty}\\gamma^{t}r(s_{t},a_{t})|s_{0}=s',a_{0}=a'] $$\n",
    "$$\n",
    "Q^\\pi(s,a)= r(s,a) +  \\gamma \\sum_{s'}\\sum_{a'} p(s'|s,a') Q^\\pi(s',a') $$\n",
    "$$\n",
    "Q^\\pi(s,a)= r(s,a) +  \\gamma E_{(s',a')\\sim p(.|s,a)}[Q^\\pi(s',a')] $$\n",
    "$$\n",
    "Q^\\pi(s,a)= E_{(s',a')\\sim p(.|s,a)}[r(s,a) +\\gamma Q^\\pi(s',a')] $$\n",
    "\n",
    "#### (b)\n",
    "The proof of the second expression is pretty simple. We just have to realize that the maxium over $\\pi$ taken on $Q^\\pi(s,a)$ implies to also take the maximum over $a'$ when $Q^\\pi(s,a)$ is define by induction (because the best policy choose to take the best action).\n",
    "\n",
    "For more clarity, I chose to express $ Q^*(s,a) $ as in $\\eqref{eq:redef_Q}$. I changed $a_t$ to $\\pi(s_{t})$. It make the dependence to the policy more obvious.\n",
    "\n",
    "\\begin{equation*}\n",
    "Q^*(s,a)=\\max_{\\pi}E_{p^{\\pi}}[\\sum_{t=0}^{\\infty}\\gamma^{t}r(s_{t},\\pi(s_{t}))|s_{0}=s,a_{0}=a]\n",
    "\\label{eq:redef_Q} \\tag{2}\n",
    "\\end{equation*}\n",
    "\n",
    "\n",
    "Now the demontration :\n",
    "\n",
    "$$ Q^*(s,a)=\\max_{\\pi}Q^\\pi(s,a) $$\n",
    "$$ Q^*(s,a)=\\max_{\\pi}E_{p^{\\pi}}[\\sum_{t=0}^{\\infty}\\gamma^{t}r(s_{t},\\pi(s_{t}))|s_{0}=s,a_{0}=a]$$\n",
    "$$ Q^*(s,a)=\\max_{a',\\pi}E_{(s',a')\\sim p(.|s,a)}[r(s,a) +\\gamma Q^\\pi(s',a')] $$\n",
    "$$ Q^{*}(s,a)=E_{s'\\sim \\pi^*(.|s,a)}[r(s,a)+\\gamma\\max_{a'}Q^{*}(s',a')] $$\n",
    "\n",
    "#### (c)\n",
    "The objective is to find the best policy. A good way to find it is to take at each state $s$ the action $a$ define as follow :\n",
    "$$ a = \\underset{a'}{\\text{argmax}}Q^{*}(s,a)$$\n",
    "In other word, if the agent know $Q^{*}(s,a)$ (or an approximation of it), it knows the best policy. The problem becomes : How to find $Q^{*}(s,a)$ ? In the next questions, we will try to approximate $Q^{*}(s,a)$ thanks to neural network. In that case, minimizing the loss $\\mathcal{L}(\\theta)$ make $Q(s,a,\\theta)$ converge to $Q^{*}(s,a,\\theta)$."
   ]
  },
  {
   "cell_type": "markdown",
   "metadata": {},
   "source": [
    "***\n",
    "The DQN-learning algorithm relies on these derivations to train the parameters $\\theta$ of a Deep Neural Network:\n",
    "\n",
    "1. At the state $s_t$, select the action $a_t$ with best reward using $Q_t$ and store the results;\n",
    "\n",
    "2. Obtain the new state $s_{t+1}$ from the environment $p$;\n",
    "\n",
    "3. Store $(s_t,a_t,s_{t+1})$;\n",
    "\n",
    "4. Obtain $Q_{t+1}$ by minimizing  $\\mathcal{L}$ from a recovered batch from the previously stored results.\n",
    "\n",
    "***\n",
    "__Question 6__ Implement the class ```Memory``` that stores moves (in a replay buffer) via ```remember``` and provides a ```random_access``` to these. Specify a maximum memory size to avoid side effects. You can for example use a ```list()``` and set by default ```max_memory=100```."
   ]
  },
  {
   "cell_type": "code",
   "execution_count": 9,
   "metadata": {},
   "outputs": [],
   "source": [
    "class Memory(object):\n",
    "    def __init__(self, max_memory=100):\n",
    "        self.position = 0\n",
    "        self.max_memory = max_memory\n",
    "        self.memory = list()\n",
    "\n",
    "    def remember(self, m):\n",
    "        if len(self.memory) < self.max_memory :\n",
    "            self.memory.append(None)\n",
    "        self.memory[self.position] = m\n",
    "        self.position = (self.position + 1) % self.max_memory\n",
    "\n",
    "    def random_access(self):\n",
    "        return self.memory[np.random.randint(len(self.memory))]"
   ]
  },
  {
   "cell_type": "markdown",
   "metadata": {},
   "source": [
    "***\n",
    "The pipeline we will use for training is given below:"
   ]
  },
  {
   "cell_type": "code",
   "execution_count": 10,
   "metadata": {},
   "outputs": [],
   "source": [
    "def train(agent,env,epoch,prefix=''):\n",
    "    # Number of won games\n",
    "    score = 0\n",
    "    loss = 0\n",
    "\n",
    "    for e in range(epoch):\n",
    "        # At each epoch, we restart to a fresh game and get the initial state\n",
    "        state = env.reset()\n",
    "        # This assumes that the games will terminate\n",
    "        game_over = False\n",
    "\n",
    "        win = 0\n",
    "        lose = 0\n",
    "\n",
    "        while not game_over:\n",
    "            # The agent performs an action\n",
    "            action = agent.act(state, train = True)\n",
    "\n",
    "            # Apply an action to the environment, get the next state, the reward\n",
    "            # and if the games end\n",
    "            prev_state = state\n",
    "            state, reward, game_over = env.act(action)\n",
    "\n",
    "            # Update the counters\n",
    "            if reward > 0:\n",
    "                win = win + reward\n",
    "            if reward < 0:\n",
    "                lose = lose -reward\n",
    "\n",
    "            # Apply the reinforcement strategy\n",
    "            loss = agent.reinforce(prev_state, state,  action, reward, game_over)\n",
    "\n",
    "        # Save as a mp4\n",
    "        if e % 10 == 0:\n",
    "            env.draw(prefix+str(e))\n",
    "\n",
    "        # Update stats\n",
    "        score += win-lose\n",
    "\n",
    "        print(\"Epoch {:03d}/{:03d} | Loss {:.4f} | Win/lose count {}/{} ({})\"\n",
    "              .format(e, epoch, loss, win, lose, win-lose))\n",
    "        agent.save(name_weights=prefix+'model.h5',name_model=prefix+'model.json')"
   ]
  },
  {
   "cell_type": "markdown",
   "metadata": {},
   "source": [
    "***\n",
    "__Question 7__ Implement the DQN training algorithm using a cascade of fully connected layers. You can use different learning rate, batch size or memory size parameters. In particular, the loss might oscillate while the player will start to win the games. You have to find a good criterium."
   ]
  },
  {
   "cell_type": "code",
   "execution_count": 11,
   "metadata": {},
   "outputs": [],
   "source": [
    "class DQN(Agent):\n",
    "    def __init__(self, grid_size,  epsilon = 0.1, memory_size=100, batch_size = 16,n_state=2):\n",
    "        super(DQN, self).__init__(epsilon = epsilon)\n",
    "\n",
    "        # Discount for Q learning\n",
    "        self.discount = 0.99\n",
    "        \n",
    "        self.grid_size = grid_size\n",
    "        \n",
    "        # number of state\n",
    "        self.n_state = n_state\n",
    "\n",
    "        # Memory\n",
    "        self.memory = Memory(memory_size)\n",
    "        \n",
    "        # Batch size when learning\n",
    "        self.batch_size = batch_size\n",
    "\n",
    "    def learned_act(self, s):\n",
    "        # Je pense qu'il y a un oubli, si l'agent ne retourne pas d'action en foncion du réseau, il ne va jamais apprendre\n",
    "        # On retourne l'argument qui rend maximum Q*(s,a). Donc l'action qui mène à priori à la plus grnde reward.\n",
    "        return np.argmax(self.model.predict(s.reshape((1,5,5,self.n_state))))\n",
    "\n",
    "    def reinforce(self, s_, n_s_, a_, r_, game_over_):\n",
    "        # Two steps: first memorize the states, second learn from the pool\n",
    "        self.memory.remember([s_, n_s_, a_, r_, game_over_])\n",
    "        \n",
    "        input_states = np.zeros((self.batch_size, 5,5,self.n_state))    # 5*5 pour le nombre de case que peut voir la souris \n",
    "                                                                        # n_state états car c'est comme ça qu'est réprésenté l'état (board et position + cases déjà visitées)\n",
    "        target_q = np.zeros((self.batch_size, 4))       # Q a 4 composantes qui représente les 4 actions que peut effectuer l'agent\n",
    "        \n",
    "        for i in range(self.batch_size):\n",
    "            s_, n_s_, a_, r_, game_over_ = self.memory.random_access()\n",
    "            input_states[i] = s_\n",
    "            \n",
    "            # On cherche à approximer Q*(s,a) grâce à la formule (1)\n",
    "            # Pour ce faire, on a besoin d'information sur les états s', suivant l'action a\n",
    "            \n",
    "            # On initialise target_q avec la connaissance que l'on a déjà\n",
    "            target_q[i] = self.model.predict(s_.reshape((1,5,5,self.n_state)))[0]\n",
    "            \n",
    "            if game_over_:\n",
    "                # Si le jeu est terminé, la récompense reçu est la récompense finale\n",
    "                target_q[i, a_] = r_\n",
    "            else:\n",
    "                # Sinon on calcul target_q normalement\n",
    "                # On ajoute de la connaissance pour l'action qu'on a effectué et pour laquelle on a eu du feeedback\n",
    "                target_q[i,a_] = r_ + self.discount*np.max(self.model.predict(n_s_.reshape((1,5,5,self.n_state))))\n",
    "\n",
    "        # HINT: Clip the target to avoid exploiding gradients.. -- clipping is a bit tighter\n",
    "        target_q = np.clip(target_q, -3, 3)\n",
    "\n",
    "        l = self.model.train_on_batch(input_states, target_q)\n",
    "        return l\n",
    "\n",
    "    def save(self,name_weights='model.h5',name_model='model.json'):\n",
    "        self.model.save_weights(name_weights, overwrite=True)\n",
    "        with open(name_model, \"w\") as outfile:\n",
    "            json.dump(self.model.to_json(), outfile)\n",
    "            \n",
    "    def load(self,name_weights='model.h5',name_model='model.json'):\n",
    "        with open(name_model, \"r\") as jfile:\n",
    "            model = model_from_json(json.load(jfile))\n",
    "        model.load_weights(name_weights)\n",
    "        model.compile(\"adam\", \"mse\")\n",
    "        self.model = model\n",
    "\n",
    "            \n",
    "class DQN_FC(DQN):\n",
    "    def __init__(self, *args, lr=0.1,**kwargs):\n",
    "        super(DQN_FC, self).__init__( *args,**kwargs)\n",
    "        \n",
    "        # NN Model\n",
    "        \n",
    "        # L'entrée du réseau neuronnal est un vecteur de dimention 1\n",
    "        # Il faut donc applatir la matrice d'entrée.\n",
    "        # Sa dimention est : 5 * 5 * self.n_state\n",
    "        \n",
    "        # La dimention de sortie doit être : 4\n",
    "        \n",
    "        # Le nombre de couche n'est pas précisé, j'ai mis 2 couches fully-connected (input-16-output)\n",
    "        model = Sequential()\n",
    "        model.add(Reshape((5*5*self.n_state,), input_shape=(5,5,self.n_state)))\n",
    "        model.add(Dense(16))\n",
    "        model.add(Activation('relu'))\n",
    "        model.add(Dense(4))\n",
    "        \n",
    "        model.compile(sgd(lr=lr, decay=1e-4, momentum=0.0), \"mse\")\n",
    "        self.model = model\n",
    "        "
   ]
  },
  {
   "cell_type": "code",
   "execution_count": 12,
   "metadata": {},
   "outputs": [
    {
     "name": "stdout",
     "output_type": "stream",
     "text": [
      "Epoch 000/011 | Loss 0.0206 | Win/lose count 2.5/6.0 (-3.5)\n",
      "Epoch 001/011 | Loss 0.0318 | Win/lose count 2.0/2.0 (0.0)\n",
      "Epoch 002/011 | Loss 0.0213 | Win/lose count 3.5/5.0 (-1.5)\n"
     ]
    },
    {
     "ename": "KeyboardInterrupt",
     "evalue": "",
     "output_type": "error",
     "traceback": [
      "\u001b[0;31m---------------------------------------------------------------------------\u001b[0m",
      "\u001b[0;31mKeyboardInterrupt\u001b[0m                         Traceback (most recent call last)",
      "\u001b[0;32m<ipython-input-12-4331b4020a1e>\u001b[0m in \u001b[0;36m<module>\u001b[0;34m\u001b[0m\n\u001b[1;32m      1\u001b[0m \u001b[0menv\u001b[0m \u001b[0;34m=\u001b[0m \u001b[0mEnvironment\u001b[0m\u001b[0;34m(\u001b[0m\u001b[0mgrid_size\u001b[0m\u001b[0;34m=\u001b[0m\u001b[0msize\u001b[0m\u001b[0;34m,\u001b[0m \u001b[0mmax_time\u001b[0m\u001b[0;34m=\u001b[0m\u001b[0mT\u001b[0m\u001b[0;34m,\u001b[0m \u001b[0mtemperature\u001b[0m\u001b[0;34m=\u001b[0m\u001b[0;36m0.3\u001b[0m\u001b[0;34m)\u001b[0m\u001b[0;34m\u001b[0m\u001b[0;34m\u001b[0m\u001b[0m\n\u001b[1;32m      2\u001b[0m \u001b[0magent\u001b[0m \u001b[0;34m=\u001b[0m \u001b[0mDQN_FC\u001b[0m\u001b[0;34m(\u001b[0m\u001b[0msize\u001b[0m\u001b[0;34m,\u001b[0m \u001b[0mlr\u001b[0m\u001b[0;34m=\u001b[0m\u001b[0;36m1e-3\u001b[0m\u001b[0;34m,\u001b[0m \u001b[0mepsilon\u001b[0m \u001b[0;34m=\u001b[0m \u001b[0;36m0.1\u001b[0m\u001b[0;34m,\u001b[0m \u001b[0mmemory_size\u001b[0m\u001b[0;34m=\u001b[0m\u001b[0;36m2000\u001b[0m\u001b[0;34m,\u001b[0m \u001b[0mbatch_size\u001b[0m \u001b[0;34m=\u001b[0m \u001b[0;36m128\u001b[0m\u001b[0;34m)\u001b[0m\u001b[0;34m\u001b[0m\u001b[0;34m\u001b[0m\u001b[0m\n\u001b[0;32m----> 3\u001b[0;31m \u001b[0mtrain\u001b[0m\u001b[0;34m(\u001b[0m\u001b[0magent\u001b[0m\u001b[0;34m,\u001b[0m \u001b[0menv\u001b[0m\u001b[0;34m,\u001b[0m \u001b[0mepochs_train\u001b[0m\u001b[0;34m,\u001b[0m \u001b[0mprefix\u001b[0m\u001b[0;34m=\u001b[0m\u001b[0;34m'fc_train'\u001b[0m\u001b[0;34m)\u001b[0m\u001b[0;34m\u001b[0m\u001b[0;34m\u001b[0m\u001b[0m\n\u001b[0m\u001b[1;32m      4\u001b[0m \u001b[0mHTML\u001b[0m\u001b[0;34m(\u001b[0m\u001b[0mdisplay_videos\u001b[0m\u001b[0;34m(\u001b[0m\u001b[0;34m'fc_train10.mp4'\u001b[0m\u001b[0;34m)\u001b[0m\u001b[0;34m)\u001b[0m\u001b[0;34m\u001b[0m\u001b[0;34m\u001b[0m\u001b[0m\n",
      "\u001b[0;32m<ipython-input-10-4297e2a43490>\u001b[0m in \u001b[0;36mtrain\u001b[0;34m(agent, env, epoch, prefix)\u001b[0m\n\u001b[1;32m     29\u001b[0m \u001b[0;34m\u001b[0m\u001b[0m\n\u001b[1;32m     30\u001b[0m             \u001b[0;31m# Apply the reinforcement strategy\u001b[0m\u001b[0;34m\u001b[0m\u001b[0;34m\u001b[0m\u001b[0;34m\u001b[0m\u001b[0m\n\u001b[0;32m---> 31\u001b[0;31m             \u001b[0mloss\u001b[0m \u001b[0;34m=\u001b[0m \u001b[0magent\u001b[0m\u001b[0;34m.\u001b[0m\u001b[0mreinforce\u001b[0m\u001b[0;34m(\u001b[0m\u001b[0mprev_state\u001b[0m\u001b[0;34m,\u001b[0m \u001b[0mstate\u001b[0m\u001b[0;34m,\u001b[0m  \u001b[0maction\u001b[0m\u001b[0;34m,\u001b[0m \u001b[0mreward\u001b[0m\u001b[0;34m,\u001b[0m \u001b[0mgame_over\u001b[0m\u001b[0;34m)\u001b[0m\u001b[0;34m\u001b[0m\u001b[0;34m\u001b[0m\u001b[0m\n\u001b[0m\u001b[1;32m     32\u001b[0m \u001b[0;34m\u001b[0m\u001b[0m\n\u001b[1;32m     33\u001b[0m         \u001b[0;31m# Save as a mp4\u001b[0m\u001b[0;34m\u001b[0m\u001b[0;34m\u001b[0m\u001b[0;34m\u001b[0m\u001b[0m\n",
      "\u001b[0;32m<ipython-input-11-9b21be536eaa>\u001b[0m in \u001b[0;36mreinforce\u001b[0;34m(self, s_, n_s_, a_, r_, game_over_)\u001b[0m\n\u001b[1;32m     38\u001b[0m \u001b[0;34m\u001b[0m\u001b[0m\n\u001b[1;32m     39\u001b[0m             \u001b[0;31m# On initialise target_q avec la connaissance que l'on a déjà\u001b[0m\u001b[0;34m\u001b[0m\u001b[0;34m\u001b[0m\u001b[0;34m\u001b[0m\u001b[0m\n\u001b[0;32m---> 40\u001b[0;31m             \u001b[0mtarget_q\u001b[0m\u001b[0;34m[\u001b[0m\u001b[0mi\u001b[0m\u001b[0;34m]\u001b[0m \u001b[0;34m=\u001b[0m \u001b[0mself\u001b[0m\u001b[0;34m.\u001b[0m\u001b[0mmodel\u001b[0m\u001b[0;34m.\u001b[0m\u001b[0mpredict\u001b[0m\u001b[0;34m(\u001b[0m\u001b[0ms_\u001b[0m\u001b[0;34m.\u001b[0m\u001b[0mreshape\u001b[0m\u001b[0;34m(\u001b[0m\u001b[0;34m(\u001b[0m\u001b[0;36m1\u001b[0m\u001b[0;34m,\u001b[0m\u001b[0;36m5\u001b[0m\u001b[0;34m,\u001b[0m\u001b[0;36m5\u001b[0m\u001b[0;34m,\u001b[0m\u001b[0mself\u001b[0m\u001b[0;34m.\u001b[0m\u001b[0mn_state\u001b[0m\u001b[0;34m)\u001b[0m\u001b[0;34m)\u001b[0m\u001b[0;34m)\u001b[0m\u001b[0;34m[\u001b[0m\u001b[0;36m0\u001b[0m\u001b[0;34m]\u001b[0m\u001b[0;34m\u001b[0m\u001b[0;34m\u001b[0m\u001b[0m\n\u001b[0m\u001b[1;32m     41\u001b[0m \u001b[0;34m\u001b[0m\u001b[0m\n\u001b[1;32m     42\u001b[0m             \u001b[0;32mif\u001b[0m \u001b[0mgame_over_\u001b[0m\u001b[0;34m:\u001b[0m\u001b[0;34m\u001b[0m\u001b[0;34m\u001b[0m\u001b[0m\n",
      "\u001b[0;32m~/anaconda3/envs/env_test/lib/python3.7/site-packages/keras/engine/training.py\u001b[0m in \u001b[0;36mpredict\u001b[0;34m(self, x, batch_size, verbose, steps, callbacks, max_queue_size, workers, use_multiprocessing)\u001b[0m\n\u001b[1;32m   1460\u001b[0m                                             \u001b[0mverbose\u001b[0m\u001b[0;34m=\u001b[0m\u001b[0mverbose\u001b[0m\u001b[0;34m,\u001b[0m\u001b[0;34m\u001b[0m\u001b[0;34m\u001b[0m\u001b[0m\n\u001b[1;32m   1461\u001b[0m                                             \u001b[0msteps\u001b[0m\u001b[0;34m=\u001b[0m\u001b[0msteps\u001b[0m\u001b[0;34m,\u001b[0m\u001b[0;34m\u001b[0m\u001b[0;34m\u001b[0m\u001b[0m\n\u001b[0;32m-> 1462\u001b[0;31m                                             callbacks=callbacks)\n\u001b[0m\u001b[1;32m   1463\u001b[0m \u001b[0;34m\u001b[0m\u001b[0m\n\u001b[1;32m   1464\u001b[0m     def train_on_batch(self, x, y,\n",
      "\u001b[0;32m~/anaconda3/envs/env_test/lib/python3.7/site-packages/keras/engine/training_arrays.py\u001b[0m in \u001b[0;36mpredict_loop\u001b[0;34m(model, f, ins, batch_size, verbose, steps, callbacks)\u001b[0m\n\u001b[1;32m    322\u001b[0m             \u001b[0mbatch_logs\u001b[0m \u001b[0;34m=\u001b[0m \u001b[0;34m{\u001b[0m\u001b[0;34m'batch'\u001b[0m\u001b[0;34m:\u001b[0m \u001b[0mbatch_index\u001b[0m\u001b[0;34m,\u001b[0m \u001b[0;34m'size'\u001b[0m\u001b[0;34m:\u001b[0m \u001b[0mlen\u001b[0m\u001b[0;34m(\u001b[0m\u001b[0mbatch_ids\u001b[0m\u001b[0;34m)\u001b[0m\u001b[0;34m}\u001b[0m\u001b[0;34m\u001b[0m\u001b[0;34m\u001b[0m\u001b[0m\n\u001b[1;32m    323\u001b[0m             \u001b[0mcallbacks\u001b[0m\u001b[0;34m.\u001b[0m\u001b[0m_call_batch_hook\u001b[0m\u001b[0;34m(\u001b[0m\u001b[0;34m'predict'\u001b[0m\u001b[0;34m,\u001b[0m \u001b[0;34m'begin'\u001b[0m\u001b[0;34m,\u001b[0m \u001b[0mbatch_index\u001b[0m\u001b[0;34m,\u001b[0m \u001b[0mbatch_logs\u001b[0m\u001b[0;34m)\u001b[0m\u001b[0;34m\u001b[0m\u001b[0;34m\u001b[0m\u001b[0m\n\u001b[0;32m--> 324\u001b[0;31m             \u001b[0mbatch_outs\u001b[0m \u001b[0;34m=\u001b[0m \u001b[0mf\u001b[0m\u001b[0;34m(\u001b[0m\u001b[0mins_batch\u001b[0m\u001b[0;34m)\u001b[0m\u001b[0;34m\u001b[0m\u001b[0;34m\u001b[0m\u001b[0m\n\u001b[0m\u001b[1;32m    325\u001b[0m             \u001b[0mbatch_outs\u001b[0m \u001b[0;34m=\u001b[0m \u001b[0mto_list\u001b[0m\u001b[0;34m(\u001b[0m\u001b[0mbatch_outs\u001b[0m\u001b[0;34m)\u001b[0m\u001b[0;34m\u001b[0m\u001b[0;34m\u001b[0m\u001b[0m\n\u001b[1;32m    326\u001b[0m             \u001b[0;32mif\u001b[0m \u001b[0mbatch_index\u001b[0m \u001b[0;34m==\u001b[0m \u001b[0;36m0\u001b[0m\u001b[0;34m:\u001b[0m\u001b[0;34m\u001b[0m\u001b[0;34m\u001b[0m\u001b[0m\n",
      "\u001b[0;32m~/anaconda3/envs/env_test/lib/python3.7/site-packages/tensorflow_core/python/keras/backend.py\u001b[0m in \u001b[0;36m__call__\u001b[0;34m(self, inputs)\u001b[0m\n\u001b[1;32m   3738\u001b[0m         \u001b[0mvalue\u001b[0m \u001b[0;34m=\u001b[0m \u001b[0mmath_ops\u001b[0m\u001b[0;34m.\u001b[0m\u001b[0mcast\u001b[0m\u001b[0;34m(\u001b[0m\u001b[0mvalue\u001b[0m\u001b[0;34m,\u001b[0m \u001b[0mtensor\u001b[0m\u001b[0;34m.\u001b[0m\u001b[0mdtype\u001b[0m\u001b[0;34m)\u001b[0m\u001b[0;34m\u001b[0m\u001b[0;34m\u001b[0m\u001b[0m\n\u001b[1;32m   3739\u001b[0m       \u001b[0mconverted_inputs\u001b[0m\u001b[0;34m.\u001b[0m\u001b[0mappend\u001b[0m\u001b[0;34m(\u001b[0m\u001b[0mvalue\u001b[0m\u001b[0;34m)\u001b[0m\u001b[0;34m\u001b[0m\u001b[0;34m\u001b[0m\u001b[0m\n\u001b[0;32m-> 3740\u001b[0;31m     \u001b[0moutputs\u001b[0m \u001b[0;34m=\u001b[0m \u001b[0mself\u001b[0m\u001b[0;34m.\u001b[0m\u001b[0m_graph_fn\u001b[0m\u001b[0;34m(\u001b[0m\u001b[0;34m*\u001b[0m\u001b[0mconverted_inputs\u001b[0m\u001b[0;34m)\u001b[0m\u001b[0;34m\u001b[0m\u001b[0;34m\u001b[0m\u001b[0m\n\u001b[0m\u001b[1;32m   3741\u001b[0m \u001b[0;34m\u001b[0m\u001b[0m\n\u001b[1;32m   3742\u001b[0m     \u001b[0;31m# EagerTensor.numpy() will often make a copy to ensure memory safety.\u001b[0m\u001b[0;34m\u001b[0m\u001b[0;34m\u001b[0m\u001b[0;34m\u001b[0m\u001b[0m\n",
      "\u001b[0;32m~/anaconda3/envs/env_test/lib/python3.7/site-packages/tensorflow_core/python/eager/function.py\u001b[0m in \u001b[0;36m__call__\u001b[0;34m(self, *args, **kwargs)\u001b[0m\n\u001b[1;32m   1079\u001b[0m       \u001b[0mTypeError\u001b[0m\u001b[0;34m:\u001b[0m \u001b[0mFor\u001b[0m \u001b[0minvalid\u001b[0m \u001b[0mpositional\u001b[0m\u001b[0;34m/\u001b[0m\u001b[0mkeyword\u001b[0m \u001b[0margument\u001b[0m \u001b[0mcombinations\u001b[0m\u001b[0;34m.\u001b[0m\u001b[0;34m\u001b[0m\u001b[0;34m\u001b[0m\u001b[0m\n\u001b[1;32m   1080\u001b[0m     \"\"\"\n\u001b[0;32m-> 1081\u001b[0;31m     \u001b[0;32mreturn\u001b[0m \u001b[0mself\u001b[0m\u001b[0;34m.\u001b[0m\u001b[0m_call_impl\u001b[0m\u001b[0;34m(\u001b[0m\u001b[0margs\u001b[0m\u001b[0;34m,\u001b[0m \u001b[0mkwargs\u001b[0m\u001b[0;34m)\u001b[0m\u001b[0;34m\u001b[0m\u001b[0;34m\u001b[0m\u001b[0m\n\u001b[0m\u001b[1;32m   1082\u001b[0m \u001b[0;34m\u001b[0m\u001b[0m\n\u001b[1;32m   1083\u001b[0m   \u001b[0;32mdef\u001b[0m \u001b[0m_call_impl\u001b[0m\u001b[0;34m(\u001b[0m\u001b[0mself\u001b[0m\u001b[0;34m,\u001b[0m \u001b[0margs\u001b[0m\u001b[0;34m,\u001b[0m \u001b[0mkwargs\u001b[0m\u001b[0;34m,\u001b[0m \u001b[0mcancellation_manager\u001b[0m\u001b[0;34m=\u001b[0m\u001b[0;32mNone\u001b[0m\u001b[0;34m)\u001b[0m\u001b[0;34m:\u001b[0m\u001b[0;34m\u001b[0m\u001b[0;34m\u001b[0m\u001b[0m\n",
      "\u001b[0;32m~/anaconda3/envs/env_test/lib/python3.7/site-packages/tensorflow_core/python/eager/function.py\u001b[0m in \u001b[0;36m_call_impl\u001b[0;34m(self, args, kwargs, cancellation_manager)\u001b[0m\n\u001b[1;32m   1119\u001b[0m       raise TypeError(\"Keyword arguments {} unknown. Expected {}.\".format(\n\u001b[1;32m   1120\u001b[0m           list(kwargs.keys()), list(self._arg_keywords)))\n\u001b[0;32m-> 1121\u001b[0;31m     \u001b[0;32mreturn\u001b[0m \u001b[0mself\u001b[0m\u001b[0;34m.\u001b[0m\u001b[0m_call_flat\u001b[0m\u001b[0;34m(\u001b[0m\u001b[0margs\u001b[0m\u001b[0;34m,\u001b[0m \u001b[0mself\u001b[0m\u001b[0;34m.\u001b[0m\u001b[0mcaptured_inputs\u001b[0m\u001b[0;34m,\u001b[0m \u001b[0mcancellation_manager\u001b[0m\u001b[0;34m)\u001b[0m\u001b[0;34m\u001b[0m\u001b[0;34m\u001b[0m\u001b[0m\n\u001b[0m\u001b[1;32m   1122\u001b[0m \u001b[0;34m\u001b[0m\u001b[0m\n\u001b[1;32m   1123\u001b[0m   \u001b[0;32mdef\u001b[0m \u001b[0m_filtered_call\u001b[0m\u001b[0;34m(\u001b[0m\u001b[0mself\u001b[0m\u001b[0;34m,\u001b[0m \u001b[0margs\u001b[0m\u001b[0;34m,\u001b[0m \u001b[0mkwargs\u001b[0m\u001b[0;34m)\u001b[0m\u001b[0;34m:\u001b[0m\u001b[0;34m\u001b[0m\u001b[0;34m\u001b[0m\u001b[0m\n",
      "\u001b[0;32m~/anaconda3/envs/env_test/lib/python3.7/site-packages/tensorflow_core/python/eager/function.py\u001b[0m in \u001b[0;36m_call_flat\u001b[0;34m(self, args, captured_inputs, cancellation_manager)\u001b[0m\n\u001b[1;32m   1222\u001b[0m     \u001b[0;32mif\u001b[0m \u001b[0mexecuting_eagerly\u001b[0m\u001b[0;34m:\u001b[0m\u001b[0;34m\u001b[0m\u001b[0;34m\u001b[0m\u001b[0m\n\u001b[1;32m   1223\u001b[0m       flat_outputs = forward_function.call(\n\u001b[0;32m-> 1224\u001b[0;31m           ctx, args, cancellation_manager=cancellation_manager)\n\u001b[0m\u001b[1;32m   1225\u001b[0m     \u001b[0;32melse\u001b[0m\u001b[0;34m:\u001b[0m\u001b[0;34m\u001b[0m\u001b[0;34m\u001b[0m\u001b[0m\n\u001b[1;32m   1226\u001b[0m       \u001b[0mgradient_name\u001b[0m \u001b[0;34m=\u001b[0m \u001b[0mself\u001b[0m\u001b[0;34m.\u001b[0m\u001b[0m_delayed_rewrite_functions\u001b[0m\u001b[0;34m.\u001b[0m\u001b[0mregister\u001b[0m\u001b[0;34m(\u001b[0m\u001b[0;34m)\u001b[0m\u001b[0;34m\u001b[0m\u001b[0;34m\u001b[0m\u001b[0m\n",
      "\u001b[0;32m~/anaconda3/envs/env_test/lib/python3.7/site-packages/tensorflow_core/python/eager/function.py\u001b[0m in \u001b[0;36mcall\u001b[0;34m(self, ctx, args, cancellation_manager)\u001b[0m\n\u001b[1;32m    509\u001b[0m               \u001b[0minputs\u001b[0m\u001b[0;34m=\u001b[0m\u001b[0margs\u001b[0m\u001b[0;34m,\u001b[0m\u001b[0;34m\u001b[0m\u001b[0;34m\u001b[0m\u001b[0m\n\u001b[1;32m    510\u001b[0m               \u001b[0mattrs\u001b[0m\u001b[0;34m=\u001b[0m\u001b[0;34m(\u001b[0m\u001b[0;34m\"executor_type\"\u001b[0m\u001b[0;34m,\u001b[0m \u001b[0mexecutor_type\u001b[0m\u001b[0;34m,\u001b[0m \u001b[0;34m\"config_proto\"\u001b[0m\u001b[0;34m,\u001b[0m \u001b[0mconfig\u001b[0m\u001b[0;34m)\u001b[0m\u001b[0;34m,\u001b[0m\u001b[0;34m\u001b[0m\u001b[0;34m\u001b[0m\u001b[0m\n\u001b[0;32m--> 511\u001b[0;31m               ctx=ctx)\n\u001b[0m\u001b[1;32m    512\u001b[0m         \u001b[0;32melse\u001b[0m\u001b[0;34m:\u001b[0m\u001b[0;34m\u001b[0m\u001b[0;34m\u001b[0m\u001b[0m\n\u001b[1;32m    513\u001b[0m           outputs = execute.execute_with_cancellation(\n",
      "\u001b[0;32m~/anaconda3/envs/env_test/lib/python3.7/site-packages/tensorflow_core/python/eager/execute.py\u001b[0m in \u001b[0;36mquick_execute\u001b[0;34m(op_name, num_outputs, inputs, attrs, ctx, name)\u001b[0m\n\u001b[1;32m     59\u001b[0m     tensors = pywrap_tensorflow.TFE_Py_Execute(ctx._handle, device_name,\n\u001b[1;32m     60\u001b[0m                                                \u001b[0mop_name\u001b[0m\u001b[0;34m,\u001b[0m \u001b[0minputs\u001b[0m\u001b[0;34m,\u001b[0m \u001b[0mattrs\u001b[0m\u001b[0;34m,\u001b[0m\u001b[0;34m\u001b[0m\u001b[0;34m\u001b[0m\u001b[0m\n\u001b[0;32m---> 61\u001b[0;31m                                                num_outputs)\n\u001b[0m\u001b[1;32m     62\u001b[0m   \u001b[0;32mexcept\u001b[0m \u001b[0mcore\u001b[0m\u001b[0;34m.\u001b[0m\u001b[0m_NotOkStatusException\u001b[0m \u001b[0;32mas\u001b[0m \u001b[0me\u001b[0m\u001b[0;34m:\u001b[0m\u001b[0;34m\u001b[0m\u001b[0;34m\u001b[0m\u001b[0m\n\u001b[1;32m     63\u001b[0m     \u001b[0;32mif\u001b[0m \u001b[0mname\u001b[0m \u001b[0;32mis\u001b[0m \u001b[0;32mnot\u001b[0m \u001b[0;32mNone\u001b[0m\u001b[0;34m:\u001b[0m\u001b[0;34m\u001b[0m\u001b[0;34m\u001b[0m\u001b[0m\n",
      "\u001b[0;31mKeyboardInterrupt\u001b[0m: "
     ]
    }
   ],
   "source": [
    "env = Environment(grid_size=size, max_time=T, temperature=0.3)\n",
    "agent = DQN_FC(size, lr=1e-3, epsilon = 0.1, memory_size=2000, batch_size = 128)\n",
    "train(agent, env, epochs_train, prefix='fc_train')\n",
    "HTML(display_videos('fc_train10.mp4'))"
   ]
  },
  {
   "cell_type": "markdown",
   "metadata": {},
   "source": [
    "***\n",
    "***\n",
    "__Question 8__ Implement the DQN training algorithm using a CNN (for example, 2 convolutional layers and one final fully connected layer)."
   ]
  },
  {
   "cell_type": "markdown",
   "metadata": {},
   "source": [
    "For the CNN, I tryed with only one convolutional layers of size (3,3). The output is size (3,3,n_state). I should give a good idea on what action to do. I added 1 fully connected layer."
   ]
  },
  {
   "cell_type": "code",
   "execution_count": 13,
   "metadata": {},
   "outputs": [],
   "source": [
    "class DQN_CNN(DQN):\n",
    "    def __init__(self, *args,lr=0.1,**kwargs):\n",
    "        super(DQN_CNN, self).__init__(*args,**kwargs)\n",
    "        \n",
    "        model = Sequential()\n",
    "        model.add(Conv2D(16, (3, 3), activation='relu', input_shape=(5,5, self.n_state)))\n",
    "        model.add(Conv2D(16, (3, 3), activation='relu'))\n",
    "        '''\n",
    "        model.add(MaxPooling2D(pool_size=(2, 2)))\n",
    "        model.add(Dropout(0.25))\n",
    "        '''\n",
    "        model.add(Flatten())\n",
    "        model.add(Dense(4, activation = \"linear\"))\n",
    "        \n",
    "        model.compile(adam(lr=lr, decay=1e-4), \"mse\")\n",
    "        self.model = model"
   ]
  },
  {
   "cell_type": "code",
   "execution_count": 14,
   "metadata": {},
   "outputs": [
    {
     "ename": "KeyboardInterrupt",
     "evalue": "",
     "output_type": "error",
     "traceback": [
      "\u001b[0;31m---------------------------------------------------------------------------\u001b[0m",
      "\u001b[0;31mKeyboardInterrupt\u001b[0m                         Traceback (most recent call last)",
      "\u001b[0;32m<ipython-input-14-48219c011b75>\u001b[0m in \u001b[0;36m<module>\u001b[0;34m\u001b[0m\n\u001b[1;32m      1\u001b[0m \u001b[0menv\u001b[0m \u001b[0;34m=\u001b[0m \u001b[0mEnvironment\u001b[0m\u001b[0;34m(\u001b[0m\u001b[0mgrid_size\u001b[0m\u001b[0;34m=\u001b[0m\u001b[0msize\u001b[0m\u001b[0;34m,\u001b[0m \u001b[0mmax_time\u001b[0m\u001b[0;34m=\u001b[0m\u001b[0mT\u001b[0m\u001b[0;34m,\u001b[0m \u001b[0mtemperature\u001b[0m\u001b[0;34m=\u001b[0m\u001b[0;36m0.3\u001b[0m\u001b[0;34m)\u001b[0m\u001b[0;34m\u001b[0m\u001b[0;34m\u001b[0m\u001b[0m\n\u001b[1;32m      2\u001b[0m \u001b[0magent\u001b[0m \u001b[0;34m=\u001b[0m \u001b[0mDQN_CNN\u001b[0m\u001b[0;34m(\u001b[0m\u001b[0msize\u001b[0m\u001b[0;34m,\u001b[0m \u001b[0mlr\u001b[0m\u001b[0;34m=\u001b[0m\u001b[0;36m1e-3\u001b[0m\u001b[0;34m,\u001b[0m \u001b[0mepsilon\u001b[0m \u001b[0;34m=\u001b[0m \u001b[0;36m0.1\u001b[0m\u001b[0;34m,\u001b[0m \u001b[0mmemory_size\u001b[0m\u001b[0;34m=\u001b[0m\u001b[0;36m2000\u001b[0m\u001b[0;34m,\u001b[0m \u001b[0mbatch_size\u001b[0m \u001b[0;34m=\u001b[0m \u001b[0;36m32\u001b[0m\u001b[0;34m)\u001b[0m\u001b[0;34m\u001b[0m\u001b[0;34m\u001b[0m\u001b[0m\n\u001b[0;32m----> 3\u001b[0;31m \u001b[0mtrain\u001b[0m\u001b[0;34m(\u001b[0m\u001b[0magent\u001b[0m\u001b[0;34m,\u001b[0m\u001b[0menv\u001b[0m\u001b[0;34m,\u001b[0m\u001b[0mepochs_train\u001b[0m\u001b[0;34m,\u001b[0m\u001b[0mprefix\u001b[0m\u001b[0;34m=\u001b[0m\u001b[0;34m'cnn_train'\u001b[0m\u001b[0;34m)\u001b[0m\u001b[0;34m\u001b[0m\u001b[0;34m\u001b[0m\u001b[0m\n\u001b[0m\u001b[1;32m      4\u001b[0m \u001b[0mHTML\u001b[0m\u001b[0;34m(\u001b[0m\u001b[0mdisplay_videos\u001b[0m\u001b[0;34m(\u001b[0m\u001b[0;34m'cnn_train10.mp4'\u001b[0m\u001b[0;34m)\u001b[0m\u001b[0;34m)\u001b[0m\u001b[0;34m\u001b[0m\u001b[0;34m\u001b[0m\u001b[0m\n",
      "\u001b[0;32m<ipython-input-10-4297e2a43490>\u001b[0m in \u001b[0;36mtrain\u001b[0;34m(agent, env, epoch, prefix)\u001b[0m\n\u001b[1;32m     29\u001b[0m \u001b[0;34m\u001b[0m\u001b[0m\n\u001b[1;32m     30\u001b[0m             \u001b[0;31m# Apply the reinforcement strategy\u001b[0m\u001b[0;34m\u001b[0m\u001b[0;34m\u001b[0m\u001b[0;34m\u001b[0m\u001b[0m\n\u001b[0;32m---> 31\u001b[0;31m             \u001b[0mloss\u001b[0m \u001b[0;34m=\u001b[0m \u001b[0magent\u001b[0m\u001b[0;34m.\u001b[0m\u001b[0mreinforce\u001b[0m\u001b[0;34m(\u001b[0m\u001b[0mprev_state\u001b[0m\u001b[0;34m,\u001b[0m \u001b[0mstate\u001b[0m\u001b[0;34m,\u001b[0m  \u001b[0maction\u001b[0m\u001b[0;34m,\u001b[0m \u001b[0mreward\u001b[0m\u001b[0;34m,\u001b[0m \u001b[0mgame_over\u001b[0m\u001b[0;34m)\u001b[0m\u001b[0;34m\u001b[0m\u001b[0;34m\u001b[0m\u001b[0m\n\u001b[0m\u001b[1;32m     32\u001b[0m \u001b[0;34m\u001b[0m\u001b[0m\n\u001b[1;32m     33\u001b[0m         \u001b[0;31m# Save as a mp4\u001b[0m\u001b[0;34m\u001b[0m\u001b[0;34m\u001b[0m\u001b[0;34m\u001b[0m\u001b[0m\n",
      "\u001b[0;32m<ipython-input-11-9b21be536eaa>\u001b[0m in \u001b[0;36mreinforce\u001b[0;34m(self, s_, n_s_, a_, r_, game_over_)\u001b[0m\n\u001b[1;32m     38\u001b[0m \u001b[0;34m\u001b[0m\u001b[0m\n\u001b[1;32m     39\u001b[0m             \u001b[0;31m# On initialise target_q avec la connaissance que l'on a déjà\u001b[0m\u001b[0;34m\u001b[0m\u001b[0;34m\u001b[0m\u001b[0;34m\u001b[0m\u001b[0m\n\u001b[0;32m---> 40\u001b[0;31m             \u001b[0mtarget_q\u001b[0m\u001b[0;34m[\u001b[0m\u001b[0mi\u001b[0m\u001b[0;34m]\u001b[0m \u001b[0;34m=\u001b[0m \u001b[0mself\u001b[0m\u001b[0;34m.\u001b[0m\u001b[0mmodel\u001b[0m\u001b[0;34m.\u001b[0m\u001b[0mpredict\u001b[0m\u001b[0;34m(\u001b[0m\u001b[0ms_\u001b[0m\u001b[0;34m.\u001b[0m\u001b[0mreshape\u001b[0m\u001b[0;34m(\u001b[0m\u001b[0;34m(\u001b[0m\u001b[0;36m1\u001b[0m\u001b[0;34m,\u001b[0m\u001b[0;36m5\u001b[0m\u001b[0;34m,\u001b[0m\u001b[0;36m5\u001b[0m\u001b[0;34m,\u001b[0m\u001b[0mself\u001b[0m\u001b[0;34m.\u001b[0m\u001b[0mn_state\u001b[0m\u001b[0;34m)\u001b[0m\u001b[0;34m)\u001b[0m\u001b[0;34m)\u001b[0m\u001b[0;34m[\u001b[0m\u001b[0;36m0\u001b[0m\u001b[0;34m]\u001b[0m\u001b[0;34m\u001b[0m\u001b[0;34m\u001b[0m\u001b[0m\n\u001b[0m\u001b[1;32m     41\u001b[0m \u001b[0;34m\u001b[0m\u001b[0m\n\u001b[1;32m     42\u001b[0m             \u001b[0;32mif\u001b[0m \u001b[0mgame_over_\u001b[0m\u001b[0;34m:\u001b[0m\u001b[0;34m\u001b[0m\u001b[0;34m\u001b[0m\u001b[0m\n",
      "\u001b[0;32m~/anaconda3/envs/env_test/lib/python3.7/site-packages/keras/engine/training.py\u001b[0m in \u001b[0;36mpredict\u001b[0;34m(self, x, batch_size, verbose, steps, callbacks, max_queue_size, workers, use_multiprocessing)\u001b[0m\n\u001b[1;32m   1460\u001b[0m                                             \u001b[0mverbose\u001b[0m\u001b[0;34m=\u001b[0m\u001b[0mverbose\u001b[0m\u001b[0;34m,\u001b[0m\u001b[0;34m\u001b[0m\u001b[0;34m\u001b[0m\u001b[0m\n\u001b[1;32m   1461\u001b[0m                                             \u001b[0msteps\u001b[0m\u001b[0;34m=\u001b[0m\u001b[0msteps\u001b[0m\u001b[0;34m,\u001b[0m\u001b[0;34m\u001b[0m\u001b[0;34m\u001b[0m\u001b[0m\n\u001b[0;32m-> 1462\u001b[0;31m                                             callbacks=callbacks)\n\u001b[0m\u001b[1;32m   1463\u001b[0m \u001b[0;34m\u001b[0m\u001b[0m\n\u001b[1;32m   1464\u001b[0m     def train_on_batch(self, x, y,\n",
      "\u001b[0;32m~/anaconda3/envs/env_test/lib/python3.7/site-packages/keras/engine/training_arrays.py\u001b[0m in \u001b[0;36mpredict_loop\u001b[0;34m(model, f, ins, batch_size, verbose, steps, callbacks)\u001b[0m\n\u001b[1;32m    322\u001b[0m             \u001b[0mbatch_logs\u001b[0m \u001b[0;34m=\u001b[0m \u001b[0;34m{\u001b[0m\u001b[0;34m'batch'\u001b[0m\u001b[0;34m:\u001b[0m \u001b[0mbatch_index\u001b[0m\u001b[0;34m,\u001b[0m \u001b[0;34m'size'\u001b[0m\u001b[0;34m:\u001b[0m \u001b[0mlen\u001b[0m\u001b[0;34m(\u001b[0m\u001b[0mbatch_ids\u001b[0m\u001b[0;34m)\u001b[0m\u001b[0;34m}\u001b[0m\u001b[0;34m\u001b[0m\u001b[0;34m\u001b[0m\u001b[0m\n\u001b[1;32m    323\u001b[0m             \u001b[0mcallbacks\u001b[0m\u001b[0;34m.\u001b[0m\u001b[0m_call_batch_hook\u001b[0m\u001b[0;34m(\u001b[0m\u001b[0;34m'predict'\u001b[0m\u001b[0;34m,\u001b[0m \u001b[0;34m'begin'\u001b[0m\u001b[0;34m,\u001b[0m \u001b[0mbatch_index\u001b[0m\u001b[0;34m,\u001b[0m \u001b[0mbatch_logs\u001b[0m\u001b[0;34m)\u001b[0m\u001b[0;34m\u001b[0m\u001b[0;34m\u001b[0m\u001b[0m\n\u001b[0;32m--> 324\u001b[0;31m             \u001b[0mbatch_outs\u001b[0m \u001b[0;34m=\u001b[0m \u001b[0mf\u001b[0m\u001b[0;34m(\u001b[0m\u001b[0mins_batch\u001b[0m\u001b[0;34m)\u001b[0m\u001b[0;34m\u001b[0m\u001b[0;34m\u001b[0m\u001b[0m\n\u001b[0m\u001b[1;32m    325\u001b[0m             \u001b[0mbatch_outs\u001b[0m \u001b[0;34m=\u001b[0m \u001b[0mto_list\u001b[0m\u001b[0;34m(\u001b[0m\u001b[0mbatch_outs\u001b[0m\u001b[0;34m)\u001b[0m\u001b[0;34m\u001b[0m\u001b[0;34m\u001b[0m\u001b[0m\n\u001b[1;32m    326\u001b[0m             \u001b[0;32mif\u001b[0m \u001b[0mbatch_index\u001b[0m \u001b[0;34m==\u001b[0m \u001b[0;36m0\u001b[0m\u001b[0;34m:\u001b[0m\u001b[0;34m\u001b[0m\u001b[0;34m\u001b[0m\u001b[0m\n",
      "\u001b[0;32m~/anaconda3/envs/env_test/lib/python3.7/site-packages/tensorflow_core/python/keras/backend.py\u001b[0m in \u001b[0;36m__call__\u001b[0;34m(self, inputs)\u001b[0m\n\u001b[1;32m   3738\u001b[0m         \u001b[0mvalue\u001b[0m \u001b[0;34m=\u001b[0m \u001b[0mmath_ops\u001b[0m\u001b[0;34m.\u001b[0m\u001b[0mcast\u001b[0m\u001b[0;34m(\u001b[0m\u001b[0mvalue\u001b[0m\u001b[0;34m,\u001b[0m \u001b[0mtensor\u001b[0m\u001b[0;34m.\u001b[0m\u001b[0mdtype\u001b[0m\u001b[0;34m)\u001b[0m\u001b[0;34m\u001b[0m\u001b[0;34m\u001b[0m\u001b[0m\n\u001b[1;32m   3739\u001b[0m       \u001b[0mconverted_inputs\u001b[0m\u001b[0;34m.\u001b[0m\u001b[0mappend\u001b[0m\u001b[0;34m(\u001b[0m\u001b[0mvalue\u001b[0m\u001b[0;34m)\u001b[0m\u001b[0;34m\u001b[0m\u001b[0;34m\u001b[0m\u001b[0m\n\u001b[0;32m-> 3740\u001b[0;31m     \u001b[0moutputs\u001b[0m \u001b[0;34m=\u001b[0m \u001b[0mself\u001b[0m\u001b[0;34m.\u001b[0m\u001b[0m_graph_fn\u001b[0m\u001b[0;34m(\u001b[0m\u001b[0;34m*\u001b[0m\u001b[0mconverted_inputs\u001b[0m\u001b[0;34m)\u001b[0m\u001b[0;34m\u001b[0m\u001b[0;34m\u001b[0m\u001b[0m\n\u001b[0m\u001b[1;32m   3741\u001b[0m \u001b[0;34m\u001b[0m\u001b[0m\n\u001b[1;32m   3742\u001b[0m     \u001b[0;31m# EagerTensor.numpy() will often make a copy to ensure memory safety.\u001b[0m\u001b[0;34m\u001b[0m\u001b[0;34m\u001b[0m\u001b[0;34m\u001b[0m\u001b[0m\n",
      "\u001b[0;32m~/anaconda3/envs/env_test/lib/python3.7/site-packages/tensorflow_core/python/eager/function.py\u001b[0m in \u001b[0;36m__call__\u001b[0;34m(self, *args, **kwargs)\u001b[0m\n\u001b[1;32m   1079\u001b[0m       \u001b[0mTypeError\u001b[0m\u001b[0;34m:\u001b[0m \u001b[0mFor\u001b[0m \u001b[0minvalid\u001b[0m \u001b[0mpositional\u001b[0m\u001b[0;34m/\u001b[0m\u001b[0mkeyword\u001b[0m \u001b[0margument\u001b[0m \u001b[0mcombinations\u001b[0m\u001b[0;34m.\u001b[0m\u001b[0;34m\u001b[0m\u001b[0;34m\u001b[0m\u001b[0m\n\u001b[1;32m   1080\u001b[0m     \"\"\"\n\u001b[0;32m-> 1081\u001b[0;31m     \u001b[0;32mreturn\u001b[0m \u001b[0mself\u001b[0m\u001b[0;34m.\u001b[0m\u001b[0m_call_impl\u001b[0m\u001b[0;34m(\u001b[0m\u001b[0margs\u001b[0m\u001b[0;34m,\u001b[0m \u001b[0mkwargs\u001b[0m\u001b[0;34m)\u001b[0m\u001b[0;34m\u001b[0m\u001b[0;34m\u001b[0m\u001b[0m\n\u001b[0m\u001b[1;32m   1082\u001b[0m \u001b[0;34m\u001b[0m\u001b[0m\n\u001b[1;32m   1083\u001b[0m   \u001b[0;32mdef\u001b[0m \u001b[0m_call_impl\u001b[0m\u001b[0;34m(\u001b[0m\u001b[0mself\u001b[0m\u001b[0;34m,\u001b[0m \u001b[0margs\u001b[0m\u001b[0;34m,\u001b[0m \u001b[0mkwargs\u001b[0m\u001b[0;34m,\u001b[0m \u001b[0mcancellation_manager\u001b[0m\u001b[0;34m=\u001b[0m\u001b[0;32mNone\u001b[0m\u001b[0;34m)\u001b[0m\u001b[0;34m:\u001b[0m\u001b[0;34m\u001b[0m\u001b[0;34m\u001b[0m\u001b[0m\n",
      "\u001b[0;32m~/anaconda3/envs/env_test/lib/python3.7/site-packages/tensorflow_core/python/eager/function.py\u001b[0m in \u001b[0;36m_call_impl\u001b[0;34m(self, args, kwargs, cancellation_manager)\u001b[0m\n\u001b[1;32m   1119\u001b[0m       raise TypeError(\"Keyword arguments {} unknown. Expected {}.\".format(\n\u001b[1;32m   1120\u001b[0m           list(kwargs.keys()), list(self._arg_keywords)))\n\u001b[0;32m-> 1121\u001b[0;31m     \u001b[0;32mreturn\u001b[0m \u001b[0mself\u001b[0m\u001b[0;34m.\u001b[0m\u001b[0m_call_flat\u001b[0m\u001b[0;34m(\u001b[0m\u001b[0margs\u001b[0m\u001b[0;34m,\u001b[0m \u001b[0mself\u001b[0m\u001b[0;34m.\u001b[0m\u001b[0mcaptured_inputs\u001b[0m\u001b[0;34m,\u001b[0m \u001b[0mcancellation_manager\u001b[0m\u001b[0;34m)\u001b[0m\u001b[0;34m\u001b[0m\u001b[0;34m\u001b[0m\u001b[0m\n\u001b[0m\u001b[1;32m   1122\u001b[0m \u001b[0;34m\u001b[0m\u001b[0m\n\u001b[1;32m   1123\u001b[0m   \u001b[0;32mdef\u001b[0m \u001b[0m_filtered_call\u001b[0m\u001b[0;34m(\u001b[0m\u001b[0mself\u001b[0m\u001b[0;34m,\u001b[0m \u001b[0margs\u001b[0m\u001b[0;34m,\u001b[0m \u001b[0mkwargs\u001b[0m\u001b[0;34m)\u001b[0m\u001b[0;34m:\u001b[0m\u001b[0;34m\u001b[0m\u001b[0;34m\u001b[0m\u001b[0m\n",
      "\u001b[0;32m~/anaconda3/envs/env_test/lib/python3.7/site-packages/tensorflow_core/python/eager/function.py\u001b[0m in \u001b[0;36m_call_flat\u001b[0;34m(self, args, captured_inputs, cancellation_manager)\u001b[0m\n\u001b[1;32m   1222\u001b[0m     \u001b[0;32mif\u001b[0m \u001b[0mexecuting_eagerly\u001b[0m\u001b[0;34m:\u001b[0m\u001b[0;34m\u001b[0m\u001b[0;34m\u001b[0m\u001b[0m\n\u001b[1;32m   1223\u001b[0m       flat_outputs = forward_function.call(\n\u001b[0;32m-> 1224\u001b[0;31m           ctx, args, cancellation_manager=cancellation_manager)\n\u001b[0m\u001b[1;32m   1225\u001b[0m     \u001b[0;32melse\u001b[0m\u001b[0;34m:\u001b[0m\u001b[0;34m\u001b[0m\u001b[0;34m\u001b[0m\u001b[0m\n\u001b[1;32m   1226\u001b[0m       \u001b[0mgradient_name\u001b[0m \u001b[0;34m=\u001b[0m \u001b[0mself\u001b[0m\u001b[0;34m.\u001b[0m\u001b[0m_delayed_rewrite_functions\u001b[0m\u001b[0;34m.\u001b[0m\u001b[0mregister\u001b[0m\u001b[0;34m(\u001b[0m\u001b[0;34m)\u001b[0m\u001b[0;34m\u001b[0m\u001b[0;34m\u001b[0m\u001b[0m\n",
      "\u001b[0;32m~/anaconda3/envs/env_test/lib/python3.7/site-packages/tensorflow_core/python/eager/function.py\u001b[0m in \u001b[0;36mcall\u001b[0;34m(self, ctx, args, cancellation_manager)\u001b[0m\n\u001b[1;32m    509\u001b[0m               \u001b[0minputs\u001b[0m\u001b[0;34m=\u001b[0m\u001b[0margs\u001b[0m\u001b[0;34m,\u001b[0m\u001b[0;34m\u001b[0m\u001b[0;34m\u001b[0m\u001b[0m\n\u001b[1;32m    510\u001b[0m               \u001b[0mattrs\u001b[0m\u001b[0;34m=\u001b[0m\u001b[0;34m(\u001b[0m\u001b[0;34m\"executor_type\"\u001b[0m\u001b[0;34m,\u001b[0m \u001b[0mexecutor_type\u001b[0m\u001b[0;34m,\u001b[0m \u001b[0;34m\"config_proto\"\u001b[0m\u001b[0;34m,\u001b[0m \u001b[0mconfig\u001b[0m\u001b[0;34m)\u001b[0m\u001b[0;34m,\u001b[0m\u001b[0;34m\u001b[0m\u001b[0;34m\u001b[0m\u001b[0m\n\u001b[0;32m--> 511\u001b[0;31m               ctx=ctx)\n\u001b[0m\u001b[1;32m    512\u001b[0m         \u001b[0;32melse\u001b[0m\u001b[0;34m:\u001b[0m\u001b[0;34m\u001b[0m\u001b[0;34m\u001b[0m\u001b[0m\n\u001b[1;32m    513\u001b[0m           outputs = execute.execute_with_cancellation(\n",
      "\u001b[0;32m~/anaconda3/envs/env_test/lib/python3.7/site-packages/tensorflow_core/python/eager/execute.py\u001b[0m in \u001b[0;36mquick_execute\u001b[0;34m(op_name, num_outputs, inputs, attrs, ctx, name)\u001b[0m\n\u001b[1;32m     59\u001b[0m     tensors = pywrap_tensorflow.TFE_Py_Execute(ctx._handle, device_name,\n\u001b[1;32m     60\u001b[0m                                                \u001b[0mop_name\u001b[0m\u001b[0;34m,\u001b[0m \u001b[0minputs\u001b[0m\u001b[0;34m,\u001b[0m \u001b[0mattrs\u001b[0m\u001b[0;34m,\u001b[0m\u001b[0;34m\u001b[0m\u001b[0;34m\u001b[0m\u001b[0m\n\u001b[0;32m---> 61\u001b[0;31m                                                num_outputs)\n\u001b[0m\u001b[1;32m     62\u001b[0m   \u001b[0;32mexcept\u001b[0m \u001b[0mcore\u001b[0m\u001b[0;34m.\u001b[0m\u001b[0m_NotOkStatusException\u001b[0m \u001b[0;32mas\u001b[0m \u001b[0me\u001b[0m\u001b[0;34m:\u001b[0m\u001b[0;34m\u001b[0m\u001b[0;34m\u001b[0m\u001b[0m\n\u001b[1;32m     63\u001b[0m     \u001b[0;32mif\u001b[0m \u001b[0mname\u001b[0m \u001b[0;32mis\u001b[0m \u001b[0;32mnot\u001b[0m \u001b[0;32mNone\u001b[0m\u001b[0;34m:\u001b[0m\u001b[0;34m\u001b[0m\u001b[0;34m\u001b[0m\u001b[0m\n",
      "\u001b[0;31mKeyboardInterrupt\u001b[0m: "
     ]
    }
   ],
   "source": [
    "env = Environment(grid_size=size, max_time=T, temperature=0.3)\n",
    "agent = DQN_CNN(size, lr=1e-3, epsilon = 0.1, memory_size=2000, batch_size = 32)\n",
    "train(agent,env,epochs_train,prefix='cnn_train')\n",
    "HTML(display_videos('cnn_train10.mp4'))"
   ]
  },
  {
   "cell_type": "markdown",
   "metadata": {},
   "source": [
    "***\n",
    "***\n",
    "__Question 9__ Test both algorithms and compare their performances. Which issue(s) do you observe? Observe also different behaviors by changing the temperature."
   ]
  },
  {
   "cell_type": "code",
   "execution_count": 15,
   "metadata": {},
   "outputs": [
    {
     "name": "stdout",
     "output_type": "stream",
     "text": [
      "Test of the CNN\n",
      "Win/lose count 1.0/2.0. Average score (-1.0)\n"
     ]
    },
    {
     "ename": "KeyboardInterrupt",
     "evalue": "",
     "output_type": "error",
     "traceback": [
      "\u001b[0;31m---------------------------------------------------------------------------\u001b[0m",
      "\u001b[0;31mKeyboardInterrupt\u001b[0m                         Traceback (most recent call last)",
      "\u001b[0;32m<ipython-input-15-8f72a2c081d4>\u001b[0m in \u001b[0;36m<module>\u001b[0;34m\u001b[0m\n\u001b[1;32m      6\u001b[0m \u001b[0magent_cnn\u001b[0m\u001b[0;34m.\u001b[0m\u001b[0mload\u001b[0m\u001b[0;34m(\u001b[0m\u001b[0mname_weights\u001b[0m\u001b[0;34m=\u001b[0m\u001b[0;34m'fc_trainmodel.h5'\u001b[0m\u001b[0;34m,\u001b[0m\u001b[0mname_model\u001b[0m\u001b[0;34m=\u001b[0m\u001b[0;34m'fc_trainmodel.json'\u001b[0m\u001b[0;34m)\u001b[0m\u001b[0;34m\u001b[0m\u001b[0;34m\u001b[0m\u001b[0m\n\u001b[1;32m      7\u001b[0m \u001b[0mprint\u001b[0m\u001b[0;34m(\u001b[0m\u001b[0;34m'Test of the CNN'\u001b[0m\u001b[0;34m)\u001b[0m\u001b[0;34m\u001b[0m\u001b[0;34m\u001b[0m\u001b[0m\n\u001b[0;32m----> 8\u001b[0;31m \u001b[0mtest\u001b[0m\u001b[0;34m(\u001b[0m\u001b[0magent_cnn\u001b[0m\u001b[0;34m,\u001b[0m\u001b[0menv\u001b[0m\u001b[0;34m,\u001b[0m\u001b[0mepochs_test\u001b[0m\u001b[0;34m,\u001b[0m\u001b[0mprefix\u001b[0m\u001b[0;34m=\u001b[0m\u001b[0;34m'cnn_test'\u001b[0m\u001b[0;34m)\u001b[0m\u001b[0;34m\u001b[0m\u001b[0;34m\u001b[0m\u001b[0m\n\u001b[0m\u001b[1;32m      9\u001b[0m \u001b[0mprint\u001b[0m\u001b[0;34m(\u001b[0m\u001b[0;34m'Test of the FC'\u001b[0m\u001b[0;34m)\u001b[0m\u001b[0;34m\u001b[0m\u001b[0;34m\u001b[0m\u001b[0m\n\u001b[1;32m     10\u001b[0m \u001b[0mtest\u001b[0m\u001b[0;34m(\u001b[0m\u001b[0magent_fc\u001b[0m\u001b[0;34m,\u001b[0m\u001b[0menv\u001b[0m\u001b[0;34m,\u001b[0m\u001b[0mepochs_test\u001b[0m\u001b[0;34m,\u001b[0m\u001b[0mprefix\u001b[0m\u001b[0;34m=\u001b[0m\u001b[0;34m'fc_test'\u001b[0m\u001b[0;34m)\u001b[0m\u001b[0;34m\u001b[0m\u001b[0;34m\u001b[0m\u001b[0m\n",
      "\u001b[0;32m<ipython-input-7-955acb43400c>\u001b[0m in \u001b[0;36mtest\u001b[0;34m(agent, env, epochs, prefix)\u001b[0m\n\u001b[1;32m     14\u001b[0m         \u001b[0;32mwhile\u001b[0m \u001b[0;32mnot\u001b[0m \u001b[0mgame_over\u001b[0m\u001b[0;34m:\u001b[0m\u001b[0;34m\u001b[0m\u001b[0;34m\u001b[0m\u001b[0m\n\u001b[1;32m     15\u001b[0m             \u001b[0;31m# The agent performs an action\u001b[0m\u001b[0;34m\u001b[0m\u001b[0;34m\u001b[0m\u001b[0;34m\u001b[0m\u001b[0m\n\u001b[0;32m---> 16\u001b[0;31m             \u001b[0maction\u001b[0m \u001b[0;34m=\u001b[0m \u001b[0magent\u001b[0m\u001b[0;34m.\u001b[0m\u001b[0mact\u001b[0m\u001b[0;34m(\u001b[0m\u001b[0mstate\u001b[0m\u001b[0;34m,\u001b[0m\u001b[0mtrain\u001b[0m\u001b[0;34m=\u001b[0m\u001b[0;32mFalse\u001b[0m\u001b[0;34m)\u001b[0m\u001b[0;34m\u001b[0m\u001b[0;34m\u001b[0m\u001b[0m\n\u001b[0m\u001b[1;32m     17\u001b[0m \u001b[0;34m\u001b[0m\u001b[0m\n\u001b[1;32m     18\u001b[0m             \u001b[0;31m# Apply an action to the environment, get the next state, the reward\u001b[0m\u001b[0;34m\u001b[0m\u001b[0;34m\u001b[0m\u001b[0;34m\u001b[0m\u001b[0m\n",
      "\u001b[0;32m<ipython-input-3-ab0039e17785>\u001b[0m in \u001b[0;36mact\u001b[0;34m(self, s, train)\u001b[0m\n\u001b[1;32m     16\u001b[0m                 \u001b[0ma\u001b[0m \u001b[0;34m=\u001b[0m \u001b[0mself\u001b[0m\u001b[0;34m.\u001b[0m\u001b[0mlearned_act\u001b[0m\u001b[0;34m(\u001b[0m\u001b[0ms\u001b[0m\u001b[0;34m)\u001b[0m\u001b[0;34m\u001b[0m\u001b[0;34m\u001b[0m\u001b[0m\n\u001b[1;32m     17\u001b[0m         \u001b[0;32melse\u001b[0m\u001b[0;34m:\u001b[0m \u001b[0;31m# in some cases, this can improve the performance.. remove it if poor performances\u001b[0m\u001b[0;34m\u001b[0m\u001b[0;34m\u001b[0m\u001b[0m\n\u001b[0;32m---> 18\u001b[0;31m             \u001b[0ma\u001b[0m \u001b[0;34m=\u001b[0m \u001b[0mself\u001b[0m\u001b[0;34m.\u001b[0m\u001b[0mlearned_act\u001b[0m\u001b[0;34m(\u001b[0m\u001b[0ms\u001b[0m\u001b[0;34m)\u001b[0m\u001b[0;34m\u001b[0m\u001b[0;34m\u001b[0m\u001b[0m\n\u001b[0m\u001b[1;32m     19\u001b[0m \u001b[0;34m\u001b[0m\u001b[0m\n\u001b[1;32m     20\u001b[0m         \u001b[0;32mreturn\u001b[0m \u001b[0ma\u001b[0m\u001b[0;34m\u001b[0m\u001b[0;34m\u001b[0m\u001b[0m\n",
      "\u001b[0;32m<ipython-input-11-9b21be536eaa>\u001b[0m in \u001b[0;36mlearned_act\u001b[0;34m(self, s)\u001b[0m\n\u001b[1;32m     20\u001b[0m         \u001b[0;31m# Je pense qu'il y a un oubli, si l'agent ne retourne pas d'action en foncion du réseau, il ne va jamais apprendre\u001b[0m\u001b[0;34m\u001b[0m\u001b[0;34m\u001b[0m\u001b[0;34m\u001b[0m\u001b[0m\n\u001b[1;32m     21\u001b[0m         \u001b[0;31m# On retourne l'argument qui rend maximum Q*(s,a). Donc l'action qui mène à priori à la plus grnde reward.\u001b[0m\u001b[0;34m\u001b[0m\u001b[0;34m\u001b[0m\u001b[0;34m\u001b[0m\u001b[0m\n\u001b[0;32m---> 22\u001b[0;31m         \u001b[0;32mreturn\u001b[0m \u001b[0mnp\u001b[0m\u001b[0;34m.\u001b[0m\u001b[0margmax\u001b[0m\u001b[0;34m(\u001b[0m\u001b[0mself\u001b[0m\u001b[0;34m.\u001b[0m\u001b[0mmodel\u001b[0m\u001b[0;34m.\u001b[0m\u001b[0mpredict\u001b[0m\u001b[0;34m(\u001b[0m\u001b[0ms\u001b[0m\u001b[0;34m.\u001b[0m\u001b[0mreshape\u001b[0m\u001b[0;34m(\u001b[0m\u001b[0;34m(\u001b[0m\u001b[0;36m1\u001b[0m\u001b[0;34m,\u001b[0m\u001b[0;36m5\u001b[0m\u001b[0;34m,\u001b[0m\u001b[0;36m5\u001b[0m\u001b[0;34m,\u001b[0m\u001b[0mself\u001b[0m\u001b[0;34m.\u001b[0m\u001b[0mn_state\u001b[0m\u001b[0;34m)\u001b[0m\u001b[0;34m)\u001b[0m\u001b[0;34m)\u001b[0m\u001b[0;34m)\u001b[0m\u001b[0;34m\u001b[0m\u001b[0;34m\u001b[0m\u001b[0m\n\u001b[0m\u001b[1;32m     23\u001b[0m \u001b[0;34m\u001b[0m\u001b[0m\n\u001b[1;32m     24\u001b[0m     \u001b[0;32mdef\u001b[0m \u001b[0mreinforce\u001b[0m\u001b[0;34m(\u001b[0m\u001b[0mself\u001b[0m\u001b[0;34m,\u001b[0m \u001b[0ms_\u001b[0m\u001b[0;34m,\u001b[0m \u001b[0mn_s_\u001b[0m\u001b[0;34m,\u001b[0m \u001b[0ma_\u001b[0m\u001b[0;34m,\u001b[0m \u001b[0mr_\u001b[0m\u001b[0;34m,\u001b[0m \u001b[0mgame_over_\u001b[0m\u001b[0;34m)\u001b[0m\u001b[0;34m:\u001b[0m\u001b[0;34m\u001b[0m\u001b[0;34m\u001b[0m\u001b[0m\n",
      "\u001b[0;32m~/anaconda3/envs/env_test/lib/python3.7/site-packages/keras/engine/training.py\u001b[0m in \u001b[0;36mpredict\u001b[0;34m(self, x, batch_size, verbose, steps, callbacks, max_queue_size, workers, use_multiprocessing)\u001b[0m\n\u001b[1;32m   1460\u001b[0m                                             \u001b[0mverbose\u001b[0m\u001b[0;34m=\u001b[0m\u001b[0mverbose\u001b[0m\u001b[0;34m,\u001b[0m\u001b[0;34m\u001b[0m\u001b[0;34m\u001b[0m\u001b[0m\n\u001b[1;32m   1461\u001b[0m                                             \u001b[0msteps\u001b[0m\u001b[0;34m=\u001b[0m\u001b[0msteps\u001b[0m\u001b[0;34m,\u001b[0m\u001b[0;34m\u001b[0m\u001b[0;34m\u001b[0m\u001b[0m\n\u001b[0;32m-> 1462\u001b[0;31m                                             callbacks=callbacks)\n\u001b[0m\u001b[1;32m   1463\u001b[0m \u001b[0;34m\u001b[0m\u001b[0m\n\u001b[1;32m   1464\u001b[0m     def train_on_batch(self, x, y,\n",
      "\u001b[0;32m~/anaconda3/envs/env_test/lib/python3.7/site-packages/keras/engine/training_arrays.py\u001b[0m in \u001b[0;36mpredict_loop\u001b[0;34m(model, f, ins, batch_size, verbose, steps, callbacks)\u001b[0m\n\u001b[1;32m    322\u001b[0m             \u001b[0mbatch_logs\u001b[0m \u001b[0;34m=\u001b[0m \u001b[0;34m{\u001b[0m\u001b[0;34m'batch'\u001b[0m\u001b[0;34m:\u001b[0m \u001b[0mbatch_index\u001b[0m\u001b[0;34m,\u001b[0m \u001b[0;34m'size'\u001b[0m\u001b[0;34m:\u001b[0m \u001b[0mlen\u001b[0m\u001b[0;34m(\u001b[0m\u001b[0mbatch_ids\u001b[0m\u001b[0;34m)\u001b[0m\u001b[0;34m}\u001b[0m\u001b[0;34m\u001b[0m\u001b[0;34m\u001b[0m\u001b[0m\n\u001b[1;32m    323\u001b[0m             \u001b[0mcallbacks\u001b[0m\u001b[0;34m.\u001b[0m\u001b[0m_call_batch_hook\u001b[0m\u001b[0;34m(\u001b[0m\u001b[0;34m'predict'\u001b[0m\u001b[0;34m,\u001b[0m \u001b[0;34m'begin'\u001b[0m\u001b[0;34m,\u001b[0m \u001b[0mbatch_index\u001b[0m\u001b[0;34m,\u001b[0m \u001b[0mbatch_logs\u001b[0m\u001b[0;34m)\u001b[0m\u001b[0;34m\u001b[0m\u001b[0;34m\u001b[0m\u001b[0m\n\u001b[0;32m--> 324\u001b[0;31m             \u001b[0mbatch_outs\u001b[0m \u001b[0;34m=\u001b[0m \u001b[0mf\u001b[0m\u001b[0;34m(\u001b[0m\u001b[0mins_batch\u001b[0m\u001b[0;34m)\u001b[0m\u001b[0;34m\u001b[0m\u001b[0;34m\u001b[0m\u001b[0m\n\u001b[0m\u001b[1;32m    325\u001b[0m             \u001b[0mbatch_outs\u001b[0m \u001b[0;34m=\u001b[0m \u001b[0mto_list\u001b[0m\u001b[0;34m(\u001b[0m\u001b[0mbatch_outs\u001b[0m\u001b[0;34m)\u001b[0m\u001b[0;34m\u001b[0m\u001b[0;34m\u001b[0m\u001b[0m\n\u001b[1;32m    326\u001b[0m             \u001b[0;32mif\u001b[0m \u001b[0mbatch_index\u001b[0m \u001b[0;34m==\u001b[0m \u001b[0;36m0\u001b[0m\u001b[0;34m:\u001b[0m\u001b[0;34m\u001b[0m\u001b[0;34m\u001b[0m\u001b[0m\n",
      "\u001b[0;32m~/anaconda3/envs/env_test/lib/python3.7/site-packages/tensorflow_core/python/keras/backend.py\u001b[0m in \u001b[0;36m__call__\u001b[0;34m(self, inputs)\u001b[0m\n\u001b[1;32m   3738\u001b[0m         \u001b[0mvalue\u001b[0m \u001b[0;34m=\u001b[0m \u001b[0mmath_ops\u001b[0m\u001b[0;34m.\u001b[0m\u001b[0mcast\u001b[0m\u001b[0;34m(\u001b[0m\u001b[0mvalue\u001b[0m\u001b[0;34m,\u001b[0m \u001b[0mtensor\u001b[0m\u001b[0;34m.\u001b[0m\u001b[0mdtype\u001b[0m\u001b[0;34m)\u001b[0m\u001b[0;34m\u001b[0m\u001b[0;34m\u001b[0m\u001b[0m\n\u001b[1;32m   3739\u001b[0m       \u001b[0mconverted_inputs\u001b[0m\u001b[0;34m.\u001b[0m\u001b[0mappend\u001b[0m\u001b[0;34m(\u001b[0m\u001b[0mvalue\u001b[0m\u001b[0;34m)\u001b[0m\u001b[0;34m\u001b[0m\u001b[0;34m\u001b[0m\u001b[0m\n\u001b[0;32m-> 3740\u001b[0;31m     \u001b[0moutputs\u001b[0m \u001b[0;34m=\u001b[0m \u001b[0mself\u001b[0m\u001b[0;34m.\u001b[0m\u001b[0m_graph_fn\u001b[0m\u001b[0;34m(\u001b[0m\u001b[0;34m*\u001b[0m\u001b[0mconverted_inputs\u001b[0m\u001b[0;34m)\u001b[0m\u001b[0;34m\u001b[0m\u001b[0;34m\u001b[0m\u001b[0m\n\u001b[0m\u001b[1;32m   3741\u001b[0m \u001b[0;34m\u001b[0m\u001b[0m\n\u001b[1;32m   3742\u001b[0m     \u001b[0;31m# EagerTensor.numpy() will often make a copy to ensure memory safety.\u001b[0m\u001b[0;34m\u001b[0m\u001b[0;34m\u001b[0m\u001b[0;34m\u001b[0m\u001b[0m\n",
      "\u001b[0;32m~/anaconda3/envs/env_test/lib/python3.7/site-packages/tensorflow_core/python/eager/function.py\u001b[0m in \u001b[0;36m__call__\u001b[0;34m(self, *args, **kwargs)\u001b[0m\n\u001b[1;32m   1079\u001b[0m       \u001b[0mTypeError\u001b[0m\u001b[0;34m:\u001b[0m \u001b[0mFor\u001b[0m \u001b[0minvalid\u001b[0m \u001b[0mpositional\u001b[0m\u001b[0;34m/\u001b[0m\u001b[0mkeyword\u001b[0m \u001b[0margument\u001b[0m \u001b[0mcombinations\u001b[0m\u001b[0;34m.\u001b[0m\u001b[0;34m\u001b[0m\u001b[0;34m\u001b[0m\u001b[0m\n\u001b[1;32m   1080\u001b[0m     \"\"\"\n\u001b[0;32m-> 1081\u001b[0;31m     \u001b[0;32mreturn\u001b[0m \u001b[0mself\u001b[0m\u001b[0;34m.\u001b[0m\u001b[0m_call_impl\u001b[0m\u001b[0;34m(\u001b[0m\u001b[0margs\u001b[0m\u001b[0;34m,\u001b[0m \u001b[0mkwargs\u001b[0m\u001b[0;34m)\u001b[0m\u001b[0;34m\u001b[0m\u001b[0;34m\u001b[0m\u001b[0m\n\u001b[0m\u001b[1;32m   1082\u001b[0m \u001b[0;34m\u001b[0m\u001b[0m\n\u001b[1;32m   1083\u001b[0m   \u001b[0;32mdef\u001b[0m \u001b[0m_call_impl\u001b[0m\u001b[0;34m(\u001b[0m\u001b[0mself\u001b[0m\u001b[0;34m,\u001b[0m \u001b[0margs\u001b[0m\u001b[0;34m,\u001b[0m \u001b[0mkwargs\u001b[0m\u001b[0;34m,\u001b[0m \u001b[0mcancellation_manager\u001b[0m\u001b[0;34m=\u001b[0m\u001b[0;32mNone\u001b[0m\u001b[0;34m)\u001b[0m\u001b[0;34m:\u001b[0m\u001b[0;34m\u001b[0m\u001b[0;34m\u001b[0m\u001b[0m\n",
      "\u001b[0;32m~/anaconda3/envs/env_test/lib/python3.7/site-packages/tensorflow_core/python/eager/function.py\u001b[0m in \u001b[0;36m_call_impl\u001b[0;34m(self, args, kwargs, cancellation_manager)\u001b[0m\n\u001b[1;32m   1119\u001b[0m       raise TypeError(\"Keyword arguments {} unknown. Expected {}.\".format(\n\u001b[1;32m   1120\u001b[0m           list(kwargs.keys()), list(self._arg_keywords)))\n\u001b[0;32m-> 1121\u001b[0;31m     \u001b[0;32mreturn\u001b[0m \u001b[0mself\u001b[0m\u001b[0;34m.\u001b[0m\u001b[0m_call_flat\u001b[0m\u001b[0;34m(\u001b[0m\u001b[0margs\u001b[0m\u001b[0;34m,\u001b[0m \u001b[0mself\u001b[0m\u001b[0;34m.\u001b[0m\u001b[0mcaptured_inputs\u001b[0m\u001b[0;34m,\u001b[0m \u001b[0mcancellation_manager\u001b[0m\u001b[0;34m)\u001b[0m\u001b[0;34m\u001b[0m\u001b[0;34m\u001b[0m\u001b[0m\n\u001b[0m\u001b[1;32m   1122\u001b[0m \u001b[0;34m\u001b[0m\u001b[0m\n\u001b[1;32m   1123\u001b[0m   \u001b[0;32mdef\u001b[0m \u001b[0m_filtered_call\u001b[0m\u001b[0;34m(\u001b[0m\u001b[0mself\u001b[0m\u001b[0;34m,\u001b[0m \u001b[0margs\u001b[0m\u001b[0;34m,\u001b[0m \u001b[0mkwargs\u001b[0m\u001b[0;34m)\u001b[0m\u001b[0;34m:\u001b[0m\u001b[0;34m\u001b[0m\u001b[0;34m\u001b[0m\u001b[0m\n",
      "\u001b[0;32m~/anaconda3/envs/env_test/lib/python3.7/site-packages/tensorflow_core/python/eager/function.py\u001b[0m in \u001b[0;36m_call_flat\u001b[0;34m(self, args, captured_inputs, cancellation_manager)\u001b[0m\n\u001b[1;32m   1222\u001b[0m     \u001b[0;32mif\u001b[0m \u001b[0mexecuting_eagerly\u001b[0m\u001b[0;34m:\u001b[0m\u001b[0;34m\u001b[0m\u001b[0;34m\u001b[0m\u001b[0m\n\u001b[1;32m   1223\u001b[0m       flat_outputs = forward_function.call(\n\u001b[0;32m-> 1224\u001b[0;31m           ctx, args, cancellation_manager=cancellation_manager)\n\u001b[0m\u001b[1;32m   1225\u001b[0m     \u001b[0;32melse\u001b[0m\u001b[0;34m:\u001b[0m\u001b[0;34m\u001b[0m\u001b[0;34m\u001b[0m\u001b[0m\n\u001b[1;32m   1226\u001b[0m       \u001b[0mgradient_name\u001b[0m \u001b[0;34m=\u001b[0m \u001b[0mself\u001b[0m\u001b[0;34m.\u001b[0m\u001b[0m_delayed_rewrite_functions\u001b[0m\u001b[0;34m.\u001b[0m\u001b[0mregister\u001b[0m\u001b[0;34m(\u001b[0m\u001b[0;34m)\u001b[0m\u001b[0;34m\u001b[0m\u001b[0;34m\u001b[0m\u001b[0m\n",
      "\u001b[0;32m~/anaconda3/envs/env_test/lib/python3.7/site-packages/tensorflow_core/python/eager/function.py\u001b[0m in \u001b[0;36mcall\u001b[0;34m(self, ctx, args, cancellation_manager)\u001b[0m\n\u001b[1;32m    509\u001b[0m               \u001b[0minputs\u001b[0m\u001b[0;34m=\u001b[0m\u001b[0margs\u001b[0m\u001b[0;34m,\u001b[0m\u001b[0;34m\u001b[0m\u001b[0;34m\u001b[0m\u001b[0m\n\u001b[1;32m    510\u001b[0m               \u001b[0mattrs\u001b[0m\u001b[0;34m=\u001b[0m\u001b[0;34m(\u001b[0m\u001b[0;34m\"executor_type\"\u001b[0m\u001b[0;34m,\u001b[0m \u001b[0mexecutor_type\u001b[0m\u001b[0;34m,\u001b[0m \u001b[0;34m\"config_proto\"\u001b[0m\u001b[0;34m,\u001b[0m \u001b[0mconfig\u001b[0m\u001b[0;34m)\u001b[0m\u001b[0;34m,\u001b[0m\u001b[0;34m\u001b[0m\u001b[0;34m\u001b[0m\u001b[0m\n\u001b[0;32m--> 511\u001b[0;31m               ctx=ctx)\n\u001b[0m\u001b[1;32m    512\u001b[0m         \u001b[0;32melse\u001b[0m\u001b[0;34m:\u001b[0m\u001b[0;34m\u001b[0m\u001b[0;34m\u001b[0m\u001b[0m\n\u001b[1;32m    513\u001b[0m           outputs = execute.execute_with_cancellation(\n",
      "\u001b[0;32m~/anaconda3/envs/env_test/lib/python3.7/site-packages/tensorflow_core/python/eager/execute.py\u001b[0m in \u001b[0;36mquick_execute\u001b[0;34m(op_name, num_outputs, inputs, attrs, ctx, name)\u001b[0m\n\u001b[1;32m     59\u001b[0m     tensors = pywrap_tensorflow.TFE_Py_Execute(ctx._handle, device_name,\n\u001b[1;32m     60\u001b[0m                                                \u001b[0mop_name\u001b[0m\u001b[0;34m,\u001b[0m \u001b[0minputs\u001b[0m\u001b[0;34m,\u001b[0m \u001b[0mattrs\u001b[0m\u001b[0;34m,\u001b[0m\u001b[0;34m\u001b[0m\u001b[0;34m\u001b[0m\u001b[0m\n\u001b[0;32m---> 61\u001b[0;31m                                                num_outputs)\n\u001b[0m\u001b[1;32m     62\u001b[0m   \u001b[0;32mexcept\u001b[0m \u001b[0mcore\u001b[0m\u001b[0;34m.\u001b[0m\u001b[0m_NotOkStatusException\u001b[0m \u001b[0;32mas\u001b[0m \u001b[0me\u001b[0m\u001b[0;34m:\u001b[0m\u001b[0;34m\u001b[0m\u001b[0;34m\u001b[0m\u001b[0m\n\u001b[1;32m     63\u001b[0m     \u001b[0;32mif\u001b[0m \u001b[0mname\u001b[0m \u001b[0;32mis\u001b[0m \u001b[0;32mnot\u001b[0m \u001b[0;32mNone\u001b[0m\u001b[0;34m:\u001b[0m\u001b[0;34m\u001b[0m\u001b[0;34m\u001b[0m\u001b[0m\n",
      "\u001b[0;31mKeyboardInterrupt\u001b[0m: "
     ]
    }
   ],
   "source": [
    "env = Environment(grid_size=size, max_time=T,temperature=0.3)\n",
    "agent_cnn = DQN_CNN(size, lr=.1, epsilon = 0.1, memory_size=2000, batch_size = 32)\n",
    "agent_cnn.load(name_weights='cnn_trainmodel.h5',name_model='cnn_trainmodel.json')\n",
    "\n",
    "agent_fc = DQN_FC(size, lr=.1, epsilon = 0.1, memory_size=2000, batch_size = 32)\n",
    "agent_cnn.load(name_weights='fc_trainmodel.h5',name_model='fc_trainmodel.json')\n",
    "print('Test of the CNN')\n",
    "test(agent_cnn,env,epochs_test,prefix='cnn_test')\n",
    "print('Test of the FC')\n",
    "test(agent_fc,env,epochs_test,prefix='fc_test')"
   ]
  },
  {
   "cell_type": "code",
   "execution_count": null,
   "metadata": {},
   "outputs": [],
   "source": [
    "HTML(display_videos('cnn_test10.mp4'))"
   ]
  },
  {
   "cell_type": "code",
   "execution_count": null,
   "metadata": {},
   "outputs": [],
   "source": [
    "HTML(display_videos('fc_test10.mp4'))"
   ]
  },
  {
   "cell_type": "markdown",
   "metadata": {},
   "source": [
    "#### Issue with these algo\n",
    "It seems that the algorithms are not exploring at all the environnnement. A good stategy is to go back and forth. It prenvents the agent from collecting negative rewards.\n",
    "\n",
    "#### Influence of the temperature\n",
    "\n",
    "#### How to fix the problem ?\n",
    "A solution is to have an $\\epsilon$-greedy policy. At the begenning of the learning, the agent explores a lot (random mooves). It helps to have an accurate évaluation of $Q^*$ for a lot of different situations. Then, as $\\epsilon$ decrease, it exploit more. The estimation of $Q*$ can get more precise where it matters."
   ]
  },
  {
   "cell_type": "markdown",
   "metadata": {},
   "source": [
    "***\n",
    "\n",
    "The algorithm tends to not explore the map which can be an issue. We propose two ideas in order to encourage exploration:\n",
    "1. Incorporating a decreasing $\\epsilon$-greedy exploration. You can use the method ```set_epsilon```\n",
    "2. Append via the environment a new state that describes if a cell has been visited or not\n",
    "\n",
    "***\n",
    "__Question 10__ Design a new ```train_explore``` function and environment class ```EnvironmentExploring``` to tackle the issue of exploration.\n",
    "\n"
   ]
  },
  {
   "cell_type": "code",
   "execution_count": 16,
   "metadata": {},
   "outputs": [],
   "source": [
    "def train_explore(agent,env,epoch,prefix=''):\n",
    "    # Number of won games\n",
    "    score = 0\n",
    "    loss = 0\n",
    "    \n",
    "    # On défini un facteur multiplicatif\n",
    "    epsilon_decrease = (1-agent.epsilon)/(env.max_time*epoch)\n",
    "    agent.set_epsilon(1)\n",
    "    \n",
    "    for e in range(epoch):\n",
    "        # At each epoch, we restart to a fresh game and get the initial state\n",
    "        state = env.reset()\n",
    "        # This assumes that the games will terminate\n",
    "        game_over = False\n",
    "\n",
    "        win = 0\n",
    "        lose = 0\n",
    "\n",
    "        while not game_over:\n",
    "            # On défini le nouvel epsilon (à la fin tout les epoch, il vaudra la valeur entrée initialement)\n",
    "            agent.set_epsilon(agent.epsilon - epsilon_decrease)\n",
    "            \n",
    "            # The agent performs an action\n",
    "            action = agent.act(state, train=True)\n",
    "\n",
    "            # Apply an action to the environment, get the next state, the reward\n",
    "            # and if the games end\n",
    "            prev_state = state\n",
    "            state, reward, game_over = env.act(action, train=True)\n",
    "\n",
    "            # Update the counters\n",
    "            if reward > 0:\n",
    "                win = win + reward\n",
    "            if reward < 0:\n",
    "                lose = lose -reward\n",
    "\n",
    "            # Apply the reinforcement strategy\n",
    "            loss = agent.reinforce(prev_state, state,  action, reward, game_over)\n",
    "\n",
    "        # Save as a mp4\n",
    "        if e % 10 == 0:\n",
    "            env.draw(prefix+str(e))\n",
    "\n",
    "        # Update stats\n",
    "        score += win-lose\n",
    "\n",
    "        print(\"Epoch {:03d}/{:03d} | Loss {:.4f} | Win/lose count {}/{} ({})\"\n",
    "              .format(e, epoch, loss, win, lose, win-lose))\n",
    "        agent.save(name_weights=prefix+'model.h5',name_model=prefix+'model.json')\n",
    "\n",
    "\n",
    "class EnvironmentExploring(Environment):   \n",
    "    def __init__(self, grid_size=10, max_time=500, temperature=0.1):\n",
    "        Environment.__init__(self, grid_size=grid_size, max_time=max_time, temperature=temperature)\n",
    "        self.malus_position = np.zeros((self.grid_size, self.grid_size))\n",
    "        self.malus_position[self.x, self.y] = 0.1\n",
    "\n",
    "    def act(self, action, train=False):\n",
    "        \"\"\"This function returns the new state, reward and decides if the\n",
    "        game ends.\"\"\"\n",
    "        state, reward, game_over = Environment.act(self, action)\n",
    "        \n",
    "        # Modification de la reward pour prendre en compte le malus de revisiter un emplacement\n",
    "        if train:\n",
    "            reward -= self.malus_position[self.x, self.y]\n",
    "        \n",
    "        if self.malus_position[self.x, self.y] < 0.9 :\n",
    "            self.malus_position[self.x, self.y] += 0.1\n",
    "\n",
    "        # 3 \"features\" states instead of 2\n",
    "        malus_position =  self.malus_position[self.x-2:self.x+3, self.y-2:self.y+3, np.newaxis] # restricting to seen cells\n",
    "        state = np.concatenate((malus_position, state), axis=2)\n",
    "\n",
    "        return state, reward, game_over\n",
    "\n",
    "    def reset(self):\n",
    "        \"\"\"This function resets the game and returns the initial state\"\"\"\n",
    "        # reset environement\n",
    "        state = Environment.reset(self)\n",
    "\n",
    "        # reset malus\n",
    "        self.malus_position = np.zeros((self.grid_size, self.grid_size))\n",
    "        self.malus_position[self.x, self.y] = 0.1\n",
    "\n",
    "        malus_pos =  self.malus_position[self.x-2:self.x+3, self.y-2:self.y+3, np.newaxis]\n",
    "        state = np.concatenate((malus_pos, state), axis=2)\n",
    "        \n",
    "        return state"
   ]
  },
  {
   "cell_type": "code",
   "execution_count": 17,
   "metadata": {},
   "outputs": [
    {
     "name": "stdout",
     "output_type": "stream",
     "text": [
      "Epoch 000/010 | Loss 0.0190 | Win/lose count 10.0/49.00000000000005 (-39.00000000000005)\n",
      "Epoch 001/010 | Loss 0.0303 | Win/lose count 5.0/65.30000000000001 (-60.30000000000001)\n",
      "Epoch 002/010 | Loss 0.0088 | Win/lose count 12.0/40.600000000000044 (-28.600000000000044)\n",
      "Epoch 003/010 | Loss 0.0105 | Win/lose count 12.5/35.70000000000003 (-23.20000000000003)\n",
      "Epoch 004/010 | Loss 0.0067 | Win/lose count 23.5/20.499999999999993 (3.000000000000007)\n",
      "Epoch 005/010 | Loss 0.0111 | Win/lose count 12.5/37.10000000000005 (-24.60000000000005)\n",
      "Epoch 006/010 | Loss 0.0191 | Win/lose count 17.0/26.400000000000013 (-9.400000000000013)\n",
      "Epoch 007/010 | Loss 0.0205 | Win/lose count 17.5/24.40000000000002 (-6.90000000000002)\n",
      "Epoch 008/010 | Loss 0.0157 | Win/lose count 20.0/20.699999999999996 (-0.6999999999999957)\n",
      "Epoch 009/010 | Loss 0.0193 | Win/lose count 23.5/21.399999999999988 (2.100000000000012)\n"
     ]
    },
    {
     "data": {
      "text/html": [
       "<video alt=\"test\" controls>\n",
       "                <source src=\"data:video/mp4;base64,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\" type=\"video/mp4\" />\n",
       "             </video>"
      ],
      "text/plain": [
       "<IPython.core.display.HTML object>"
      ]
     },
     "execution_count": 17,
     "metadata": {},
     "output_type": "execute_result"
    }
   ],
   "source": [
    "# Training\n",
    "env = EnvironmentExploring(grid_size=size, max_time=T, temperature=0.3)\n",
    "agent = DQN_CNN(size, lr=1e-3, epsilon = 0.1, memory_size=2000, batch_size = 32,n_state=3)\n",
    "epochs_train = 10\n",
    "train_explore(agent, env,epochs_train , prefix='cnn_train_explore')\n",
    "HTML(display_videos('cnn_train_explore10.mp4'))"
   ]
  },
  {
   "cell_type": "code",
   "execution_count": 18,
   "metadata": {},
   "outputs": [
    {
     "name": "stdout",
     "output_type": "stream",
     "text": [
      "Win/lose count 22.0/3.0. Average score (19.0)\n",
      "Win/lose count 12.5/4.0. Average score (13.75)\n",
      "Win/lose count 17.0/4.0. Average score (13.5)\n",
      "Win/lose count 17.0/3.0. Average score (13.625)\n",
      "Win/lose count 19.0/0. Average score (14.7)\n",
      "Win/lose count 22.0/2.0. Average score (15.583333333333334)\n",
      "Win/lose count 20.5/1.0. Average score (16.142857142857142)\n",
      "Win/lose count 15.0/1.0. Average score (15.875)\n",
      "Win/lose count 20.5/1.0. Average score (16.27777777777778)\n",
      "Win/lose count 18.0/1.0. Average score (16.35)\n",
      "Win/lose count 16.5/0. Average score (16.363636363636363)\n",
      "Final score: 16.363636363636363\n"
     ]
    },
    {
     "data": {
      "text/html": [
       "<video alt=\"test\" controls>\n",
       "                <source src=\"data:video/mp4;base64,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\" type=\"video/mp4\" />\n",
       "             </video>"
      ],
      "text/plain": [
       "<IPython.core.display.HTML object>"
      ]
     },
     "execution_count": 18,
     "metadata": {},
     "output_type": "execute_result"
    }
   ],
   "source": [
    "# Evaluation\n",
    "test(agent,env,epochs_test,prefix='cnn_test_explore')\n",
    "HTML(display_videos('cnn_test_explore10.mp4'))"
   ]
  },
  {
   "cell_type": "markdown",
   "metadata": {},
   "source": [
    "***\n",
    "***\n",
    "__BONUS question__ Use the expert DQN from the previous question to generate some winning games. Train a model that mimicks its behavior. Compare the performances."
   ]
  },
  {
   "cell_type": "markdown",
   "metadata": {},
   "source": []
  },
  {
   "cell_type": "markdown",
   "metadata": {},
   "source": [
    "### Question\n",
    "- Quel est la dichotomie à faire sur ```Game Over``` ?"
   ]
  },
  {
   "cell_type": "code",
   "execution_count": null,
   "metadata": {},
   "outputs": [],
   "source": []
  },
  {
   "cell_type": "markdown",
   "metadata": {},
   "source": [
    "***"
   ]
  }
 ],
 "metadata": {
  "kernelspec": {
   "display_name": "Python 3",
   "language": "python",
   "name": "python3"
  },
  "language_info": {
   "codemirror_mode": {
    "name": "ipython",
    "version": 3
   },
   "file_extension": ".py",
   "mimetype": "text/x-python",
   "name": "python",
   "nbconvert_exporter": "python",
   "pygments_lexer": "ipython3",
   "version": "3.7.6"
  }
 },
 "nbformat": 4,
 "nbformat_minor": 2
}
